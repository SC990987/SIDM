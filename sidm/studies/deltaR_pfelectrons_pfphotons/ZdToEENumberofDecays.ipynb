{
 "cells": [
  {
   "cell_type": "markdown",
   "id": "18424386-88bd-4810-83b0-9b956d846a18",
   "metadata": {},
   "source": [
    "## This notebook is to investigate the following\n",
    "## How often does the Zd-->ee decay result in 0, 1, 2, ... electrons or photons?"
   ]
  },
  {
   "cell_type": "code",
   "execution_count": 1,
   "id": "d7c8a1a7-fd26-4c70-8596-c38dbc7a8826",
   "metadata": {
    "tags": []
   },
   "outputs": [],
   "source": [
    "# python\n",
    "import sys\n",
    "import os\n",
    "import importlib\n",
    "# columnar analysis\n",
    "from coffea.nanoevents import NanoAODSchema\n",
    "from coffea import processor\n",
    "# local \n",
    "sidm_path = str(sys.path[0]).split(\"/sidm\")[0]\n",
    "if sidm_path not in sys.path: sys.path.insert(1, sidm_path)\n",
    "from sidm.tools import sidm_processor, utilities\n",
    "# always reload local modules to pick up changes during development\n",
    "importlib.reload(sidm_processor)\n",
    "importlib.reload(utilities)\n",
    "# plotting\n",
    "import matplotlib.pyplot as plt\n",
    "utilities.set_plot_style()\n",
    "%matplotlib inline\n",
    "import warnings\n",
    "warnings.filterwarnings(action='once')"
   ]
  },
  {
   "cell_type": "code",
   "execution_count": 2,
   "id": "be697ab3-40fb-4449-9189-6e4e6ae6cca9",
   "metadata": {
    "tags": []
   },
   "outputs": [
    {
     "data": {
      "application/vnd.jupyter.widget-view+json": {
       "model_id": "3e64ef1268ae4ebb87e4bd730a39fe1d",
       "version_major": 2,
       "version_minor": 0
      },
      "text/plain": [
       "Output()"
      ]
     },
     "metadata": {},
     "output_type": "display_data"
    },
    {
     "data": {
      "text/html": [
       "<pre style=\"white-space:pre;overflow-x:auto;line-height:normal;font-family:Menlo,'DejaVu Sans Mono',consolas,'Courier New',monospace\"></pre>\n"
      ],
      "text/plain": []
     },
     "metadata": {},
     "output_type": "display_data"
    },
    {
     "data": {
      "text/html": [
       "<pre style=\"white-space:pre;overflow-x:auto;line-height:normal;font-family:Menlo,'DejaVu Sans Mono',consolas,'Courier New',monospace\">\n",
       "</pre>\n"
      ],
      "text/plain": [
       "\n"
      ]
     },
     "metadata": {},
     "output_type": "display_data"
    },
    {
     "data": {
      "application/vnd.jupyter.widget-view+json": {
       "model_id": "facbcaff0338404b9f557d1c42a9c6d6",
       "version_major": 2,
       "version_minor": 0
      },
      "text/plain": [
       "Output()"
      ]
     },
     "metadata": {},
     "output_type": "display_data"
    },
    {
     "data": {
      "text/html": [
       "<pre style=\"white-space:pre;overflow-x:auto;line-height:normal;font-family:Menlo,'DejaVu Sans Mono',consolas,'Courier New',monospace\">/opt/conda/lib/python3.9/site-packages/awkward/_connect/_numpy.py:195: RuntimeWarning: invalid value encountered in\n",
       "divide\n",
       "  result = getattr(ufunc, method)(\n",
       "</pre>\n"
      ],
      "text/plain": [
       "/opt/conda/lib/python3.9/site-packages/awkward/_connect/_numpy.py:195: RuntimeWarning: invalid value encountered in\n",
       "divide\n",
       "  result = getattr(ufunc, method)(\n"
      ]
     },
     "metadata": {},
     "output_type": "display_data"
    },
    {
     "data": {
      "text/html": [
       "<pre style=\"white-space:pre;overflow-x:auto;line-height:normal;font-family:Menlo,'DejaVu Sans Mono',consolas,'Courier New',monospace\">/opt/conda/lib/python3.9/site-packages/awkward/_connect/_numpy.py:195: RuntimeWarning: divide by zero encountered \n",
       "in divide\n",
       "  result = getattr(ufunc, method)(\n",
       "</pre>\n"
      ],
      "text/plain": [
       "/opt/conda/lib/python3.9/site-packages/awkward/_connect/_numpy.py:195: RuntimeWarning: divide by zero encountered \n",
       "in divide\n",
       "  result = getattr(ufunc, method)(\n"
      ]
     },
     "metadata": {},
     "output_type": "display_data"
    },
    {
     "name": "stdout",
     "output_type": "stream",
     "text": [
      "#--------------------------------------------------------------------------\n",
      "#                         FastJet release 3.4.0\n",
      "#                 M. Cacciari, G.P. Salam and G. Soyez                  \n",
      "#     A software package for jet finding and analysis at colliders      \n",
      "#                           http://fastjet.fr                           \n",
      "#\t                                                                      \n",
      "# Please cite EPJC72(2012)1896 [arXiv:1111.6097] if you use this package\n",
      "# for scientific work and optionally PLB641(2006)57 [hep-ph/0512210].   \n",
      "#                                                                       \n",
      "# FastJet is provided without warranty under the GNU GPL v2 or higher.  \n",
      "# It uses T. Chan's closest pair algorithm, S. Fortune's Voronoi code,\n",
      "# CGAL and 3rd party plugin jet algorithms. See COPYING file for details.\n",
      "#--------------------------------------------------------------------------\n"
     ]
    },
    {
     "data": {
      "text/html": [
       "<pre style=\"white-space:pre;overflow-x:auto;line-height:normal;font-family:Menlo,'DejaVu Sans Mono',consolas,'Courier New',monospace\"></pre>\n"
      ],
      "text/plain": []
     },
     "metadata": {},
     "output_type": "display_data"
    },
    {
     "data": {
      "text/html": [
       "<pre style=\"white-space:pre;overflow-x:auto;line-height:normal;font-family:Menlo,'DejaVu Sans Mono',consolas,'Courier New',monospace\">\n",
       "</pre>\n"
      ],
      "text/plain": [
       "\n"
      ]
     },
     "metadata": {},
     "output_type": "display_data"
    }
   ],
   "source": [
    "samples = [\n",
    "    \"2Mu2E_500GeV_5p0GeV_0p08mm\",\n",
    "    \"2Mu2E_500GeV_5p0GeV_0p8mm\",\n",
    "    \"2Mu2E_500GeV_5p0GeV_8p0mm\",\n",
    "    \"2Mu2E_500GeV_5p0GeV_40p0mm\",\n",
    "    \"2Mu2E_500GeV_5p0GeV_80p0mm\",\n",
    "    \n",
    "]\n",
    "fileset = utilities.make_fileset(samples, \"llpNanoAOD_v2\", max_files=1, location_cfg=\"signal_v6.yaml\")\n",
    "\n",
    "runner = processor.Runner(\n",
    "    executor=processor.IterativeExecutor(),\n",
    "    #executor=processor.FuturesExecutor(),\n",
    "    schema=NanoAODSchema,\n",
    "    #maxchunks=1,\n",
    ")\n",
    "\n",
    "\n",
    "channels = [\"base\", \"basenoVeto\", \"basenoPixel\", \"basenoIso\"]\n",
    "p = sidm_processor.SidmProcessor(\n",
    "    channels,\n",
    "    [\n",
    "        \"genA_base\",\n",
    "        \"genE_base\",\n",
    "        \"lepton_genA_base\",\n",
    "        \"lj_base\",\n",
    "    ],\n",
    ")\n",
    "\n",
    "output = runner.run(fileset, treename=\"Events\", processor_instance=p)\n",
    "out = output[\"out\"]"
   ]
  },
  {
   "cell_type": "code",
   "execution_count": null,
   "id": "6762ce09-a44b-44f2-a76b-e05f4deb8319",
   "metadata": {
    "tags": []
   },
   "outputs": [],
   "source": [
    "#list of all histograms \n",
    "for key in out['2Mu2E_500GeV_5p0GeV_0p8mm']['hists'].keys():\n",
    "    print(key)"
   ]
  },
  {
   "cell_type": "code",
   "execution_count": null,
   "id": "81ef2c6d-4440-43a4-86e5-1580cd10c54d",
   "metadata": {
    "tags": []
   },
   "outputs": [],
   "source": [
    "################################################################# Muon related Quantities ###########################################################################################\n",
    "# legend_entries = [s[6:] for s in samples]\n",
    "# nplots = 2\n",
    "# # lxy and dR for reference\n",
    "# plt.subplots(1, nplots, figsize=(nplots*12, 10))\n",
    "# plt.subplot(1, nplots, 1)\n",
    "# for sample in samples:\n",
    "#     utilities.plot(out[sample][\"hists\"]['genAs_lxy_lowRange'][channels[0], :], density=True)\n",
    "# plt.legend(legend_entries, alignment=\"left\")\n",
    "# plt.ylabel(\"Arbitrary units\")\n",
    "# plt.subplot(1, nplots, 2)\n",
    "# for sample in samples:\n",
    "#     utilities.plot(out[sample][\"hists\"][\"genMu_genMu_dR_lowRange\"][channels[0], :0.4j], density=True)\n",
    "# plt.legend(legend_entries, alignment=\"left\")\n",
    "# plt.ylabel(\"Arbitrary units\")\n",
    "\n",
    "# # number of muons near dark photon\n",
    "# plt.subplots(1, nplots, figsize=(nplots*12, 10))\n",
    "# plt.subplot(1, nplots, 1)\n",
    "# for sample in samples:\n",
    "#     utilities.plot(out[sample][\"hists\"][\"muon_nearGenA_n\"][channels[0], :], density=True)\n",
    "# plt.legend(legend_entries, alignment=\"left\")\n",
    "# plt.ylabel(\"Arbitrary units\")\n",
    "# plt.subplot(1, nplots, 2)\n",
    "# for sample in samples:\n",
    "#     utilities.plot(out[sample][\"hists\"][\"muon_nearGenA_n\"][channels[0], :], density=True)\n",
    "# plt.legend(legend_entries, alignment=\"left\")\n",
    "# plt.ylabel(\"Arbitrary units\")\n",
    "# plt.yscale(\"log\")\n",
    "\n",
    "# # number of DSA muons near dark photon\n",
    "# plt.subplots(1, nplots, figsize=(nplots*12, 10))\n",
    "# plt.subplot(1, nplots, 1)\n",
    "# for sample in samples:\n",
    "#     utilities.plot(out[sample][\"hists\"][\"dsaMuon_nearGenA_n\"][channels[0], :], density=True)\n",
    "# plt.legend(legend_entries, alignment=\"left\")\n",
    "# plt.ylabel(\"Arbitrary units\")\n",
    "# plt.subplot(1, nplots, 2)\n",
    "# for sample in samples:\n",
    "#     utilities.plot(out[sample][\"hists\"][\"dsaMuon_nearGenA_n\"][channels[0], :], density=True)\n",
    "# plt.legend(legend_entries, alignment=\"left\")\n",
    "# plt.ylabel(\"Arbitrary units\")\n",
    "# plt.yscale(\"log\")"
   ]
  },
  {
   "cell_type": "code",
   "execution_count": 4,
   "id": "8395fc42-50cf-4797-857c-c50f8acb4bf2",
   "metadata": {
    "tags": []
   },
   "outputs": [
    {
     "data": {
      "text/plain": [
       "<Figure size 1200x500 with 0 Axes>"
      ]
     },
     "metadata": {},
     "output_type": "display_data"
    }
   ],
   "source": [
    "legend_entries = [s[6:] for s in samples]\n",
    "nplots = 2\n",
    "\n",
    "# number of electrons near dark photon\n",
    "plt.subplots(1, nplots, figsize=(nplots*12, 10))\n",
    "for i, sample in enumerate(samples):\n",
    "    # First subplot\n",
    "    ax1 = plt.subplot(1, nplots, 1)\n",
    "\n",
    "    utilities.plot(out[sample][\"hists\"][\"electron_nearGenA_n\"][channels[0], :], density=True, label='PixelSeed & ElecVeto')\n",
    "    utilities.plot(out[sample][\"hists\"][\"electron_nearGenA_n\"][channels[1], :], density=True, label='PixelSeed Only')\n",
    "    utilities.plot(out[sample][\"hists\"][\"electron_nearGenA_n\"][channels[2], :], density=True, label='ElecVeto Only')\n",
    "    utilities.plot(out[sample][\"hists\"][\"electron_nearGenA_n\"][channels[3], :], density=True, label='Neither')\n",
    "    ax1.legend(alignment=\"left\")\n",
    "    ax1.set_ylabel(\"Arbitrary units\")\n",
    "\n",
    "    # Add text in the bottom-right corner of the first subplot\n",
    "    ax1.text(0.95, 0.05, f'{legend_entries[i]}', transform=ax1.transAxes, \n",
    "             fontsize=25, color='k', ha='right', va='bottom')\n",
    "\n",
    "    # Second subplot\n",
    "    ax2 = plt.subplot(1, nplots, 2)\n",
    "\n",
    "    utilities.plot(out[sample][\"hists\"][\"photon_nearGenA_n\"][channels[0], :], density=True, label='PixelSeed & ElecVeto')\n",
    "    utilities.plot(out[sample][\"hists\"][\"photon_nearGenA_n\"][channels[1], :], density=True, label='PixelSeed Only')\n",
    "    utilities.plot(out[sample][\"hists\"][\"photon_nearGenA_n\"][channels[2], :], density=True, label='ElecVeto Only')\n",
    "    utilities.plot(out[sample][\"hists\"][\"photon_nearGenA_n\"][channels[3], :], density=True, label='Neither')\n",
    "    ax2.legend(alignment=\"left\")\n",
    "    ax2.set_ylabel(\"Arbitrary units\")\n",
    "\n",
    "    # Add text in the bottom-right corner of the second subplot\n",
    "    ax2.text(0.95, 0.05, f'{legend_entries[i]}', transform=ax2.transAxes, \n",
    "             fontsize=25, color='k', ha='right', va='bottom')\n",
    "\n",
    "    # Save the figure\n",
    "    plt.savefig(f'plots_electronsAndphotons_nearGenA_{legend_entries[i]}.png', dpi=300, facecolor='w')\n",
    "    plt.clf()"
   ]
  },
  {
   "cell_type": "markdown",
   "id": "1c3a9f25-2f23-4d5c-9573-b806fad7e72d",
   "metadata": {},
   "source": [
    "## From the plots we can see that the majority of the time only a single electron near the dark photon are reconstructed\n",
    "## The majority of the time there are not any photons near the dark photon. When the cross cleaning cuts are removed, the majority of the photons are near the dark photon\n",
    "## I would expect there to be more single photons reconstructed to account for electrons being misidientified as electrons"
   ]
  },
  {
   "cell_type": "code",
   "execution_count": null,
   "id": "3c770c6b-138d-42b7-b3e2-e3628bf84262",
   "metadata": {
    "tags": []
   },
   "outputs": [],
   "source": [
    "nplots = 1\n",
    "\n",
    "# number of electrons near dark photon\n",
    "plt.subplots(1, nplots, figsize=(nplots*12, 10))\n",
    "for i, sample in enumerate(samples):\n",
    "    utilities.plot(out[sample][\"hists\"][\"egm_lj_pt\"][channels[0], :], density=True, label='$e\\gamma$ LJ PS & EV')\n",
    "    utilities.plot(out[sample][\"hists\"][\"egm_lj_pt\"][channels[1], :], density=True, label='$e\\gamma$ LJ PS only')\n",
    "    utilities.plot(out[sample][\"hists\"][\"egm_lj_pt\"][channels[2], :], density=True, label='$e\\gamma$ LJ EV only')\n",
    "    utilities.plot(out[sample][\"hists\"][\"egm_lj_pt\"][channels[3], :], density=True, label='$e\\gamma$ LJ Neither')\n",
    "    utilities.plot(out[sample][\"hists\"][\"genAs_pt\"][channels[0], :], density=True, label='$Z_d$')\n",
    "\n",
    "    # Get the current axes object\n",
    "    ax = plt.gca()\n",
    "\n",
    "    # Add text in the bottom-right corner of the plot\n",
    "    ax.text(0.95, 0.05, f'{legend_entries[i]}', transform=ax.transAxes, \n",
    "            fontsize=25, color='k', ha='right', va='bottom')\n",
    "\n",
    "    # Display the legend and ylabel\n",
    "    plt.legend(alignment=\"left\")\n",
    "    plt.ylabel(\"Arbitrary units\")\n",
    "    \n",
    "    # Save the figure\n",
    "    plt.savefig(f'plot_ljMomentum_{legend_entries[i]}.png', dpi=300, facecolor='w')\n",
    "    plt.clf()"
   ]
  },
  {
   "cell_type": "code",
   "execution_count": 5,
   "id": "22e3b81a-712c-40bc-8edd-748a076648b2",
   "metadata": {},
   "outputs": [
    {
     "name": "stderr",
     "output_type": "stream",
     "text": [
      "<>:7: DeprecationWarning: invalid escape sequence \\g\n"
     ]
    },
    {
     "data": {
      "text/plain": [
       "<Figure size 600x500 with 0 Axes>"
      ]
     },
     "metadata": {},
     "output_type": "display_data"
    }
   ],
   "source": [
    "nplots = 1\n",
    "\n",
    "# number of electrons near dark photon\n",
    "plt.subplots(1, nplots, figsize=(nplots*12, 10))\n",
    "\n",
    "for i, sample in enumerate(samples):\n",
    "    utilities.plot(out[sample][\"hists\"][\"genA_egmLj_ptRatio\"][channels[0], :], density=True, label='$e\\gamma$ LJ PS & EV')\n",
    "    utilities.plot(out[sample][\"hists\"][\"genA_egmLj_ptRatio\"][channels[1], :], density=True, label='$e\\gamma$ LJ PS only')\n",
    "    utilities.plot(out[sample][\"hists\"][\"genA_egmLj_ptRatio\"][channels[2], :], density=True, label='$e\\gamma$ LJ EV only')\n",
    "    utilities.plot(out[sample][\"hists\"][\"genA_egmLj_ptRatio\"][channels[3], :], density=True, label='$e\\gamma$ LJ Neither')\n",
    "    \n",
    "    plt.legend(alignment=\"left\")\n",
    "    plt.ylabel(\"Arbitrary units\")\n",
    "    \n",
    "    # Get the current axes object\n",
    "    ax = plt.gca()\n",
    "\n",
    "    # Add text in the bottom-left corner of the plot\n",
    "    ax.text(0.05, 0.05, f'{legend_entries[i]}', transform=ax.transAxes, \n",
    "            fontsize=25, color='k', ha='left', va='bottom')\n",
    "\n",
    "    plt.savefig(f'plot_ljMomentum_ratios_{legend_entries[i]}.png', dpi=300, facecolor='w')\n",
    "    plt.clf()"
   ]
  },
  {
   "cell_type": "code",
   "execution_count": null,
   "id": "be3cf6b2-1ee2-4f9c-b669-4374c8a0f38f",
   "metadata": {},
   "outputs": [],
   "source": []
  }
 ],
 "metadata": {
  "kernelspec": {
   "display_name": "Python 3 (ipykernel)",
   "language": "python",
   "name": "python3"
  },
  "language_info": {
   "codemirror_mode": {
    "name": "ipython",
    "version": 3
   },
   "file_extension": ".py",
   "mimetype": "text/x-python",
   "name": "python",
   "nbconvert_exporter": "python",
   "pygments_lexer": "ipython3",
   "version": "3.9.18"
  }
 },
 "nbformat": 4,
 "nbformat_minor": 5
}
