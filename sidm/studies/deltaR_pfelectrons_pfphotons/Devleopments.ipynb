{
 "cells": [
  {
   "cell_type": "code",
   "execution_count": 1,
   "id": "eb6c8930-088f-437b-899b-f7b37c1450b3",
   "metadata": {
    "tags": []
   },
   "outputs": [],
   "source": [
    "# python\n",
    "from tqdm.notebook import tqdm\n",
    "import sys\n",
    "import os\n",
    "import importlib\n",
    "# columnar analysis\n",
    "import awkward as ak\n",
    "import mplhep as hep\n",
    "import numpy as np\n",
    "from coffea.nanoevents import NanoEventsFactory, NanoAODSchema\n",
    "# local\n",
    "sys.path.insert(1, os.path.join(sys.path[0], '../../..')) # fixme: there must be a better way to handle this...\n",
    "from sidm.tools import sidm_processor, utilities\n",
    "# always reload local modules to pick up changes during development\n",
    "importlib.reload(sidm_processor)\n",
    "importlib.reload(utilities)\n",
    "# plotting\n",
    "import matplotlib.pyplot as plt\n",
    "utilities.set_plot_style()\n",
    "%matplotlib inline"
   ]
  },
  {
   "cell_type": "code",
   "execution_count": 2,
   "id": "c9c7e8ef-fce7-4206-a2d3-af207ada92e4",
   "metadata": {
    "tags": []
   },
   "outputs": [],
   "source": [
    "def invariantMass(pt1, pt2, phi1, phi2, eta1, eta2):\n",
    "    M2 = 2*pt1*pt2*(np.cosh(eta1-eta2)-np.cos(phi1-phi2))\n",
    "    return np.sqrt(M2)"
   ]
  },
  {
   "cell_type": "code",
   "execution_count": 3,
   "id": "0a96cf78-b7d8-496e-97af-fdd14a9173e4",
   "metadata": {
    "tags": []
   },
   "outputs": [],
   "source": [
    "def deltaR(genetas, eta, genphis, phi):\n",
    "    pi = np.pi\n",
    "    return np.sqrt((genetas-eta)**2+((genphis-phi+pi)%(2*pi)-pi)**2)\n"
   ]
  },
  {
   "cell_type": "code",
   "execution_count": 4,
   "id": "c2e6bc07-2c69-4f24-a7de-8e6243cfcde8",
   "metadata": {
    "tags": []
   },
   "outputs": [],
   "source": [
    "samples = [\n",
    "    \"2Mu2E_500GeV_5p0GeV_0p8mm\",\n",
    "]\n",
    "fileset = utilities.make_fileset(samples, \"llpNanoAOD_v2\", max_files=1, location_cfg=\"signal_v6.yaml\")"
   ]
  },
  {
   "cell_type": "code",
   "execution_count": 5,
   "id": "90475105-658f-4ec3-9488-c914f59bd023",
   "metadata": {
    "tags": []
   },
   "outputs": [
    {
     "data": {
      "application/vnd.jupyter.widget-view+json": {
       "model_id": "2d9084a4487e47f2b809531b41d2b2a4",
       "version_major": 2,
       "version_minor": 0
      },
      "text/plain": [
       "  0%|          | 0/1 [00:00<?, ?it/s]"
      ]
     },
     "metadata": {},
     "output_type": "display_data"
    },
    {
     "name": "stdout",
     "output_type": "stream",
     "text": [
      "root://xcache//store/group/lpcmetx/SIDM/ULSignalSamples/2018_v6/LLPNanoAOD_V2/SIDM_BsTo2DpTo2Mu2e_MBs-500_MDp-5p0_ctau-0p8/LLPnanoAODv2/SIDM_BsTo2DpTo2Mu2e_MBs-500_MDp-5p0_ctau-0p8_part-0.root\n"
     ]
    }
   ],
   "source": [
    "events = {}\n",
    "\n",
    "for i in tqdm(samples):\n",
    "    fname = fileset[i][0]\n",
    "    print(fname)\n",
    "    events[i] = NanoEventsFactory.from_root(\n",
    "        fname,\n",
    "        schemaclass=NanoAODSchema,\n",
    "    ).events()"
   ]
  },
  {
   "cell_type": "code",
   "execution_count": 6,
   "id": "cb0e521a-ac1b-472f-bc87-7620fd15958d",
   "metadata": {
    "tags": []
   },
   "outputs": [
    {
     "data": {
      "text/plain": [
       "Text(0.5, 1.0, '2Mu2E_500GeV_5p0GeV_0p8mm')"
      ]
     },
     "execution_count": 6,
     "metadata": {},
     "output_type": "execute_result"
    },
    {
     "data": {
      "image/png": "[encoded data removed]",
      "text/plain": [
       "<Figure size 500x500 with 1 Axes>"
      ]
     },
     "metadata": {},
     "output_type": "display_data"
    }
   ],
   "source": [
    "'''\n",
    "from selections\n",
    "electrons: &electrons_ljsource_cuts\n",
    "      - \"pT > 10 GeV\"\n",
    "      - \"|eta| < 2.4\"\n",
    "      - \"looseID\"\n",
    "photons:\n",
    "      - \"pT > 20 GeV\"\n",
    "      - \"eta\"\n",
    "      - \"looseID\"\n",
    "      - \"pixelSeed\"\n",
    "      - \"electronVeto\"\n",
    "'''\n",
    "\n",
    "Electrons = events['2Mu2E_500GeV_5p0GeV_0p8mm']['Electron']\n",
    "Photons = events['2Mu2E_500GeV_5p0GeV_0p8mm']['Photon']\n",
    "\n",
    "#Electron Cuts\n",
    "recoElecPT = (Electrons.pt > 10)\n",
    "recoElecEta = (abs(Electrons.eta) < 2.4)\n",
    "recoElecLoose = (Electrons.cutBased >= 2)\n",
    "recoElecCut = recoElecPT & recoElecEta & recoElecLoose\n",
    "\n",
    "#Photon Cuts\n",
    "recoPhotonPT = (Photons.pt > 20)\n",
    "recoPhotonEta = (Photons.isScEtaEB | Photons.isScEtaEE)\n",
    "recoPhotonLoose = (Photons.cutBased >= 1)\n",
    "pixelSeed = (Photons.pixelSeed == False)\n",
    "electronVeto = (Photons.electronVeto)\n",
    "recoPhotonCut = recoPhotonPT & recoPhotonEta & recoPhotonLoose & pixelSeed & electronVeto\n",
    "recoPhotonCutNoVeto = recoPhotonPT & recoPhotonEta & recoPhotonLoose & pixelSeed\n",
    "recoPhotonCutNoPixel = recoPhotonPT & recoPhotonEta & recoPhotonLoose & electronVeto\n",
    "recoPhotonCutNeither = recoPhotonPT & recoPhotonEta & recoPhotonLoose\n",
    "#Final Selection\n",
    "Electrons = Electrons[recoElecCut]\n",
    "PhotonsNoIso = Photons[recoPhotonCutNeither]\n",
    "PhotonsNoPixel = Photons[recoPhotonCutNoPixel]\n",
    "PhotonsNoVeto = Photons[recoPhotonCutNoVeto]\n",
    "Photons = Photons[recoPhotonCut]\n",
    "\n",
    "#computing deltaR between Electrons and Photons\n",
    "recoDR = utilities.dR(Electrons, Photons)\n",
    "non_empty_mask = (ak.num(recoDR) > 0)\n",
    "filteredDR = recoDR[non_empty_mask]\n",
    "noneArray = [] ## For some reason dR returns 'None' Elements? and not sure how to remove them so making my own mask\n",
    "for ent in filteredDR:\n",
    "    if ent[0] == None:\n",
    "        noneArray.append(False)\n",
    "    else:\n",
    "        noneArray.append(True)\n",
    "noneArray = ak.Array(noneArray)\n",
    "filteredDR = filteredDR[noneArray]\n",
    "recoDRs = ak.min(filteredDR, axis=1)\n",
    "\n",
    "#Plot of DR(Electron, Photon)\n",
    "plt.hist(recoDRs, bins=np.linspace(0,0.1,50)) ## Not sure why this looks different from the histos.py plot?? Ask about this\n",
    "plt.ylabel('Entries per bin')\n",
    "plt.xlabel('$\\Delta$R(RecoElectron, RecoPhoton)')\n",
    "plt.title('2Mu2E_500GeV_5p0GeV_0p8mm')"
   ]
  },
  {
   "cell_type": "code",
   "execution_count": 7,
   "id": "ca372dd1-3ae3-4959-9535-7b7790e723b5",
   "metadata": {
    "tags": []
   },
   "outputs": [],
   "source": [
    "\n",
    "#Cuts for Gen Particles\n",
    "pdgidCut = (abs(events['2Mu2E_500GeV_5p0GeV_0p8mm']['GenPart']['pdgId']) == 11)\n",
    "ptCut = (events['2Mu2E_500GeV_5p0GeV_0p8mm']['GenPart']['pt'] > 10)\n",
    "ptCutPhoton = (events['2Mu2E_500GeV_5p0GeV_0p8mm']['GenPart']['pt'] > 20)\n",
    "etaCut = (abs(events['2Mu2E_500GeV_5p0GeV_0p8mm']['GenPart']['eta'])<2.4)\n",
    "etaCutPhoton = (abs(events['2Mu2E_500GeV_5p0GeV_0p8mm']['GenPart']['eta'])<2.5)\n",
    "statusCut = (events['2Mu2E_500GeV_5p0GeV_0p8mm']['GenPart']['status'] == 23)\n",
    "photonidCut = (abs(events['2Mu2E_500GeV_5p0GeV_0p8mm']['GenPart']['pdgId']) == 22)\n",
    "cut = pdgidCut & ptCut & etaCut & statusCut\n",
    "photonCut = photonidCut & ptCutPhoton & etaCutPhoton \n",
    "\n",
    "\n",
    "\n"
   ]
  },
  {
   "cell_type": "code",
   "execution_count": 8,
   "id": "8fcadb12-16b4-4cc8-a935-30993057dffc",
   "metadata": {
    "tags": []
   },
   "outputs": [],
   "source": [
    "genParticles = events['2Mu2E_500GeV_5p0GeV_0p8mm']['GenPart']\n",
    "genElectrons = genParticles[cut]\n",
    "electronCut = (ak.num(genElectrons)==2)\n",
    "genElectrons = genElectrons[electronCut]\n",
    "genPhotons = genParticles[photonCut]\n",
    "genPhotons = genPhotons[electronCut]"
   ]
  },
  {
   "cell_type": "code",
   "execution_count": 9,
   "id": "3ee0c8e9-101f-4451-800f-437e24fbcc0b",
   "metadata": {
    "tags": []
   },
   "outputs": [],
   "source": [
    "evtMatchPhotons = Photons[electronCut]\n",
    "evtMatchElectrons = Electrons[electronCut]"
   ]
  },
  {
   "cell_type": "code",
   "execution_count": 10,
   "id": "a1a4dd7f-7fc8-4707-9074-5fe37d2ec552",
   "metadata": {
    "tags": []
   },
   "outputs": [],
   "source": [
    "nonEmpty = ak.num(evtMatchPhotons) > 0"
   ]
  },
  {
   "cell_type": "code",
   "execution_count": 11,
   "id": "5bd0b89a-084f-4ca4-9a4a-995b24022a82",
   "metadata": {
    "tags": []
   },
   "outputs": [],
   "source": [
    "evtMatchPhotons = evtMatchPhotons[nonEmpty]\n",
    "genElectrons = genElectrons[nonEmpty]"
   ]
  },
  {
   "cell_type": "code",
   "execution_count": 12,
   "id": "911bd8c9-9e4e-4a22-8f55-f2173534c8f0",
   "metadata": {
    "tags": []
   },
   "outputs": [],
   "source": [
    "photon_genpartidx_deltar=[]\n",
    "genpart_eta = genElectrons.eta\n",
    "genpart_phi = genElectrons.phi\n",
    "photon_eta = evtMatchPhotons.eta\n",
    "photon_phi = evtMatchPhotons.phi\n",
    "for genetas, genphis, etas, phis in zip(genpart_eta, genpart_phi, photon_eta, photon_phi):\n",
    "    idx=[]\n",
    "    for eta, phi in zip(etas, phis):\n",
    "        deltar=deltaR(genetas, eta, genphis, phi)\n",
    "        #print(deltar)\n",
    "        if ak.min(deltar)<0.011:\n",
    "            idx.append(ak.argmin(deltar))\n",
    "        else:\n",
    "            idx.append(-1)\n",
    "    photon_genpartidx_deltar.append(idx)"
   ]
  },
  {
   "cell_type": "code",
   "execution_count": 13,
   "id": "a7cd9108-4f96-4cd9-b2d5-b98882e6bb51",
   "metadata": {
    "tags": []
   },
   "outputs": [],
   "source": [
    "masking_genmatched=(ak.Array(photon_genpartidx_deltar)!=-1)"
   ]
  },
  {
   "cell_type": "code",
   "execution_count": 14,
   "id": "dcb79304-0f85-449e-9101-b457b4641c41",
   "metadata": {
    "tags": []
   },
   "outputs": [],
   "source": [
    "genMatchedPhotons = evtMatchPhotons[masking_genmatched]\n",
    "genMatchedGenElectrons = genElectrons[masking_genmatched]"
   ]
  },
  {
   "cell_type": "code",
   "execution_count": 15,
   "id": "b2ffbef5-0b59-4304-96a0-02147d3f9875",
   "metadata": {
    "tags": []
   },
   "outputs": [],
   "source": [
    "pts = []\n",
    "etas = []\n",
    "phis = []\n",
    "for i in range(len(photon_genpartidx_deltar)):\n",
    "    if len(photon_genpartidx_deltar[i]) == 1:\n",
    "        if photon_genpartidx_deltar[i][0] == -1: continue\n",
    "        if photon_genpartidx_deltar[i][0] == 0:\n",
    "            pts.append([genMatchedPhotons[i].pt[0], genElectrons[i].pt[1]])\n",
    "            etas.append([genMatchedPhotons[i].eta[0], genElectrons[i].eta[1]])\n",
    "            phis.append([genMatchedPhotons[i].phi[0], genElectrons[i].phi[1]])\n",
    "        if photon_genpartidx_deltar[i][0] == 1:\n",
    "            pts.append([genElectrons[i].pt[0], genMatchedPhotons[i].pt[0]])\n",
    "            etas.append([genElectrons[i].eta[0], genMatchedPhotons[i].eta[0]])\n",
    "            phis.append([genElectrons[i].eta[0], genMatchedPhotons[i].eta[0]])\n",
    "                        \n",
    "        \n",
    "    "
   ]
  },
  {
   "cell_type": "code",
   "execution_count": 16,
   "id": "c1dee99e-cd72-4c48-b462-2bf4a0c1975c",
   "metadata": {
    "tags": []
   },
   "outputs": [],
   "source": [
    "masses = []\n",
    "for i in range(len(etas)):\n",
    "    masses.append(invariantMass(pts[i][0], pts[i][1], phis[i][0], phis[i][1], etas[i][0], etas[i][1]))"
   ]
  },
  {
   "cell_type": "code",
   "execution_count": 17,
   "id": "e4ecad5b-8664-4266-a33e-dc3ff6570a91",
   "metadata": {
    "tags": []
   },
   "outputs": [],
   "source": [
    "masses = np.array(masses)\n"
   ]
  },
  {
   "cell_type": "code",
   "execution_count": 18,
   "id": "3b47b478-ec5d-4976-a859-2e8a42cf3fc1",
   "metadata": {
    "tags": []
   },
   "outputs": [
    {
     "data": {
      "text/plain": [
       "Text(0.5, 1.0, '2Mu2E_500GeV_5p0GeV_0p8mm')"
      ]
     },
     "execution_count": 18,
     "metadata": {},
     "output_type": "execute_result"
    },
    {
     "data": {
      "image/png": "[encoded data removed]",
      "text/plain": [
       "<Figure size 500x500 with 1 Axes>"
      ]
     },
     "metadata": {},
     "output_type": "display_data"
    }
   ],
   "source": [
    "plt.hist(masses, bins=30, label=f'N: {len(masses)}, \\nAvg: {np.round(np.average(masses),3)} \\nSt.Dev: {np.round(np.std(masses),3)}')\n",
    "plt.legend()\n",
    "plt.ylabel('Entries per bin')\n",
    "plt.xlabel('InvMass(RecoPhoton, GenElectron) [GeV]')\n",
    "plt.title('2Mu2E_500GeV_5p0GeV_0p8mm')"
   ]
  },
  {
   "cell_type": "code",
   "execution_count": null,
   "id": "b96dcee4-6d17-4b7a-8025-4390b1c77af3",
   "metadata": {},
   "outputs": [],
   "source": []
  }
 ],
 "metadata": {
  "kernelspec": {
   "display_name": "Python 3 (ipykernel)",
   "language": "python",
   "name": "python3"
  },
  "language_info": {
   "codemirror_mode": {
    "name": "ipython",
    "version": 3
   },
   "file_extension": ".py",
   "mimetype": "text/x-python",
   "name": "python",
   "nbconvert_exporter": "python",
   "pygments_lexer": "ipython3",
   "version": "3.9.18"
  }
 },
 "nbformat": 4,
 "nbformat_minor": 5
}
