{
 "cells": [
  {
   "cell_type": "code",
   "execution_count": 1,
   "id": "570b7671-e4bf-4e86-9466-988a3d473645",
   "metadata": {
    "tags": []
   },
   "outputs": [
    {
     "data": {
      "text/plain": [
       "<module 'analysis.tools.sidm_processor' from '/home/cms-jovyan/SIDM/analysis/test_notebooks/../../analysis/tools/sidm_processor.py'>"
      ]
     },
     "execution_count": 1,
     "metadata": {},
     "output_type": "execute_result"
    }
   ],
   "source": [
    "# python\n",
    "import sys\n",
    "import os\n",
    "import importlib\n",
    "# columnar analysis\n",
    "from coffea import processor\n",
    "import awkward as ak\n",
    "from dask.distributed import Client\n",
    "#plotting\n",
    "import matplotlib.pyplot as plt\n",
    "# local\n",
    "sys.path.insert(1, os.path.join(sys.path[0], '../..')) # fixme: there must be a better way to handle this...\n",
    "from analysis.tools import ffschema, sidm_processor, scaleout\n",
    "# always reload local modules to pick up changes during development\n",
    "importlib.reload(ffschema)\n",
    "importlib.reload(sidm_processor)"
   ]
  },
  {
   "cell_type": "code",
   "execution_count": 2,
   "id": "ddba17a5-ddc2-44a2-9ad4-5042477f2f9f",
   "metadata": {},
   "outputs": [
    {
     "ename": "Exception",
     "evalue": "ModuleNotFoundError(\"No module named 'analysis'\")",
     "output_type": "error",
     "traceback": [
      "\u001b[0;31m---------------------------------------------------------------------------\u001b[0m",
      "\u001b[0;31mException\u001b[0m                                 Traceback (most recent call last)",
      "Input \u001b[0;32mIn [2]\u001b[0m, in \u001b[0;36m<cell line: 2>\u001b[0;34m()\u001b[0m\n\u001b[1;32m      1\u001b[0m \u001b[38;5;66;03m#client = Client(\"tls://bryan-2ecardwell-40cern-2ech.dask.cmsaf-prod.flatiron.hollandhpc.org:8786\")\u001b[39;00m\n\u001b[0;32m----> 2\u001b[0m client \u001b[38;5;241m=\u001b[39m \u001b[43mscaleout\u001b[49m\u001b[38;5;241;43m.\u001b[39;49m\u001b[43mmake_dask_client\u001b[49m\u001b[43m(\u001b[49m\u001b[38;5;124;43m\"\u001b[39;49m\u001b[38;5;124;43mtls://bryan-2ecardwell-40cern-2ech.dask.cmsaf-prod.flatiron.hollandhpc.org:8786\u001b[39;49m\u001b[38;5;124;43m\"\u001b[39;49m\u001b[43m)\u001b[49m\n\u001b[1;32m      3\u001b[0m \u001b[38;5;28mprint\u001b[39m(client)\n",
      "File \u001b[0;32m~/SIDM/analysis/test_notebooks/../../analysis/tools/scaleout.py:22\u001b[0m, in \u001b[0;36mmake_dask_client\u001b[0;34m(address)\u001b[0m\n\u001b[1;32m     18\u001b[0m dependency_installer \u001b[38;5;241m=\u001b[39m DependencyInstaller([\n\u001b[1;32m     19\u001b[0m     \u001b[38;5;124m\"\u001b[39m\u001b[38;5;124mgit+https://github.com/btcardwell/SIDM.git@scaleout\u001b[39m\u001b[38;5;124m\"\u001b[39m,\n\u001b[1;32m     20\u001b[0m ])\n\u001b[1;32m     21\u001b[0m client \u001b[38;5;241m=\u001b[39m Client(address)\n\u001b[0;32m---> 22\u001b[0m \u001b[43mclient\u001b[49m\u001b[38;5;241;43m.\u001b[39;49m\u001b[43mregister_worker_plugin\u001b[49m\u001b[43m(\u001b[49m\u001b[43mdependency_installer\u001b[49m\u001b[43m)\u001b[49m\n\u001b[1;32m     23\u001b[0m \u001b[38;5;28;01mreturn\u001b[39;00m client\n",
      "File \u001b[0;32m/opt/conda/lib/python3.8/site-packages/distributed/client.py:4548\u001b[0m, in \u001b[0;36mClient.register_worker_plugin\u001b[0;34m(self, plugin, name, nanny)\u001b[0m\n\u001b[1;32m   4544\u001b[0m     name \u001b[38;5;241m=\u001b[39m _get_plugin_name(plugin)\n\u001b[1;32m   4546\u001b[0m \u001b[38;5;28;01massert\u001b[39;00m name\n\u001b[0;32m-> 4548\u001b[0m \u001b[38;5;28;01mreturn\u001b[39;00m \u001b[38;5;28;43mself\u001b[39;49m\u001b[38;5;241;43m.\u001b[39;49m\u001b[43msync\u001b[49m\u001b[43m(\u001b[49m\n\u001b[1;32m   4549\u001b[0m \u001b[43m    \u001b[49m\u001b[38;5;28;43mself\u001b[39;49m\u001b[38;5;241;43m.\u001b[39;49m\u001b[43m_register_worker_plugin\u001b[49m\u001b[43m,\u001b[49m\u001b[43m \u001b[49m\u001b[43mplugin\u001b[49m\u001b[38;5;241;43m=\u001b[39;49m\u001b[43mplugin\u001b[49m\u001b[43m,\u001b[49m\u001b[43m \u001b[49m\u001b[43mname\u001b[49m\u001b[38;5;241;43m=\u001b[39;49m\u001b[43mname\u001b[49m\u001b[43m,\u001b[49m\u001b[43m \u001b[49m\u001b[43mnanny\u001b[49m\u001b[38;5;241;43m=\u001b[39;49m\u001b[43mnanny\u001b[49m\n\u001b[1;32m   4550\u001b[0m \u001b[43m\u001b[49m\u001b[43m)\u001b[49m\n",
      "File \u001b[0;32m/opt/conda/lib/python3.8/site-packages/distributed/utils.py:318\u001b[0m, in \u001b[0;36mSyncMethodMixin.sync\u001b[0;34m(self, func, asynchronous, callback_timeout, *args, **kwargs)\u001b[0m\n\u001b[1;32m    316\u001b[0m     \u001b[38;5;28;01mreturn\u001b[39;00m future\n\u001b[1;32m    317\u001b[0m \u001b[38;5;28;01melse\u001b[39;00m:\n\u001b[0;32m--> 318\u001b[0m     \u001b[38;5;28;01mreturn\u001b[39;00m \u001b[43msync\u001b[49m\u001b[43m(\u001b[49m\n\u001b[1;32m    319\u001b[0m \u001b[43m        \u001b[49m\u001b[38;5;28;43mself\u001b[39;49m\u001b[38;5;241;43m.\u001b[39;49m\u001b[43mloop\u001b[49m\u001b[43m,\u001b[49m\u001b[43m \u001b[49m\u001b[43mfunc\u001b[49m\u001b[43m,\u001b[49m\u001b[43m \u001b[49m\u001b[38;5;241;43m*\u001b[39;49m\u001b[43margs\u001b[49m\u001b[43m,\u001b[49m\u001b[43m \u001b[49m\u001b[43mcallback_timeout\u001b[49m\u001b[38;5;241;43m=\u001b[39;49m\u001b[43mcallback_timeout\u001b[49m\u001b[43m,\u001b[49m\u001b[43m \u001b[49m\u001b[38;5;241;43m*\u001b[39;49m\u001b[38;5;241;43m*\u001b[39;49m\u001b[43mkwargs\u001b[49m\n\u001b[1;32m    320\u001b[0m \u001b[43m    \u001b[49m\u001b[43m)\u001b[49m\n",
      "File \u001b[0;32m/opt/conda/lib/python3.8/site-packages/distributed/utils.py:385\u001b[0m, in \u001b[0;36msync\u001b[0;34m(loop, func, callback_timeout, *args, **kwargs)\u001b[0m\n\u001b[1;32m    383\u001b[0m \u001b[38;5;28;01mif\u001b[39;00m error:\n\u001b[1;32m    384\u001b[0m     typ, exc, tb \u001b[38;5;241m=\u001b[39m error\n\u001b[0;32m--> 385\u001b[0m     \u001b[38;5;28;01mraise\u001b[39;00m exc\u001b[38;5;241m.\u001b[39mwith_traceback(tb)\n\u001b[1;32m    386\u001b[0m \u001b[38;5;28;01melse\u001b[39;00m:\n\u001b[1;32m    387\u001b[0m     \u001b[38;5;28;01mreturn\u001b[39;00m result\n",
      "File \u001b[0;32m/opt/conda/lib/python3.8/site-packages/distributed/utils.py:358\u001b[0m, in \u001b[0;36msync.<locals>.f\u001b[0;34m()\u001b[0m\n\u001b[1;32m    356\u001b[0m         future \u001b[38;5;241m=\u001b[39m asyncio\u001b[38;5;241m.\u001b[39mwait_for(future, callback_timeout)\n\u001b[1;32m    357\u001b[0m     future \u001b[38;5;241m=\u001b[39m asyncio\u001b[38;5;241m.\u001b[39mensure_future(future)\n\u001b[0;32m--> 358\u001b[0m     result \u001b[38;5;241m=\u001b[39m \u001b[38;5;28;01myield\u001b[39;00m future\n\u001b[1;32m    359\u001b[0m \u001b[38;5;28;01mexcept\u001b[39;00m \u001b[38;5;167;01mException\u001b[39;00m:\n\u001b[1;32m    360\u001b[0m     error \u001b[38;5;241m=\u001b[39m sys\u001b[38;5;241m.\u001b[39mexc_info()\n",
      "File \u001b[0;32m/opt/conda/lib/python3.8/site-packages/tornado/gen.py:769\u001b[0m, in \u001b[0;36mRunner.run\u001b[0;34m(self)\u001b[0m\n\u001b[1;32m    766\u001b[0m exc_info \u001b[38;5;241m=\u001b[39m \u001b[38;5;28;01mNone\u001b[39;00m\n\u001b[1;32m    768\u001b[0m \u001b[38;5;28;01mtry\u001b[39;00m:\n\u001b[0;32m--> 769\u001b[0m     value \u001b[38;5;241m=\u001b[39m \u001b[43mfuture\u001b[49m\u001b[38;5;241;43m.\u001b[39;49m\u001b[43mresult\u001b[49m\u001b[43m(\u001b[49m\u001b[43m)\u001b[49m\n\u001b[1;32m    770\u001b[0m \u001b[38;5;28;01mexcept\u001b[39;00m \u001b[38;5;167;01mException\u001b[39;00m:\n\u001b[1;32m    771\u001b[0m     exc_info \u001b[38;5;241m=\u001b[39m sys\u001b[38;5;241m.\u001b[39mexc_info()\n",
      "File \u001b[0;32m/opt/conda/lib/python3.8/site-packages/distributed/client.py:4468\u001b[0m, in \u001b[0;36mClient._register_worker_plugin\u001b[0;34m(self, plugin, name, nanny)\u001b[0m\n\u001b[1;32m   4465\u001b[0m \u001b[38;5;28;01melse\u001b[39;00m:\n\u001b[1;32m   4466\u001b[0m     method \u001b[38;5;241m=\u001b[39m \u001b[38;5;28mself\u001b[39m\u001b[38;5;241m.\u001b[39mscheduler\u001b[38;5;241m.\u001b[39mregister_worker_plugin\n\u001b[0;32m-> 4468\u001b[0m responses \u001b[38;5;241m=\u001b[39m \u001b[38;5;28;01mawait\u001b[39;00m method(plugin\u001b[38;5;241m=\u001b[39mdumps(plugin, protocol\u001b[38;5;241m=\u001b[39m\u001b[38;5;241m4\u001b[39m), name\u001b[38;5;241m=\u001b[39mname)\n\u001b[1;32m   4469\u001b[0m \u001b[38;5;28;01mfor\u001b[39;00m response \u001b[38;5;129;01min\u001b[39;00m responses\u001b[38;5;241m.\u001b[39mvalues():\n\u001b[1;32m   4470\u001b[0m     \u001b[38;5;28;01mif\u001b[39;00m response[\u001b[38;5;124m\"\u001b[39m\u001b[38;5;124mstatus\u001b[39m\u001b[38;5;124m\"\u001b[39m] \u001b[38;5;241m==\u001b[39m \u001b[38;5;124m\"\u001b[39m\u001b[38;5;124merror\u001b[39m\u001b[38;5;124m\"\u001b[39m:\n",
      "File \u001b[0;32m/opt/conda/lib/python3.8/site-packages/distributed/core.py:944\u001b[0m, in \u001b[0;36mPooledRPCCall.__getattr__.<locals>.send_recv_from_rpc\u001b[0;34m(**kwargs)\u001b[0m\n\u001b[1;32m    942\u001b[0m prev_name, comm\u001b[38;5;241m.\u001b[39mname \u001b[38;5;241m=\u001b[39m comm\u001b[38;5;241m.\u001b[39mname, \u001b[38;5;124m\"\u001b[39m\u001b[38;5;124mConnectionPool.\u001b[39m\u001b[38;5;124m\"\u001b[39m \u001b[38;5;241m+\u001b[39m key\n\u001b[1;32m    943\u001b[0m \u001b[38;5;28;01mtry\u001b[39;00m:\n\u001b[0;32m--> 944\u001b[0m     \u001b[38;5;28;01mreturn\u001b[39;00m \u001b[38;5;28;01mawait\u001b[39;00m send_recv(comm\u001b[38;5;241m=\u001b[39mcomm, op\u001b[38;5;241m=\u001b[39mkey, \u001b[38;5;241m*\u001b[39m\u001b[38;5;241m*\u001b[39mkwargs)\n\u001b[1;32m    945\u001b[0m \u001b[38;5;28;01mfinally\u001b[39;00m:\n\u001b[1;32m    946\u001b[0m     \u001b[38;5;28mself\u001b[39m\u001b[38;5;241m.\u001b[39mpool\u001b[38;5;241m.\u001b[39mreuse(\u001b[38;5;28mself\u001b[39m\u001b[38;5;241m.\u001b[39maddr, comm)\n",
      "File \u001b[0;32m/opt/conda/lib/python3.8/site-packages/distributed/core.py:732\u001b[0m, in \u001b[0;36msend_recv\u001b[0;34m(comm, reply, serializers, deserializers, **kwargs)\u001b[0m\n\u001b[1;32m    730\u001b[0m \u001b[38;5;28;01mif\u001b[39;00m comm\u001b[38;5;241m.\u001b[39mdeserialize:\n\u001b[1;32m    731\u001b[0m     typ, exc, tb \u001b[38;5;241m=\u001b[39m clean_exception(\u001b[38;5;241m*\u001b[39m\u001b[38;5;241m*\u001b[39mresponse)\n\u001b[0;32m--> 732\u001b[0m     \u001b[38;5;28;01mraise\u001b[39;00m exc\u001b[38;5;241m.\u001b[39mwith_traceback(tb)\n\u001b[1;32m    733\u001b[0m \u001b[38;5;28;01melse\u001b[39;00m:\n\u001b[1;32m    734\u001b[0m     \u001b[38;5;28;01mraise\u001b[39;00m \u001b[38;5;167;01mException\u001b[39;00m(response[\u001b[38;5;124m\"\u001b[39m\u001b[38;5;124mexception_text\u001b[39m\u001b[38;5;124m\"\u001b[39m])\n",
      "File \u001b[0;32m/opt/conda/lib/python3.8/site-packages/distributed/core.py:559\u001b[0m, in \u001b[0;36mhandle_comm\u001b[0;34m()\u001b[0m\n\u001b[1;32m    557\u001b[0m         result \u001b[38;5;241m=\u001b[39m asyncio\u001b[38;5;241m.\u001b[39mensure_future(result)\n\u001b[1;32m    558\u001b[0m         \u001b[38;5;28mself\u001b[39m\u001b[38;5;241m.\u001b[39m_ongoing_coroutines\u001b[38;5;241m.\u001b[39madd(result)\n\u001b[0;32m--> 559\u001b[0m         result \u001b[38;5;241m=\u001b[39m \u001b[38;5;28;01mawait\u001b[39;00m result\n\u001b[1;32m    560\u001b[0m \u001b[38;5;28;01mexcept\u001b[39;00m CommClosedError:\n\u001b[1;32m    561\u001b[0m     \u001b[38;5;28;01mif\u001b[39;00m \u001b[38;5;28mself\u001b[39m\u001b[38;5;241m.\u001b[39mstatus \u001b[38;5;129;01min\u001b[39;00m Status\u001b[38;5;241m.\u001b[39mANY_RUNNING:\n",
      "File \u001b[0;32m/opt/conda/lib/python3.8/site-packages/distributed/scheduler.py:6615\u001b[0m, in \u001b[0;36mregister_worker_plugin\u001b[0;34m()\u001b[0m\n\u001b[1;32m   6612\u001b[0m \u001b[38;5;124;03m\"\"\"Registers a worker plugin on all running and future workers\"\"\"\u001b[39;00m\n\u001b[1;32m   6613\u001b[0m \u001b[38;5;28mself\u001b[39m\u001b[38;5;241m.\u001b[39mworker_plugins[name] \u001b[38;5;241m=\u001b[39m plugin\n\u001b[0;32m-> 6615\u001b[0m responses \u001b[38;5;241m=\u001b[39m \u001b[38;5;28;01mawait\u001b[39;00m \u001b[38;5;28mself\u001b[39m\u001b[38;5;241m.\u001b[39mbroadcast(\n\u001b[1;32m   6616\u001b[0m     msg\u001b[38;5;241m=\u001b[39m\u001b[38;5;28mdict\u001b[39m(op\u001b[38;5;241m=\u001b[39m\u001b[38;5;124m\"\u001b[39m\u001b[38;5;124mplugin-add\u001b[39m\u001b[38;5;124m\"\u001b[39m, plugin\u001b[38;5;241m=\u001b[39mplugin, name\u001b[38;5;241m=\u001b[39mname)\n\u001b[1;32m   6617\u001b[0m )\n\u001b[1;32m   6618\u001b[0m \u001b[38;5;28;01mreturn\u001b[39;00m responses\n",
      "File \u001b[0;32m/opt/conda/lib/python3.8/site-packages/distributed/scheduler.py:5342\u001b[0m, in \u001b[0;36mbroadcast\u001b[0;34m()\u001b[0m\n\u001b[1;32m   5336\u001b[0m         \u001b[38;5;28;01melse\u001b[39;00m:\n\u001b[1;32m   5337\u001b[0m             \u001b[38;5;28;01mraise\u001b[39;00m \u001b[38;5;167;01mValueError\u001b[39;00m(\n\u001b[1;32m   5338\u001b[0m                 \u001b[38;5;124m\"\u001b[39m\u001b[38;5;124mon_error must be \u001b[39m\u001b[38;5;124m'\u001b[39m\u001b[38;5;124mraise\u001b[39m\u001b[38;5;124m'\u001b[39m\u001b[38;5;124m, \u001b[39m\u001b[38;5;124m'\u001b[39m\u001b[38;5;124mreturn\u001b[39m\u001b[38;5;124m'\u001b[39m\u001b[38;5;124m, \u001b[39m\u001b[38;5;124m'\u001b[39m\u001b[38;5;124mreturn_pickle\u001b[39m\u001b[38;5;124m'\u001b[39m\u001b[38;5;124m, \u001b[39m\u001b[38;5;124m\"\u001b[39m\n\u001b[1;32m   5339\u001b[0m                 \u001b[38;5;124mf\u001b[39m\u001b[38;5;124m\"\u001b[39m\u001b[38;5;124mor \u001b[39m\u001b[38;5;124m'\u001b[39m\u001b[38;5;124mignore\u001b[39m\u001b[38;5;124m'\u001b[39m\u001b[38;5;124m; got \u001b[39m\u001b[38;5;132;01m{\u001b[39;00mon_error\u001b[38;5;132;01m!r}\u001b[39;00m\u001b[38;5;124m\"\u001b[39m\n\u001b[1;32m   5340\u001b[0m             )\n\u001b[0;32m-> 5342\u001b[0m results \u001b[38;5;241m=\u001b[39m \u001b[38;5;28;01mawait\u001b[39;00m All(\n\u001b[1;32m   5343\u001b[0m     [send_message(address) \u001b[38;5;28;01mfor\u001b[39;00m address \u001b[38;5;129;01min\u001b[39;00m addresses \u001b[38;5;28;01mif\u001b[39;00m address \u001b[38;5;129;01mis\u001b[39;00m \u001b[38;5;129;01mnot\u001b[39;00m \u001b[38;5;28;01mNone\u001b[39;00m]\n\u001b[1;32m   5344\u001b[0m )\n\u001b[1;32m   5346\u001b[0m \u001b[38;5;28;01mreturn\u001b[39;00m {k: v \u001b[38;5;28;01mfor\u001b[39;00m k, v \u001b[38;5;129;01min\u001b[39;00m \u001b[38;5;28mzip\u001b[39m(workers, results) \u001b[38;5;28;01mif\u001b[39;00m v \u001b[38;5;129;01mis\u001b[39;00m \u001b[38;5;129;01mnot\u001b[39;00m ERROR}\n",
      "File \u001b[0;32m/opt/conda/lib/python3.8/site-packages/distributed/utils.py:216\u001b[0m, in \u001b[0;36mAll\u001b[0;34m()\u001b[0m\n\u001b[1;32m    214\u001b[0m \u001b[38;5;28;01mwhile\u001b[39;00m \u001b[38;5;129;01mnot\u001b[39;00m tasks\u001b[38;5;241m.\u001b[39mdone():\n\u001b[1;32m    215\u001b[0m     \u001b[38;5;28;01mtry\u001b[39;00m:\n\u001b[0;32m--> 216\u001b[0m         result \u001b[38;5;241m=\u001b[39m \u001b[38;5;28;01mawait\u001b[39;00m tasks\u001b[38;5;241m.\u001b[39mnext()\n\u001b[1;32m    217\u001b[0m     \u001b[38;5;28;01mexcept\u001b[39;00m \u001b[38;5;167;01mException\u001b[39;00m:\n\u001b[1;32m    219\u001b[0m         \u001b[38;5;129m@gen\u001b[39m\u001b[38;5;241m.\u001b[39mcoroutine\n\u001b[1;32m    220\u001b[0m         \u001b[38;5;28;01mdef\u001b[39;00m \u001b[38;5;21mquiet\u001b[39m():\n",
      "File \u001b[0;32m/opt/conda/lib/python3.8/site-packages/distributed/scheduler.py:5320\u001b[0m, in \u001b[0;36msend_message\u001b[0;34m()\u001b[0m\n\u001b[1;32m   5318\u001b[0m comm\u001b[38;5;241m.\u001b[39mname \u001b[38;5;241m=\u001b[39m \u001b[38;5;124m\"\u001b[39m\u001b[38;5;124mScheduler Broadcast\u001b[39m\u001b[38;5;124m\"\u001b[39m\n\u001b[1;32m   5319\u001b[0m \u001b[38;5;28;01mtry\u001b[39;00m:\n\u001b[0;32m-> 5320\u001b[0m     resp \u001b[38;5;241m=\u001b[39m \u001b[38;5;28;01mawait\u001b[39;00m send_recv(\n\u001b[1;32m   5321\u001b[0m         comm, close\u001b[38;5;241m=\u001b[39m\u001b[38;5;28;01mTrue\u001b[39;00m, serializers\u001b[38;5;241m=\u001b[39mserializers, \u001b[38;5;241m*\u001b[39m\u001b[38;5;241m*\u001b[39mmsg\n\u001b[1;32m   5322\u001b[0m     )\n\u001b[1;32m   5323\u001b[0m \u001b[38;5;28;01mfinally\u001b[39;00m:\n\u001b[1;32m   5324\u001b[0m     \u001b[38;5;28mself\u001b[39m\u001b[38;5;241m.\u001b[39mrpc\u001b[38;5;241m.\u001b[39mreuse(addr, comm)\n",
      "File \u001b[0;32m/opt/conda/lib/python3.8/site-packages/distributed/core.py:734\u001b[0m, in \u001b[0;36msend_recv\u001b[0;34m()\u001b[0m\n\u001b[1;32m    732\u001b[0m         \u001b[38;5;28;01mraise\u001b[39;00m exc\u001b[38;5;241m.\u001b[39mwith_traceback(tb)\n\u001b[1;32m    733\u001b[0m     \u001b[38;5;28;01melse\u001b[39;00m:\n\u001b[0;32m--> 734\u001b[0m         \u001b[38;5;28;01mraise\u001b[39;00m \u001b[38;5;167;01mException\u001b[39;00m(response[\u001b[38;5;124m\"\u001b[39m\u001b[38;5;124mexception_text\u001b[39m\u001b[38;5;124m\"\u001b[39m])\n\u001b[1;32m    735\u001b[0m \u001b[38;5;28;01mreturn\u001b[39;00m response\n",
      "\u001b[0;31mException\u001b[0m: ModuleNotFoundError(\"No module named 'analysis'\")"
     ]
    }
   ],
   "source": [
    "#client = Client(\"tls://bryan-2ecardwell-40cern-2ech.dask.cmsaf-prod.flatiron.hollandhpc.org:8786\")\n",
    "client = scaleout.make_dask_client(\"tls://bryan-2ecardwell-40cern-2ech.dask.cmsaf-prod.flatiron.hollandhpc.org:8786\")\n",
    "print(client)"
   ]
  },
  {
   "cell_type": "code",
   "execution_count": 3,
   "id": "d7b4523a-31ff-4529-b656-2548c8d8692a",
   "metadata": {},
   "outputs": [
    {
     "ename": "NameError",
     "evalue": "name 'client' is not defined",
     "output_type": "error",
     "traceback": [
      "\u001b[0;31m---------------------------------------------------------------------------\u001b[0m",
      "\u001b[0;31mNameError\u001b[0m                                 Traceback (most recent call last)",
      "Input \u001b[0;32mIn [3]\u001b[0m, in \u001b[0;36m<cell line: 7>\u001b[0;34m()\u001b[0m\n\u001b[1;32m      1\u001b[0m fileset \u001b[38;5;241m=\u001b[39m {\n\u001b[1;32m      2\u001b[0m     \u001b[38;5;124m\"\u001b[39m\u001b[38;5;124m2Mu2E_100GeV_1p2GeV_9p6mm\u001b[39m\u001b[38;5;124m\"\u001b[39m: [\n\u001b[1;32m      3\u001b[0m         \u001b[38;5;124m\"\u001b[39m\u001b[38;5;124mroot://xcache//store/group/lpcmetx/SIDM/ffNtupleV4/2018/SIDM_XXTo2ATo2Mu2E_mXX-100_mA-1p2_ctau-9p6_TuneCP5_13TeV-madgraph-pythia8/RunIIAutumn18DRPremix-102X_upgrade2018_realistic_v15-v1/210326_161703/0000/ffNtuple_1.root\u001b[39m\u001b[38;5;124m\"\u001b[39m,\n\u001b[1;32m      4\u001b[0m     ],\n\u001b[1;32m      5\u001b[0m }\n\u001b[1;32m      7\u001b[0m runner \u001b[38;5;241m=\u001b[39m processor\u001b[38;5;241m.\u001b[39mRunner(\n\u001b[1;32m      8\u001b[0m     \u001b[38;5;66;03m#executor=processor.IterativeExecutor(),\u001b[39;00m\n\u001b[1;32m      9\u001b[0m     \u001b[38;5;66;03m#executor=processor.FuturesExecutor(),\u001b[39;00m\n\u001b[0;32m---> 10\u001b[0m     executor\u001b[38;5;241m=\u001b[39mprocessor\u001b[38;5;241m.\u001b[39mDaskExecutor(client\u001b[38;5;241m=\u001b[39m\u001b[43mclient\u001b[49m),\n\u001b[1;32m     11\u001b[0m     schema\u001b[38;5;241m=\u001b[39mffschema\u001b[38;5;241m.\u001b[39mFFSchema,\n\u001b[1;32m     12\u001b[0m )\n\u001b[1;32m     14\u001b[0m p \u001b[38;5;241m=\u001b[39m sidm_processor\u001b[38;5;241m.\u001b[39mSidmProcessor(\n\u001b[1;32m     15\u001b[0m     [\n\u001b[1;32m     16\u001b[0m         \u001b[38;5;124m\"\u001b[39m\u001b[38;5;124m2mu2e\u001b[39m\u001b[38;5;124m\"\u001b[39m,\n\u001b[1;32m     17\u001b[0m     ],\n\u001b[1;32m     18\u001b[0m     [\u001b[38;5;124m\"\u001b[39m\u001b[38;5;124mbase\u001b[39m\u001b[38;5;124m\"\u001b[39m]\n\u001b[1;32m     19\u001b[0m )\n\u001b[1;32m     21\u001b[0m \u001b[38;5;66;03m# test if processor is serializable\u001b[39;00m\n",
      "\u001b[0;31mNameError\u001b[0m: name 'client' is not defined"
     ]
    }
   ],
   "source": [
    "fileset = {\n",
    "    \"2Mu2E_100GeV_1p2GeV_9p6mm\": [\n",
    "        \"root://xcache//store/group/lpcmetx/SIDM/ffNtupleV4/2018/SIDM_XXTo2ATo2Mu2E_mXX-100_mA-1p2_ctau-9p6_TuneCP5_13TeV-madgraph-pythia8/RunIIAutumn18DRPremix-102X_upgrade2018_realistic_v15-v1/210326_161703/0000/ffNtuple_1.root\",\n",
    "    ],\n",
    "}\n",
    "\n",
    "runner = processor.Runner(\n",
    "    #executor=processor.IterativeExecutor(),\n",
    "    #executor=processor.FuturesExecutor(),\n",
    "    executor=processor.DaskExecutor(client=client),\n",
    "    schema=ffschema.FFSchema,\n",
    ")\n",
    "\n",
    "p = sidm_processor.SidmProcessor(\n",
    "    [\n",
    "        \"2mu2e\",\n",
    "    ],\n",
    "    [\"base\"]\n",
    ")\n",
    "\n",
    "# test if processor is serializable\n",
    "import coffea.util as coffea_util\n",
    "coffea_util.save(p, \"processor.coffea\")\n",
    "print(coffea_util.load(\"processor.coffea\"))\n",
    "\n",
    "output = runner.run(fileset, treename=\"ffNtuplizer/ffNtuple\", processor_instance=p)"
   ]
  },
  {
   "cell_type": "code",
   "execution_count": null,
   "id": "3ee9a6dc-bd00-4917-a95b-94df87f35415",
   "metadata": {},
   "outputs": [],
   "source": [
    "out = output[\"out\"]"
   ]
  },
  {
   "cell_type": "code",
   "execution_count": null,
   "id": "9ea2d681-fa02-47aa-aed9-a550976affe1",
   "metadata": {},
   "outputs": [],
   "source": [
    "# test that ouput is accumulatable\n",
    "from coffea.processor import accumulate\n",
    "double_out = accumulate([output[\"out\"], output[\"out\"]])"
   ]
  },
  {
   "cell_type": "code",
   "execution_count": null,
   "id": "06240c1a-d4cd-408a-b558-24048c828aa1",
   "metadata": {},
   "outputs": [],
   "source": [
    "out[\"2Mu2E_100GeV_1p2GeV_9p6mm\"][\"cutflow\"][\"2mu2e\"].print_table()\n",
    "out[\"2Mu2E_100GeV_1p2GeV_9p6mm\"][\"cutflow\"][\"2mu2e\"].print_table(fraction=True)"
   ]
  },
  {
   "cell_type": "code",
   "execution_count": null,
   "id": "46d5875d-9584-46af-b2f6-2196adc15e8d",
   "metadata": {},
   "outputs": [],
   "source": [
    "double_out[\"2Mu2E_100GeV_1p2GeV_9p6mm\"][\"cutflow\"][\"2mu2e\"].print_table()\n",
    "double_out[\"2Mu2E_100GeV_1p2GeV_9p6mm\"][\"cutflow\"][\"2mu2e\"].print_table(fraction=True)"
   ]
  },
  {
   "cell_type": "code",
   "execution_count": null,
   "id": "f3a95228-ded2-438b-b15f-3d685c85be08",
   "metadata": {},
   "outputs": [],
   "source": []
  },
  {
   "cell_type": "code",
   "execution_count": null,
   "id": "c15464ec-eb0f-4e65-994b-cda51e86433a",
   "metadata": {},
   "outputs": [],
   "source": []
  }
 ],
 "metadata": {
  "kernelspec": {
   "display_name": "Python 3 (ipykernel)",
   "language": "python",
   "name": "python3"
  },
  "language_info": {
   "codemirror_mode": {
    "name": "ipython",
    "version": 3
   },
   "file_extension": ".py",
   "mimetype": "text/x-python",
   "name": "python",
   "nbconvert_exporter": "python",
   "pygments_lexer": "ipython3",
   "version": "3.8.13"
  }
 },
 "nbformat": 4,
 "nbformat_minor": 5
}
