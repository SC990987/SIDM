{
 "cells": [
  {
   "cell_type": "code",
   "execution_count": 3,
   "id": "f69faf8a-a712-4d71-a610-feee40fb8529",
   "metadata": {
    "tags": []
   },
   "outputs": [],
   "source": [
    "# python\n",
    "import sys\n",
    "import importlib\n",
    "# columnar analysis\n",
    "from coffea.nanoevents import NanoAODSchema\n",
    "from coffea import processor\n",
    "# local\n",
    "sidm_path = str(sys.path[0]).split(\"/sidm\")[0]\n",
    "if sidm_path not in sys.path: sys.path.insert(1, sidm_path)\n",
    "from sidm.tools import sidm_processor, utilities\n",
    "# always reload local modules to pick up changes during development\n",
    "importlib.reload(sidm_processor)\n",
    "importlib.reload(utilities)\n",
    "# plotting\n",
    "import matplotlib.pyplot as plt\n",
    "utilities.set_plot_style()"
   ]
  },
  {
   "cell_type": "code",
   "execution_count": 8,
   "id": "6adc2793-ac8f-41cd-8bb0-4514c03e823b",
   "metadata": {
    "tags": []
   },
   "outputs": [],
   "source": [
    "channels = [\n",
    "    \"baseNoLjNoLjsource\",\n",
    "    \"baseNoLj\",\n",
    "    \"base\",\n",
    "    \"2mu2e\",\n",
    "    \"4mu\",\n",
    "]"
   ]
  },
  {
   "cell_type": "code",
   "execution_count": 16,
   "id": "6af2029b-48c2-42a9-8d3a-cd50f3cecfb0",
   "metadata": {
    "tags": []
   },
   "outputs": [
    {
     "name": "stdout",
     "output_type": "stream",
     "text": [
      "baseNoLjNoLjsource\n",
      "  obj cuts\n",
      "    pvs: ['ndof > 4', '|z| < 24 cm', '|rho| < 0.02 cm']\n",
      "    genMus: ['status 1']\n",
      "    genEs: ['status 1']\n",
      "  post-LJ obj cuts\n",
      "    None\n",
      "  event cuts\n",
      "    [{'evt_cuts': ['pass triggers']}, ['PV filter']]\n",
      "baseNoLj\n",
      "  obj cuts\n",
      "    pvs: ['ndof > 4', '|z| < 24 cm', '|rho| < 0.02 cm']\n",
      "    genMus: ['status 1']\n",
      "    genEs: ['status 1']\n",
      "    electrons: ['pT > 10 GeV', '|eta| < 2.4', 'looseID']\n",
      "    muons: ['looseID', 'pT > 5 GeV', '|eta| < 2.4']\n",
      "    photons: ['pT > 20 GeV', 'eta', 'looseID', 'pixelSeed']\n",
      "    dsaMuons: ['pT > 10 GeV', '|eta| < 2.4', 'DT + CSC hits > 12', 'ifcsczero', 'normChi2 < 2.5', 'ptErrorOverPT < 1', 'no PF match']\n",
      "  post-LJ obj cuts\n",
      "    None\n",
      "  event cuts\n",
      "    [[{'evt_cuts': ['pass triggers']}, ['PV filter']]]\n",
      "base\n",
      "  obj cuts\n",
      "    pvs: ['ndof > 4', '|z| < 24 cm', '|rho| < 0.02 cm']\n",
      "    genMus: ['status 1']\n",
      "    genEs: ['status 1']\n",
      "    electrons: ['pT > 10 GeV', '|eta| < 2.4', 'looseID']\n",
      "    muons: ['looseID', 'pT > 5 GeV', '|eta| < 2.4']\n",
      "    photons: ['pT > 20 GeV', 'eta', 'looseID', 'pixelSeed']\n",
      "    dsaMuons: ['pT > 10 GeV', '|eta| < 2.4', 'DT + CSC hits > 12', 'ifcsczero', 'normChi2 < 2.5', 'ptErrorOverPT < 1', 'no PF match']\n",
      "  post-LJ obj cuts\n",
      "    ljs: ['pT > 30 GeV', '|eta| < 2.4', 'mu_charge == 0']\n",
      "  event cuts\n",
      "    [[[{'evt_cuts': ['pass triggers']}, ['PV filter']]], '>=2 LJs']\n",
      "2mu2e\n",
      "  obj cuts\n",
      "    pvs: ['ndof > 4', '|z| < 24 cm', '|rho| < 0.02 cm']\n",
      "    genMus: ['status 1']\n",
      "    genEs: ['status 1']\n",
      "    electrons: ['pT > 10 GeV', '|eta| < 2.4', 'looseID']\n",
      "    muons: ['looseID', 'pT > 5 GeV', '|eta| < 2.4']\n",
      "    photons: ['pT > 20 GeV', 'eta', 'looseID', 'pixelSeed']\n",
      "    dsaMuons: ['pT > 10 GeV', '|eta| < 2.4', 'DT + CSC hits > 12', 'ifcsczero', 'normChi2 < 2.5', 'ptErrorOverPT < 1', 'no PF match']\n",
      "  post-LJ obj cuts\n",
      "    ljs: ['pT > 30 GeV', '|eta| < 2.4', 'mu_charge == 0']\n",
      "  event cuts\n",
      "    [[[[{'evt_cuts': ['pass triggers']}, ['PV filter']]], '>=2 LJs'], '2mu2e']\n",
      "4mu\n",
      "  obj cuts\n",
      "    pvs: ['ndof > 4', '|z| < 24 cm', '|rho| < 0.02 cm']\n",
      "    genMus: ['status 1']\n",
      "    genEs: ['status 1']\n",
      "    electrons: ['pT > 10 GeV', '|eta| < 2.4', 'looseID']\n",
      "    muons: ['looseID', 'pT > 5 GeV', '|eta| < 2.4']\n",
      "    photons: ['pT > 20 GeV', 'eta', 'looseID', 'pixelSeed']\n",
      "    dsaMuons: ['pT > 10 GeV', '|eta| < 2.4', 'DT + CSC hits > 12', 'ifcsczero', 'normChi2 < 2.5', 'ptErrorOverPT < 1', 'no PF match']\n",
      "  post-LJ obj cuts\n",
      "    ljs: ['pT > 30 GeV', '|eta| < 2.4', 'mu_charge == 0']\n",
      "  event cuts\n",
      "    [[[[{'evt_cuts': ['pass triggers']}, ['PV filter']]], '>=2 LJs'], '4mu']\n"
     ]
    }
   ],
   "source": [
    "selections_menu = utilities.load_yaml(f\"{sidm_path}/sidm/configs/selections.yaml\")\n",
    "for ch in channels:\n",
    "    print(ch)\n",
    "    sel = selections_menu[ch]\n",
    "    print(\"  obj cuts\")\n",
    "    for obj, cuts in sel[\"obj_cuts\"].items():\n",
    "        print(f\"    {obj}: {cuts}\")\n",
    "    print(\"  post-LJ obj cuts\")\n",
    "    if \"postLj_obj_cuts\" in sel:\n",
    "        for obj, cuts in sel[\"postLj_obj_cuts\"].items():\n",
    "            print(f\"    {obj}: {cuts}\")\n",
    "    else:\n",
    "        print(\"    None\")\n",
    "    print(\"  event cuts\")\n",
    "    if \"evt_cuts\" in sel:\n",
    "        print(f\"    {sel['evt_cuts']}\")\n",
    "    else:\n",
    "        print(\"    None\")\n"
   ]
  },
  {
   "cell_type": "code",
   "execution_count": 17,
   "id": "d67db205-7dc5-42b8-b10c-e6e7cbc7602a",
   "metadata": {
    "tags": []
   },
   "outputs": [
    {
     "data": {
      "application/vnd.jupyter.widget-view+json": {
       "model_id": "51501cd89d194b9da3ad486a028930b7",
       "version_major": 2,
       "version_minor": 0
      },
      "text/plain": [
       "Output()"
      ]
     },
     "metadata": {},
     "output_type": "display_data"
    },
    {
     "data": {
      "text/html": [
       "<pre style=\"white-space:pre;overflow-x:auto;line-height:normal;font-family:Menlo,'DejaVu Sans Mono',consolas,'Courier New',monospace\"></pre>\n"
      ],
      "text/plain": []
     },
     "metadata": {},
     "output_type": "display_data"
    },
    {
     "data": {
      "text/html": [
       "<pre style=\"white-space:pre;overflow-x:auto;line-height:normal;font-family:Menlo,'DejaVu Sans Mono',consolas,'Courier New',monospace\">\n",
       "</pre>\n"
      ],
      "text/plain": [
       "\n"
      ]
     },
     "metadata": {},
     "output_type": "display_data"
    },
    {
     "data": {
      "application/vnd.jupyter.widget-view+json": {
       "model_id": "f2ac53e9e5154585a61ace7d11023516",
       "version_major": 2,
       "version_minor": 0
      },
      "text/plain": [
       "Output()"
      ]
     },
     "metadata": {},
     "output_type": "display_data"
    },
    {
     "data": {
      "text/html": [
       "<pre style=\"white-space:pre;overflow-x:auto;line-height:normal;font-family:Menlo,'DejaVu Sans Mono',consolas,'Courier New',monospace\">/opt/conda/lib/python3.9/site-packages/awkward/_connect/_numpy.py:195: RuntimeWarning: invalid value encountered in\n",
       "divide\n",
       "  result = getattr(ufunc, method)(\n",
       "</pre>\n"
      ],
      "text/plain": [
       "/opt/conda/lib/python3.9/site-packages/awkward/_connect/_numpy.py:195: RuntimeWarning: invalid value encountered in\n",
       "divide\n",
       "  result = getattr(ufunc, method)(\n"
      ]
     },
     "metadata": {},
     "output_type": "display_data"
    },
    {
     "data": {
      "text/html": [
       "<pre style=\"white-space:pre;overflow-x:auto;line-height:normal;font-family:Menlo,'DejaVu Sans Mono',consolas,'Courier New',monospace\">/opt/conda/lib/python3.9/site-packages/awkward/_connect/_numpy.py:195: RuntimeWarning: divide by zero encountered \n",
       "in divide\n",
       "  result = getattr(ufunc, method)(\n",
       "</pre>\n"
      ],
      "text/plain": [
       "/opt/conda/lib/python3.9/site-packages/awkward/_connect/_numpy.py:195: RuntimeWarning: divide by zero encountered \n",
       "in divide\n",
       "  result = getattr(ufunc, method)(\n"
      ]
     },
     "metadata": {},
     "output_type": "display_data"
    },
    {
     "name": "stdout",
     "output_type": "stream",
     "text": [
      "#--------------------------------------------------------------------------\n",
      "#                         FastJet release 3.4.0\n",
      "#                 M. Cacciari, G.P. Salam and G. Soyez                  \n",
      "#     A software package for jet finding and analysis at colliders      \n",
      "#                           http://fastjet.fr                           \n",
      "#\t                                                                      \n",
      "# Please cite EPJC72(2012)1896 [arXiv:1111.6097] if you use this package\n",
      "# for scientific work and optionally PLB641(2006)57 [hep-ph/0512210].   \n",
      "#                                                                       \n",
      "# FastJet is provided without warranty under the GNU GPL v2 or higher.  \n",
      "# It uses T. Chan's closest pair algorithm, S. Fortune's Voronoi code,\n",
      "# CGAL and 3rd party plugin jet algorithms. See COPYING file for details.\n",
      "#--------------------------------------------------------------------------\n"
     ]
    },
    {
     "data": {
      "text/html": [
       "<pre style=\"white-space:pre;overflow-x:auto;line-height:normal;font-family:Menlo,'DejaVu Sans Mono',consolas,'Courier New',monospace\"></pre>\n"
      ],
      "text/plain": []
     },
     "metadata": {},
     "output_type": "display_data"
    },
    {
     "data": {
      "text/html": [
       "<pre style=\"white-space:pre;overflow-x:auto;line-height:normal;font-family:Menlo,'DejaVu Sans Mono',consolas,'Courier New',monospace\">\n",
       "</pre>\n"
      ],
      "text/plain": [
       "\n"
      ]
     },
     "metadata": {},
     "output_type": "display_data"
    }
   ],
   "source": [
    "samples = [\n",
    "    '2Mu2E_500GeV_5p0GeV_8p0mm',\n",
    "]\n",
    "fileset = utilities.make_fileset(samples, \"llpNanoAOD_v2\", max_files=1, location_cfg=\"signal_2mu2e_v10.yaml\")\n",
    "\n",
    "runner = processor.Runner(\n",
    "    executor=processor.IterativeExecutor(),\n",
    "    schema=NanoAODSchema,\n",
    "    maxchunks=1,\n",
    "    skipbadfiles=True\n",
    ")\n",
    "\n",
    "p = sidm_processor.SidmProcessor(\n",
    "    channels,\n",
    "    [\"muon_base\"],\n",
    "    #verbose=True,\n",
    ")\n",
    "\n",
    "output = runner.run(fileset, treename='Events', processor_instance=p)\n",
    "out = output[\"out\"]"
   ]
  },
  {
   "cell_type": "code",
   "execution_count": 18,
   "id": "31b6a93d-4c1e-4e19-8049-03f972d1d280",
   "metadata": {
    "tags": []
   },
   "outputs": [
    {
     "name": "stdout",
     "output_type": "stream",
     "text": [
      "baseNoLjNoLjsource\n",
      "cut name         individual cut N    all cut N\n",
      "-------------  ------------------  -----------\n",
      "No selection               4364.0       4364.0\n",
      "pass triggers              1633.0       1633.0\n",
      "PV filter                  4253.0       1578.0\n",
      "\n",
      "baseNoLj\n",
      "cut name         individual cut N    all cut N\n",
      "-------------  ------------------  -----------\n",
      "No selection               4364.0       4364.0\n",
      "pass triggers              1633.0       1633.0\n",
      "PV filter                  4253.0       1578.0\n",
      "\n",
      "base\n",
      "cut name         individual cut N    all cut N\n",
      "-------------  ------------------  -----------\n",
      "No selection               4364.0       4364.0\n",
      "pass triggers              1633.0       1633.0\n",
      "PV filter                  4253.0       1578.0\n",
      ">=2 LJs                     843.0        361.0\n",
      "\n",
      "2mu2e\n",
      "cut name         individual cut N    all cut N\n",
      "-------------  ------------------  -----------\n",
      "No selection               4364.0       4364.0\n",
      "pass triggers              1633.0       1633.0\n",
      "PV filter                  4253.0       1578.0\n",
      ">=2 LJs                     843.0        361.0\n",
      "2mu2e                       839.0        360.0\n",
      "\n",
      "4mu\n",
      "cut name         individual cut N    all cut N\n",
      "-------------  ------------------  -----------\n",
      "No selection               4364.0       4364.0\n",
      "pass triggers              1633.0       1633.0\n",
      "PV filter                  4253.0       1578.0\n",
      ">=2 LJs                     843.0        361.0\n",
      "4mu                           0.0          0.0\n",
      "\n"
     ]
    }
   ],
   "source": [
    "for ch in channels:\n",
    "    print(ch)\n",
    "    out[samples[0]][\"cutflow\"][ch].print_table()\n",
    "    print()\n"
   ]
  },
  {
   "cell_type": "code",
   "execution_count": null,
   "id": "21131f58-d6d7-42f6-80d8-77dae8727e5a",
   "metadata": {},
   "outputs": [],
   "source": []
  }
 ],
 "metadata": {
  "kernelspec": {
   "display_name": "Python 3 (ipykernel)",
   "language": "python",
   "name": "python3"
  },
  "language_info": {
   "codemirror_mode": {
    "name": "ipython",
    "version": 3
   },
   "file_extension": ".py",
   "mimetype": "text/x-python",
   "name": "python",
   "nbconvert_exporter": "python",
   "pygments_lexer": "ipython3",
   "version": "3.9.18"
  }
 },
 "nbformat": 4,
 "nbformat_minor": 5
}
