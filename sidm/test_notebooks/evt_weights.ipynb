{
 "cells": [
  {
   "cell_type": "code",
   "execution_count": 1,
   "id": "f69faf8a-a712-4d71-a610-feee40fb8529",
   "metadata": {
    "tags": []
   },
   "outputs": [],
   "source": [
    "# python\n",
    "import sys\n",
    "import importlib\n",
    "# columnar analysis\n",
    "from coffea.nanoevents import NanoAODSchema\n",
    "from coffea import processor\n",
    "# local\n",
    "sidm_path = str(sys.path[0]).split(\"/sidm\")[0]\n",
    "if sidm_path not in sys.path: sys.path.insert(1, sidm_path)\n",
    "from sidm.tools import sidm_processor, utilities, scaleout\n",
    "# always reload local modules to pick up changes during development\n",
    "importlib.reload(sidm_processor)\n",
    "importlib.reload(utilities)\n",
    "# plotting\n",
    "import matplotlib.pyplot as plt\n",
    "utilities.set_plot_style()"
   ]
  },
  {
   "cell_type": "code",
   "execution_count": 2,
   "id": "a286f0b9-0b43-415d-bb88-501d726e8cd1",
   "metadata": {
    "tags": []
   },
   "outputs": [],
   "source": [
    "#client = scaleout.make_dask_client(\"tls://localhost:8786\")\n",
    "#client"
   ]
  },
  {
   "cell_type": "code",
   "execution_count": 3,
   "id": "f181094c-58fa-491c-ad67-a0f59d43f46f",
   "metadata": {
    "tags": []
   },
   "outputs": [],
   "source": [
    "samples = [\n",
    "    '2Mu2E_500GeV_5p0GeV_8p0mm',\n",
    "    'TTJets',\n",
    "]"
   ]
  },
  {
   "cell_type": "code",
   "execution_count": 4,
   "id": "7023d03e-d240-48bf-afb1-f9e1588f807c",
   "metadata": {
    "tags": []
   },
   "outputs": [
    {
     "name": "stdout",
     "output_type": "stream",
     "text": [
      "Signal not in xs cfg, assuming 1fb\n",
      "2Mu2E_500GeV_5p0GeV_8p0mm 0.001\n",
      "TTJets 471.7\n"
     ]
    }
   ],
   "source": [
    "for sample in samples:\n",
    "    print(sample, utilities.get_xs(sample))"
   ]
  },
  {
   "cell_type": "code",
   "execution_count": 5,
   "id": "5b8f9c6f-8f9f-424f-98c3-9eb175fd79e0",
   "metadata": {
    "tags": []
   },
   "outputs": [
    {
     "data": {
      "application/vnd.jupyter.widget-view+json": {
       "model_id": "a110955d362048658ba5237a57b0c6a2",
       "version_major": 2,
       "version_minor": 0
      },
      "text/plain": [
       "Output()"
      ]
     },
     "metadata": {},
     "output_type": "display_data"
    },
    {
     "data": {
      "text/html": [
       "<pre style=\"white-space:pre;overflow-x:auto;line-height:normal;font-family:Menlo,'DejaVu Sans Mono',consolas,'Courier New',monospace\"></pre>\n"
      ],
      "text/plain": []
     },
     "metadata": {},
     "output_type": "display_data"
    },
    {
     "data": {
      "text/html": [
       "<pre style=\"white-space:pre;overflow-x:auto;line-height:normal;font-family:Menlo,'DejaVu Sans Mono',consolas,'Courier New',monospace\">\n",
       "</pre>\n"
      ],
      "text/plain": [
       "\n"
      ]
     },
     "metadata": {},
     "output_type": "display_data"
    },
    {
     "data": {
      "application/vnd.jupyter.widget-view+json": {
       "model_id": "d113e7c4518e4f27acd191b286502b14",
       "version_major": 2,
       "version_minor": 0
      },
      "text/plain": [
       "Output()"
      ]
     },
     "metadata": {},
     "output_type": "display_data"
    },
    {
     "name": "stderr",
     "output_type": "stream",
     "text": [
      "/opt/conda/lib/python3.9/site-packages/awkward/_connect/_numpy.py:195: RuntimeWarning: invalid value encountered in divide\n",
      "  result = getattr(ufunc, method)(\n",
      "/opt/conda/lib/python3.9/site-packages/awkward/_connect/_numpy.py:195: RuntimeWarning: divide by zero encountered in divide\n",
      "  result = getattr(ufunc, method)(\n"
     ]
    },
    {
     "name": "stdout",
     "output_type": "stream",
     "text": [
      "#--------------------------------------------------------------------------\n",
      "#                         FastJet release 3.4.0\n",
      "#                 M. Cacciari, G.P. Salam and G. Soyez                  \n",
      "#     A software package for jet finding and analysis at colliders      \n",
      "#                           http://fastjet.fr                           \n",
      "#\t                                                                      \n",
      "# Please cite EPJC72(2012)1896 [arXiv:1111.6097] if you use this package\n",
      "# for scientific work and optionally PLB641(2006)57 [hep-ph/0512210].   \n",
      "#                                                                       \n",
      "# FastJet is provided without warranty under the GNU GPL v2 or higher.  \n",
      "# It uses T. Chan's closest pair algorithm, S. Fortune's Voronoi code,\n",
      "# CGAL and 3rd party plugin jet algorithms. See COPYING file for details.\n",
      "#--------------------------------------------------------------------------\n"
     ]
    },
    {
     "data": {
      "text/html": [
       "<pre style=\"white-space:pre;overflow-x:auto;line-height:normal;font-family:Menlo,'DejaVu Sans Mono',consolas,'Courier New',monospace\"></pre>\n"
      ],
      "text/plain": []
     },
     "metadata": {},
     "output_type": "display_data"
    },
    {
     "data": {
      "text/html": [
       "<pre style=\"white-space:pre;overflow-x:auto;line-height:normal;font-family:Menlo,'DejaVu Sans Mono',consolas,'Courier New',monospace\">\n",
       "</pre>\n"
      ],
      "text/plain": [
       "\n"
      ]
     },
     "metadata": {},
     "output_type": "display_data"
    },
    {
     "name": "stdout",
     "output_type": "stream",
     "text": [
      "weighted hists\n",
      "Signal not in xs cfg, assuming 1fb\n"
     ]
    }
   ],
   "source": [
    "fileset = utilities.make_fileset([samples[0]], \"llpNanoAOD_v2\", max_files=5, location_cfg=\"signal_2mu2e_v10.yaml\")\n",
    "fileset = utilities.make_fileset([samples[1]], \"llpNanoAOD_v2\", max_files=5, location_cfg=\"backgrounds.yaml\", fileset=fileset)\n",
    "\n",
    "runner = processor.Runner(\n",
    "    #executor=processor.IterativeExecutor(),\n",
    "    executor=processor.FuturesExecutor(),\n",
    "    #executor=processor.DaskExecutor(client=client),\n",
    "    schema=NanoAODSchema,\n",
    "    #maxchunks=1,\n",
    "    skipbadfiles=True,\n",
    ")\n",
    "\n",
    "channels = [\n",
    "    \"2mu2e\",\n",
    "]\n",
    "p = sidm_processor.SidmProcessor(\n",
    "    channels,\n",
    "    [\"muon_base\"],\n",
    ")\n",
    "\n",
    "output = runner.run(fileset, treename='Events', processor_instance=p)\n",
    "out = output[\"out\"]"
   ]
  },
  {
   "cell_type": "code",
   "execution_count": 6,
   "id": "51bd8f10-1a4e-48f8-bbd2-322082bd489f",
   "metadata": {
    "tags": []
   },
   "outputs": [
    {
     "name": "stdout",
     "output_type": "stream",
     "text": [
      "2Mu2E_500GeV_5p0GeV_8p0mm {'n_evts': 21957}\n",
      "TTJets {'n_evts': 196576}\n"
     ]
    }
   ],
   "source": [
    "for sample in samples:\n",
    "    print(sample, out[sample][\"metadata\"])"
   ]
  },
  {
   "cell_type": "code",
   "execution_count": 7,
   "id": "31b6a93d-4c1e-4e19-8049-03f972d1d280",
   "metadata": {
    "tags": []
   },
   "outputs": [
    {
     "name": "stdout",
     "output_type": "stream",
     "text": [
      "2Mu2E_500GeV_5p0GeV_8p0mm\n",
      "Signal not in xs cfg, assuming 1fb\n",
      "cut name         individual cut N    all cut N\n",
      "-------------  ------------------  -----------\n",
      "No selection                 59.0         59.0\n",
      "pass triggers                22.0         22.0\n",
      "PV filter                    57.6         21.4\n",
      ">=2 LJs                      11.7          4.8\n",
      "2mu2e                        11.6          4.8\n",
      "\n",
      "cut name         individual cut N    all cut N\n",
      "-------------  ------------------  -----------\n",
      "No selection              21957.0      21957.0\n",
      "pass triggers              8184.0       8184.0\n",
      "PV filter                 21419.0       7954.0\n",
      ">=2 LJs                    4347.0       1785.0\n",
      "2mu2e                      4334.0       1781.0\n",
      "\n",
      "cut name         individual %    marginal %    cumulative %\n",
      "-------------  --------------  ------------  --------------\n",
      "No selection            100.0         100.0           100.0\n",
      "pass triggers            37.3          37.3            37.3\n",
      "PV filter                97.5          97.2            36.2\n",
      ">=2 LJs                  19.8          22.4             8.1\n",
      "2mu2e                    19.7          99.8             8.1\n",
      "\n"
     ]
    }
   ],
   "source": [
    "print(samples[0])\n",
    "out[samples[0]][\"cutflow\"][channels[0]].print_table()\n",
    "print()\n",
    "out[samples[0]][\"cutflow\"][channels[0]].print_table(unweighted=True)\n",
    "print()\n",
    "out[samples[0]][\"cutflow\"][channels[0]].print_table(fraction=True)\n",
    "print()"
   ]
  },
  {
   "cell_type": "code",
   "execution_count": 8,
   "id": "21131f58-d6d7-42f6-80d8-77dae8727e5a",
   "metadata": {},
   "outputs": [
    {
     "name": "stdout",
     "output_type": "stream",
     "text": [
      "TTJets\n",
      "cut name         individual cut N    all cut N\n",
      "-------------  ------------------  -----------\n",
      "No selection           27830300.0   27830300.0\n",
      "pass triggers            471445.6     471445.6\n",
      "PV filter              27776076.7     470596.2\n",
      ">=2 LJs                  157714.8       3114.7\n",
      "2mu2e                     13449.7       2831.5\n",
      "\n",
      "cut name         individual cut N    all cut N\n",
      "-------------  ------------------  -----------\n",
      "No selection             196576.0     196576.0\n",
      "pass triggers              3330.0       3330.0\n",
      "PV filter                196193.0       3324.0\n",
      ">=2 LJs                    1114.0         22.0\n",
      "2mu2e                        95.0         20.0\n",
      "\n",
      "cut name         individual %    marginal %    cumulative %\n",
      "-------------  --------------  ------------  --------------\n",
      "No selection            100.0         100.0           100.0\n",
      "pass triggers             1.7           1.7             1.7\n",
      "PV filter                99.8          99.8             1.7\n",
      ">=2 LJs                   0.6           0.7             0.0\n",
      "2mu2e                     0.0          90.9             0.0\n",
      "\n"
     ]
    }
   ],
   "source": [
    "print(samples[1])\n",
    "out[samples[1]][\"cutflow\"][channels[0]].print_table()\n",
    "print()\n",
    "out[samples[1]][\"cutflow\"][channels[0]].print_table(unweighted=True)\n",
    "print()\n",
    "out[samples[1]][\"cutflow\"][channels[0]].print_table(fraction=True)\n",
    "print()"
   ]
  },
  {
   "cell_type": "code",
   "execution_count": 9,
   "id": "3f836e0f-2d0c-413c-979c-237eab972e4b",
   "metadata": {
    "tags": []
   },
   "outputs": [
    {
     "data": {
      "text/plain": [
       "dict_keys(['out', 'processed', 'exception'])"
      ]
     },
     "execution_count": 9,
     "metadata": {},
     "output_type": "execute_result"
    }
   ],
   "source": [
    "output.keys()"
   ]
  },
  {
   "cell_type": "code",
   "execution_count": 10,
   "id": "85346f52-7e27-4ce3-9e00-4839fb44b99b",
   "metadata": {
    "tags": []
   },
   "outputs": [
    {
     "data": {
      "text/plain": [
       "{WorkItem(dataset='2Mu2E_500GeV_5p0GeV_8p0mm', filename='root://xcache//store/group/lpcmetx/SIDM/ULSignalSamples/2018_v10/BsTo2DpTo2Mu2e/CutDecayFalse_SIDM_BsTo2DpTo2Mu2e_MBs-500_MDp-5p0_ctau-8p0_v3/LLPnanoAODv2/CutDecayFalse_SIDM_BsTo2DpTo2Mu2e_MBs-500_MDp-5p0_ctau-8p0_v3_part-0.root', treename='Events', entrystart=0, entrystop=4364, fileuuid=b'\\xac\\xd8R\\xc6\\xbf\\x88\\x11\\xef\\x9b\\xf4[\\x15\\xe6\\x9b\\xbe\\xef', usermeta={}),\n",
       " WorkItem(dataset='2Mu2E_500GeV_5p0GeV_8p0mm', filename='root://xcache//store/group/lpcmetx/SIDM/ULSignalSamples/2018_v10/BsTo2DpTo2Mu2e/CutDecayFalse_SIDM_BsTo2DpTo2Mu2e_MBs-500_MDp-5p0_ctau-8p0_v3/LLPnanoAODv2/CutDecayFalse_SIDM_BsTo2DpTo2Mu2e_MBs-500_MDp-5p0_ctau-8p0_v3_part-1.root', treename='Events', entrystart=0, entrystop=4319, fileuuid=b'\\xf4\\x94\\x97\\xe0\\xbfz\\x11\\xef\\x8c\\x0f\\x9b\\x15\\xe6\\x9b\\xbe\\xef', usermeta={}),\n",
       " WorkItem(dataset='2Mu2E_500GeV_5p0GeV_8p0mm', filename='root://xcache//store/group/lpcmetx/SIDM/ULSignalSamples/2018_v10/BsTo2DpTo2Mu2e/CutDecayFalse_SIDM_BsTo2DpTo2Mu2e_MBs-500_MDp-5p0_ctau-8p0_v3/LLPnanoAODv2/CutDecayFalse_SIDM_BsTo2DpTo2Mu2e_MBs-500_MDp-5p0_ctau-8p0_v3_part-11.root', treename='Events', entrystart=0, entrystop=4424, fileuuid=b'\\x14\\x9e\\x94\\x94\\xbf\\x87\\x11\\xef\\x83\\xa6\\x8f\\x15\\xe6\\x9b\\xbe\\xef', usermeta={}),\n",
       " WorkItem(dataset='2Mu2E_500GeV_5p0GeV_8p0mm', filename='root://xcache//store/group/lpcmetx/SIDM/ULSignalSamples/2018_v10/BsTo2DpTo2Mu2e/CutDecayFalse_SIDM_BsTo2DpTo2Mu2e_MBs-500_MDp-5p0_ctau-8p0_v3/LLPnanoAODv2/CutDecayFalse_SIDM_BsTo2DpTo2Mu2e_MBs-500_MDp-5p0_ctau-8p0_v3_part-12.root', treename='Events', entrystart=0, entrystop=4443, fileuuid=b'\"Rx(\\xbf{\\x11\\xef\\x8e\\xb2\\x9b\\x15\\xe6\\x9b\\xbe\\xef', usermeta={}),\n",
       " WorkItem(dataset='2Mu2E_500GeV_5p0GeV_8p0mm', filename='root://xcache//store/group/lpcmetx/SIDM/ULSignalSamples/2018_v10/BsTo2DpTo2Mu2e/CutDecayFalse_SIDM_BsTo2DpTo2Mu2e_MBs-500_MDp-5p0_ctau-8p0_v3/LLPnanoAODv2/CutDecayFalse_SIDM_BsTo2DpTo2Mu2e_MBs-500_MDp-5p0_ctau-8p0_v3_part-13.root', treename='Events', entrystart=0, entrystop=4407, fileuuid=b'=\\xb0\\xf8v\\xbf\\x88\\x11\\xef\\x97\\nQ\\x15\\xe6\\x9b\\xbe\\xef', usermeta={}),\n",
       " WorkItem(dataset='TTJets', filename='root://xcache//store/group/lpcmetx/SIDM//Backgrounds/2018_v2/TTJets_TuneCP5/LLPnanoAODv2/TTJets_TuneCP5_part1_part-0.root', treename='Events', entrystart=0, entrystop=46211, fileuuid=b'j\\x19\\x1eT(\\xeb\\x11\\xef\\xb8\\xe7`\\x15\\xe6\\x9b\\xbe\\xef', usermeta={}),\n",
       " WorkItem(dataset='TTJets', filename='root://xcache//store/group/lpcmetx/SIDM//Backgrounds/2018_v2/TTJets_TuneCP5/LLPnanoAODv2/TTJets_TuneCP5_part1_part-1.root', treename='Events', entrystart=0, entrystop=31722, fileuuid=b'\\xb3?\\x82z(\\xfb\\x11\\xef\\xa6x\\x81\\x15\\xe6\\x9b\\xbe\\xef', usermeta={}),\n",
       " WorkItem(dataset='TTJets', filename='root://xcache//store/group/lpcmetx/SIDM//Backgrounds/2018_v2/TTJets_TuneCP5/LLPnanoAODv2/TTJets_TuneCP5_part1_part-10.root', treename='Events', entrystart=0, entrystop=44381, fileuuid=b'\\xb8+\\x8bb(\\xe2\\x11\\xef\\xb5\\x9ej\\x15\\xe6\\x9b\\xbe\\xef', usermeta={}),\n",
       " WorkItem(dataset='TTJets', filename='root://xcache//store/group/lpcmetx/SIDM//Backgrounds/2018_v2/TTJets_TuneCP5/LLPnanoAODv2/TTJets_TuneCP5_part1_part-11.root', treename='Events', entrystart=0, entrystop=38308, fileuuid=b'\\x00\\x0ff\\xf4(\\xe5\\x11\\xef\\xb9#)\\x15\\xe6\\x9b\\xbe\\xef', usermeta={}),\n",
       " WorkItem(dataset='TTJets', filename='root://xcache//store/group/lpcmetx/SIDM//Backgrounds/2018_v2/TTJets_TuneCP5/LLPnanoAODv2/TTJets_TuneCP5_part1_part-12.root', treename='Events', entrystart=0, entrystop=35954, fileuuid=b'\\xf1\\xa4 \\\\(\\xdd\\x11\\xef\\xa2\\x96%\\x15\\xe6\\x9b\\xbe\\xef', usermeta={})}"
      ]
     },
     "execution_count": 10,
     "metadata": {},
     "output_type": "execute_result"
    }
   ],
   "source": [
    "output[\"processed\"]"
   ]
  },
  {
   "cell_type": "code",
   "execution_count": 11,
   "id": "ad7b1a33-a613-436c-bf19-f958cb131047",
   "metadata": {
    "tags": []
   },
   "outputs": [
    {
     "data": {
      "text/plain": [
       "{'muon_n': Hist(\n",
       "   StrCategory(['2mu2e'], name='channel'),\n",
       "   Regular(10, 0, 10, name='muons_n', label='Number of PF Muons'),\n",
       "   storage=Weight()) # Sum: WeightedSum(value=4.78567, variance=0.0128594),\n",
       " 'muon_pt': Hist(\n",
       "   StrCategory(['2mu2e'], name='channel'),\n",
       "   Regular(100, 0, 500, name='muons_pt', label='PF Muon $p_T$'),\n",
       "   storage=Weight()) # Sum: WeightedSum(value=9.29995, variance=0.0249896),\n",
       " 'muon_dxy': Hist(\n",
       "   StrCategory(['2mu2e'], name='channel'),\n",
       "   Regular(100, 0, 100, name='muons_dxy', label='PF Muon $d_0$'),\n",
       "   storage=Weight()) # Sum: WeightedSum(value=4.65132, variance=0.0124984) (WeightedSum(value=9.29995, variance=0.0249896) with flow),\n",
       " 'muon_eta_phi': Hist(\n",
       "   StrCategory(['2mu2e'], name='channel'),\n",
       "   Regular(50, -3, 3, name='muons_eta', label='PF Muon $\\\\eta$'),\n",
       "   Regular(50, -3.14159, 3.14159, name='muons_phi', label='PF Muon $\\\\phi$'),\n",
       "   storage=Weight()) # Sum: WeightedSum(value=9.29995, variance=0.0249896),\n",
       " 'muon_absD0': Hist(\n",
       "   StrCategory(['2mu2e'], name='channel'),\n",
       "   Regular(100, 0, 500, name='muons_dxy', label='PF Muon |$d_0$|'),\n",
       "   storage=Weight()) # Sum: WeightedSum(value=9.29995, variance=0.0249896),\n",
       " 'muon_absD0_lowRange': Hist(\n",
       "   StrCategory(['2mu2e'], name='channel'),\n",
       "   Regular(100, 0, 10, name='muons_dxy', label='PF Muon |$d_0$|'),\n",
       "   storage=Weight()) # Sum: WeightedSum(value=9.29995, variance=0.0249896)}"
      ]
     },
     "execution_count": 11,
     "metadata": {},
     "output_type": "execute_result"
    }
   ],
   "source": [
    "out[samples[0]][\"hists\"]"
   ]
  },
  {
   "cell_type": "code",
   "execution_count": 12,
   "id": "2908d08a-2e60-4b5f-a79f-ff0a1f7f1b71",
   "metadata": {
    "tags": []
   },
   "outputs": [
    {
     "data": {
      "text/plain": [
       "{'muon_n': Hist(\n",
       "   StrCategory(['2mu2e'], name='channel'),\n",
       "   Regular(10, 0, 10, name='muons_n', label='Number of PF Muons'),\n",
       "   storage=Weight()) # Sum: WeightedSum(value=2831.51, variance=400871),\n",
       " 'muon_pt': Hist(\n",
       "   StrCategory(['2mu2e'], name='channel'),\n",
       "   Regular(100, 0, 500, name='muons_pt', label='PF Muon $p_T$'),\n",
       "   storage=Weight()) # Sum: WeightedSum(value=7503.49, variance=1.06231e+06),\n",
       " 'muon_dxy': Hist(\n",
       "   StrCategory(['2mu2e'], name='channel'),\n",
       "   Regular(100, 0, 100, name='muons_dxy', label='PF Muon $d_0$'),\n",
       "   storage=Weight()) # Sum: WeightedSum(value=3964.11, variance=561220) (WeightedSum(value=7503.49, variance=1.06231e+06) with flow),\n",
       " 'muon_eta_phi': Hist(\n",
       "   StrCategory(['2mu2e'], name='channel'),\n",
       "   Regular(50, -3, 3, name='muons_eta', label='PF Muon $\\\\eta$'),\n",
       "   Regular(50, -3.14159, 3.14159, name='muons_phi', label='PF Muon $\\\\phi$'),\n",
       "   storage=Weight()) # Sum: WeightedSum(value=7503.49, variance=1.06231e+06),\n",
       " 'muon_absD0': Hist(\n",
       "   StrCategory(['2mu2e'], name='channel'),\n",
       "   Regular(100, 0, 500, name='muons_dxy', label='PF Muon |$d_0$|'),\n",
       "   storage=Weight()) # Sum: WeightedSum(value=7503.49, variance=1.06231e+06),\n",
       " 'muon_absD0_lowRange': Hist(\n",
       "   StrCategory(['2mu2e'], name='channel'),\n",
       "   Regular(100, 0, 10, name='muons_dxy', label='PF Muon |$d_0$|'),\n",
       "   storage=Weight()) # Sum: WeightedSum(value=7503.49, variance=1.06231e+06)}"
      ]
     },
     "execution_count": 12,
     "metadata": {},
     "output_type": "execute_result"
    }
   ],
   "source": [
    "out[samples[1]][\"hists\"]"
   ]
  },
  {
   "cell_type": "code",
   "execution_count": 13,
   "id": "e6c31256-e0b1-4b7c-be4e-ec037ba762ca",
   "metadata": {
    "tags": []
   },
   "outputs": [
    {
     "data": {
      "text/plain": [
       "<matplotlib.legend.Legend at 0x7efae1c646a0>"
      ]
     },
     "execution_count": 13,
     "metadata": {},
     "output_type": "execute_result"
    },
    {
     "data": {
      "image/png": "[encoded data removed]",
      "text/plain": [
       "<Figure size 500x500 with 1 Axes>"
      ]
     },
     "metadata": {},
     "output_type": "display_data"
    }
   ],
   "source": [
    "for sample in samples:\n",
    "    utilities.plot(out[sample][\"hists\"][\"muon_pt\"][channels[0], :])\n",
    "    plt.yscale(\"log\")\n",
    "plt.legend(samples)"
   ]
  },
  {
   "cell_type": "code",
   "execution_count": 14,
   "id": "9287f983-30b1-491b-aaf7-821f1d5020d3",
   "metadata": {
    "tags": []
   },
   "outputs": [
    {
     "data": {
      "application/vnd.jupyter.widget-view+json": {
       "model_id": "cb3c76fd91d44b1bb4df06fc40b3a88a",
       "version_major": 2,
       "version_minor": 0
      },
      "text/plain": [
       "Output()"
      ]
     },
     "metadata": {},
     "output_type": "display_data"
    },
    {
     "name": "stderr",
     "output_type": "stream",
     "text": [
      "/opt/conda/lib/python3.9/site-packages/awkward/_connect/_numpy.py:195: RuntimeWarning: invalid value encountered in divide\n",
      "  result = getattr(ufunc, method)(\n",
      "/opt/conda/lib/python3.9/site-packages/awkward/_connect/_numpy.py:195: RuntimeWarning: divide by zero encountered in divide\n",
      "  result = getattr(ufunc, method)(\n"
     ]
    },
    {
     "name": "stdout",
     "output_type": "stream",
     "text": [
      "#--------------------------------------------------------------------------\n",
      "#                         FastJet release 3.4.0\n",
      "#                 M. Cacciari, G.P. Salam and G. Soyez                  \n",
      "#     A software package for jet finding and analysis at colliders      \n",
      "#                           http://fastjet.fr                           \n",
      "#\t                                                                      \n",
      "# Please cite EPJC72(2012)1896 [arXiv:1111.6097] if you use this package\n",
      "# for scientific work and optionally PLB641(2006)57 [hep-ph/0512210].   \n",
      "#                                                                       \n",
      "# FastJet is provided without warranty under the GNU GPL v2 or higher.  \n",
      "# It uses T. Chan's closest pair algorithm, S. Fortune's Voronoi code,\n",
      "# CGAL and 3rd party plugin jet algorithms. See COPYING file for details.\n",
      "#--------------------------------------------------------------------------\n"
     ]
    },
    {
     "data": {
      "text/html": [
       "<pre style=\"white-space:pre;overflow-x:auto;line-height:normal;font-family:Menlo,'DejaVu Sans Mono',consolas,'Courier New',monospace\"></pre>\n"
      ],
      "text/plain": []
     },
     "metadata": {},
     "output_type": "display_data"
    },
    {
     "data": {
      "text/html": [
       "<pre style=\"white-space:pre;overflow-x:auto;line-height:normal;font-family:Menlo,'DejaVu Sans Mono',consolas,'Courier New',monospace\">\n",
       "</pre>\n"
      ],
      "text/plain": [
       "\n"
      ]
     },
     "metadata": {},
     "output_type": "display_data"
    },
    {
     "name": "stdout",
     "output_type": "stream",
     "text": [
      "unweighted hists\n"
     ]
    }
   ],
   "source": [
    "p_unweighted = sidm_processor.SidmProcessor(\n",
    "    channels,\n",
    "    [\"muon_base\"],\n",
    "    unweighted_hist=True,\n",
    ")\n",
    "\n",
    "output_unweighted = runner.run(fileset, treename='Events', processor_instance=p_unweighted)\n",
    "out_unweighted = output_unweighted[\"out\"]"
   ]
  },
  {
   "cell_type": "code",
   "execution_count": 15,
   "id": "b334ff1a-59b0-40a1-b078-fe3293a1b3fa",
   "metadata": {
    "tags": []
   },
   "outputs": [
    {
     "data": {
      "text/plain": [
       "<matplotlib.legend.Legend at 0x7efebc89b5b0>"
      ]
     },
     "execution_count": 15,
     "metadata": {},
     "output_type": "execute_result"
    },
    {
     "data": {
      "image/png": "[encoded data removed]",
      "text/plain": [
       "<Figure size 1200x500 with 2 Axes>"
      ]
     },
     "metadata": {},
     "output_type": "display_data"
    }
   ],
   "source": [
    "plt.subplots(1, 2, figsize=(2*12, 10))\n",
    "plt.subplot(1, 2, 1)\n",
    "for sample in samples:\n",
    "    utilities.plot(out_unweighted[sample][\"hists\"][\"muon_pt\"][channels[0], :])\n",
    "    plt.yscale(\"log\")\n",
    "plt.legend(samples)\n",
    "plt.subplot(1, 2, 2)\n",
    "for sample in samples:\n",
    "    utilities.plot(out[sample][\"hists\"][\"muon_pt\"][channels[0], :])\n",
    "    plt.yscale(\"log\")\n",
    "plt.legend(samples)"
   ]
  },
  {
   "cell_type": "code",
   "execution_count": 16,
   "id": "3ae5572d-86e4-45d0-b63d-f192e783d0cd",
   "metadata": {
    "tags": []
   },
   "outputs": [
    {
     "data": {
      "text/plain": [
       "<matplotlib.legend.Legend at 0x7efebc45a340>"
      ]
     },
     "execution_count": 16,
     "metadata": {},
     "output_type": "execute_result"
    },
    {
     "data": {
      "image/png": "[encoded data removed]",
      "text/plain": [
       "<Figure size 1200x500 with 2 Axes>"
      ]
     },
     "metadata": {},
     "output_type": "display_data"
    }
   ],
   "source": [
    "plt.subplots(1, 2, figsize=(2*12, 10))\n",
    "plt.subplot(1, 2, 1)\n",
    "for sample in samples:\n",
    "    utilities.plot(out_unweighted[sample][\"hists\"][\"muon_pt\"][channels[0], :], density=True)\n",
    "    plt.yscale(\"log\")\n",
    "plt.legend(samples)\n",
    "plt.subplot(1, 2, 2)\n",
    "for sample in samples:\n",
    "    utilities.plot(out[sample][\"hists\"][\"muon_pt\"][channels[0], :], density=True)\n",
    "    plt.yscale(\"log\")\n",
    "plt.legend(samples)"
   ]
  },
  {
   "cell_type": "code",
   "execution_count": 17,
   "id": "67b5a40f-b024-4d48-8a86-895cb6cf2b3a",
   "metadata": {
    "tags": []
   },
   "outputs": [
    {
     "data": {
      "text/plain": [
       "{'muon_n': Hist(\n",
       "   StrCategory(['2mu2e'], name='channel'),\n",
       "   Regular(10, 0, 10, name='muons_n', label='Number of PF Muons'),\n",
       "   storage=Weight()) # Sum: WeightedSum(value=1781, variance=1781),\n",
       " 'muon_pt': Hist(\n",
       "   StrCategory(['2mu2e'], name='channel'),\n",
       "   Regular(100, 0, 500, name='muons_pt', label='PF Muon $p_T$'),\n",
       "   storage=Weight()) # Sum: WeightedSum(value=3461, variance=3461),\n",
       " 'muon_dxy': Hist(\n",
       "   StrCategory(['2mu2e'], name='channel'),\n",
       "   Regular(100, 0, 100, name='muons_dxy', label='PF Muon $d_0$'),\n",
       "   storage=Weight()) # Sum: WeightedSum(value=1731, variance=1731) (WeightedSum(value=3461, variance=3461) with flow),\n",
       " 'muon_eta_phi': Hist(\n",
       "   StrCategory(['2mu2e'], name='channel'),\n",
       "   Regular(50, -3, 3, name='muons_eta', label='PF Muon $\\\\eta$'),\n",
       "   Regular(50, -3.14159, 3.14159, name='muons_phi', label='PF Muon $\\\\phi$'),\n",
       "   storage=Weight()) # Sum: WeightedSum(value=3461, variance=3461),\n",
       " 'muon_absD0': Hist(\n",
       "   StrCategory(['2mu2e'], name='channel'),\n",
       "   Regular(100, 0, 500, name='muons_dxy', label='PF Muon |$d_0$|'),\n",
       "   storage=Weight()) # Sum: WeightedSum(value=3461, variance=3461),\n",
       " 'muon_absD0_lowRange': Hist(\n",
       "   StrCategory(['2mu2e'], name='channel'),\n",
       "   Regular(100, 0, 10, name='muons_dxy', label='PF Muon |$d_0$|'),\n",
       "   storage=Weight()) # Sum: WeightedSum(value=3461, variance=3461)}"
      ]
     },
     "execution_count": 17,
     "metadata": {},
     "output_type": "execute_result"
    }
   ],
   "source": [
    "out_unweighted[samples[0]][\"hists\"]"
   ]
  },
  {
   "cell_type": "code",
   "execution_count": 18,
   "id": "3764eb6a-56f0-46ad-ade1-044fb89bb17e",
   "metadata": {
    "tags": []
   },
   "outputs": [
    {
     "data": {
      "text/plain": [
       "{'muon_n': Hist(\n",
       "   StrCategory(['2mu2e'], name='channel'),\n",
       "   Regular(10, 0, 10, name='muons_n', label='Number of PF Muons'),\n",
       "   storage=Weight()) # Sum: WeightedSum(value=20, variance=20),\n",
       " 'muon_pt': Hist(\n",
       "   StrCategory(['2mu2e'], name='channel'),\n",
       "   Regular(100, 0, 500, name='muons_pt', label='PF Muon $p_T$'),\n",
       "   storage=Weight()) # Sum: WeightedSum(value=53, variance=53),\n",
       " 'muon_dxy': Hist(\n",
       "   StrCategory(['2mu2e'], name='channel'),\n",
       "   Regular(100, 0, 100, name='muons_dxy', label='PF Muon $d_0$'),\n",
       "   storage=Weight()) # Sum: WeightedSum(value=28, variance=28) (WeightedSum(value=53, variance=53) with flow),\n",
       " 'muon_eta_phi': Hist(\n",
       "   StrCategory(['2mu2e'], name='channel'),\n",
       "   Regular(50, -3, 3, name='muons_eta', label='PF Muon $\\\\eta$'),\n",
       "   Regular(50, -3.14159, 3.14159, name='muons_phi', label='PF Muon $\\\\phi$'),\n",
       "   storage=Weight()) # Sum: WeightedSum(value=53, variance=53),\n",
       " 'muon_absD0': Hist(\n",
       "   StrCategory(['2mu2e'], name='channel'),\n",
       "   Regular(100, 0, 500, name='muons_dxy', label='PF Muon |$d_0$|'),\n",
       "   storage=Weight()) # Sum: WeightedSum(value=53, variance=53),\n",
       " 'muon_absD0_lowRange': Hist(\n",
       "   StrCategory(['2mu2e'], name='channel'),\n",
       "   Regular(100, 0, 10, name='muons_dxy', label='PF Muon |$d_0$|'),\n",
       "   storage=Weight()) # Sum: WeightedSum(value=53, variance=53)}"
      ]
     },
     "execution_count": 18,
     "metadata": {},
     "output_type": "execute_result"
    }
   ],
   "source": [
    "out_unweighted[samples[1]][\"hists\"]"
   ]
  },
  {
   "cell_type": "code",
   "execution_count": null,
   "id": "bfdb233b-f6bf-4673-b216-a1be039787cd",
   "metadata": {},
   "outputs": [],
   "source": []
  }
 ],
 "metadata": {
  "kernelspec": {
   "display_name": "Python 3 (ipykernel)",
   "language": "python",
   "name": "python3"
  },
  "language_info": {
   "codemirror_mode": {
    "name": "ipython",
    "version": 3
   },
   "file_extension": ".py",
   "mimetype": "text/x-python",
   "name": "python",
   "nbconvert_exporter": "python",
   "pygments_lexer": "ipython3",
   "version": "3.9.18"
  }
 },
 "nbformat": 4,
 "nbformat_minor": 5
}
