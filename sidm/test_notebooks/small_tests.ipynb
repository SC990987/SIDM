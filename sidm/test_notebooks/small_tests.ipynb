{
 "cells": [
  {
   "cell_type": "code",
   "execution_count": 1,
   "id": "3569f0cf-08fe-42de-befa-2814a0008f11",
   "metadata": {},
   "outputs": [],
   "source": [
    "import os\n",
    "\n",
    "import numpy as np\n",
    "import awkward as ak\n",
    "import coffea.processor as processor\n",
    "from coffea.nanoevents import schemas\n",
    "import hist"
   ]
  },
  {
   "cell_type": "code",
   "execution_count": 2,
   "id": "29fc2b90-cd46-405c-bc20-0a4bbac5fbb4",
   "metadata": {},
   "outputs": [],
   "source": [
    "fileset = {\n",
    "    'ZZ' : [\n",
    "        'root://xcache//store/mc/RunIISummer16NanoAODv5/ZZTo4L_13TeV_powheg_pythia8/NANOAODSIM/PUMoriond17_Nano1June2019_102X_mcRun2_asymptotic_v7-v1/30000/010B000A-0883-064B-B250-A6159DB2603A.root',\n",
    "    ],\n",
    "}"
   ]
  },
  {
   "cell_type": "code",
   "execution_count": 20,
   "id": "1b2c4dfc-4b21-4603-9091-485ee3008223",
   "metadata": {},
   "outputs": [],
   "source": [
    "class Processor(processor.ProcessorABC):\n",
    "    def process(self, events):\n",
    "        dataset = events.metadata[\"dataset\"]\n",
    "        \n",
    "        self.dataset_axis = hist.axis.StrCategory(name=\"dataset\", label=\"\", categories=[], growth=True)\n",
    "        self.bins = {}\n",
    "        \n",
    "        self.bins['e_pT'] = hist.axis.Regular(name=\"e_pT\", label=\"electron $p_{T}$ [GeV]\", bins = 20, start=0, stop=200)\n",
    "        \n",
    "        output = {}\n",
    "        for h in self.bins:\n",
    "            output[h] = hist.Hist(self.dataset_axis, self.bins[h], label=\"Events\")\n",
    "        \n",
    "        electrons = events.Electron\n",
    "        \n",
    "        electrons = electrons[\n",
    "            (np.abs(electrons.eta) < 2.5) &\n",
    "            (electrons.lostHits == 0) &\n",
    "            (electrons.convVeto) &\n",
    "            (electrons.tightCharge > 0) &\n",
    "            (electrons.pt > 10)\n",
    "        ]\n",
    "        \n",
    "        output['e_pT'].fill(dataset=dataset, e_pT=ak.flatten(electrons.pt))\n",
    "        \n",
    "        return output\n",
    "\n",
    "    def postprocess(self, accumulator):\n",
    "        pass\n",
    "        "
   ]
  },
  {
   "cell_type": "code",
   "execution_count": 21,
   "id": "d370841d-ffcb-414b-9d4d-2b514f65f1af",
   "metadata": {},
   "outputs": [],
   "source": [
    "from dask.distributed import Client\n",
    "client = Client(\"tls://localhost:8786\")"
   ]
  },
  {
   "cell_type": "code",
   "execution_count": 22,
   "id": "66fab0a6-1cf6-43dc-8cd1-8521ed2f2f7e",
   "metadata": {},
   "outputs": [
    {
     "name": "stdout",
     "output_type": "stream",
     "text": [
      "Total time: 3############################] | 100% Completed |  1.4s\n",
      "Events / s / thread: 347,228\n",
      "Events / s: 15,195\n"
     ]
    }
   ],
   "source": [
    "import time\n",
    "\n",
    "# This function ensures that we aren't overwriting Dask report filenames.\n",
    "def unique(filename):\n",
    "    file, ext = os.path.splitext(filename)\n",
    "    counter = 0\n",
    "    while os.path.exists(filename):\n",
    "        counter += 1\n",
    "        filename = file + str(counter) + ext\n",
    "    return filename\n",
    "\n",
    "tic = time.time()\n",
    "\n",
    "from dask.distributed import performance_report\n",
    "fname = unique(\"dask-report-\" + \"AUTO\" + str(int(len(fileset)/18)) + \"F\" + \".html\")\n",
    "with performance_report(filename=fname):\n",
    "    executor = processor.DaskExecutor(client=client)\n",
    "    run = processor.Runner(executor=executor,\n",
    "                        schema=schemas.NanoAODSchema,\n",
    "                        savemetrics=True\n",
    "                      )\n",
    "    output, metrics = run(fileset, \"Events\", processor_instance=Processor())\n",
    "    \n",
    "toc = time.time()\n",
    "\n",
    "print(\"Total time: %.0f\" % (toc - tic))\n",
    "print(\"Events / s / thread: {:,.0f}\".format(metrics['entries'] / metrics['processtime']))\n",
    "print(\"Events / s: {:,.0f}\".format(metrics['entries'] / (toc - tic)))"
   ]
  },
  {
   "cell_type": "code",
   "execution_count": 27,
   "id": "cf3f1c95-7904-4f46-8501-809638ef2281",
   "metadata": {},
   "outputs": [],
   "source": [
    "import matplotlib.pyplot as plt\n",
    "\n",
    "def plot_hists(output):\n",
    "    for histo in output:\n",
    "        fig, ax = plt.subplots(1)\n",
    "        output[histo].plot1d()\n",
    "        ax.legend()"
   ]
  },
  {
   "cell_type": "code",
   "execution_count": 28,
   "id": "6d8344dc-8fcc-4ce9-bab5-427a7ad79bb9",
   "metadata": {},
   "outputs": [
    {
     "data": {
      "image/png": "[encoded data removed]",
      "text/plain": [
       "<Figure size 432x288 with 1 Axes>"
      ]
     },
     "metadata": {
      "needs_background": "light"
     },
     "output_type": "display_data"
    }
   ],
   "source": [
    "plot_hists(output)"
   ]
  },
  {
   "cell_type": "code",
   "execution_count": null,
   "id": "2bb73696-160c-4c8a-8c80-c99f03bf5bf7",
   "metadata": {
    "jupyter": {
     "source_hidden": true
    },
    "tags": []
   },
   "outputs": [],
   "source": []
  }
 ],
 "metadata": {
  "kernelspec": {
   "display_name": "Python 3 (ipykernel)",
   "language": "python",
   "name": "python3"
  },
  "language_info": {
   "codemirror_mode": {
    "name": "ipython",
    "version": 3
   },
   "file_extension": ".py",
   "mimetype": "text/x-python",
   "name": "python",
   "nbconvert_exporter": "python",
   "pygments_lexer": "ipython3",
   "version": "3.8.13"
  }
 },
 "nbformat": 4,
 "nbformat_minor": 5
}
