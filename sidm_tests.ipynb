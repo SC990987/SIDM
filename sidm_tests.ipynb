{
 "cells": [
  {
   "cell_type": "code",
   "execution_count": 218,
   "id": "4ecfc1b9-dbfb-4923-a092-a7dc20249deb",
   "metadata": {},
   "outputs": [
    {
     "data": {
      "text/plain": [
       "<module 'utilities' from '/home/cms-jovyan/SIDM/utilities.py'>"
      ]
     },
     "execution_count": 218,
     "metadata": {},
     "output_type": "execute_result"
    }
   ],
   "source": [
    "# python\n",
    "import os\n",
    "import importlib\n",
    "\n",
    "# columnar analysis\n",
    "import uproot\n",
    "import numpy as np\n",
    "import awkward as ak\n",
    "import coffea.processor as processor\n",
    "from coffea.nanoevents import NanoEventsFactory\n",
    "import hist\n",
    "\n",
    "# local\n",
    "import FFSchema\n",
    "import utilities\n",
    "# always reload local modules to pick up changes during development\n",
    "importlib.reload(FFSchema)\n",
    "importlib.reload(utilities)"
   ]
  },
  {
   "cell_type": "code",
   "execution_count": 219,
   "id": "2bd55684-ee0a-4de9-9915-009701734953",
   "metadata": {},
   "outputs": [],
   "source": [
    "fname = 'root://xcache//store/group/lpcmetx/SIDM/ffNtupleV4/2018/SIDM_XXTo2ATo2Mu2E_mXX-100_mA-1p2_ctau-9p6_TuneCP5_13TeV-madgraph-pythia8/RunIIAutumn18DRPremix-102X_upgrade2018_realistic_v15-v1/210326_161703/0000/ffNtuple_1.root'"
   ]
  },
  {
   "cell_type": "code",
   "execution_count": 220,
   "id": "22f3392c-3da0-4389-8fc2-2f2b33bdd33c",
   "metadata": {
    "tags": []
   },
   "outputs": [
    {
     "name": "stdout",
     "output_type": "stream",
     "text": [
      "run\n",
      "event\n",
      "lumi\n",
      "fixedGridRho\n",
      "puInteractionNum\n",
      "trueInteractionNum\n",
      "weight\n",
      "weightProduct\n",
      "pv_n\n",
      "gen_n\n",
      "genjet_n\n",
      "HLT_DoubleL2Mu23NoVtx_2Cha\n",
      "HLT_DoubleL2Mu23NoVtx_2Cha_NoL2Matched\n",
      "HLT_DoubleL2Mu23NoVtx_2Cha_CosmicSeed\n",
      "HLT_DoubleL2Mu23NoVtx_2Cha_CosmicSeed_NoL2Matched\n",
      "HLT_DoubleL2Mu25NoVtx_2Cha\n",
      "HLT_DoubleL2Mu25NoVtx_2Cha_NoL2Matched\n",
      "HLT_DoubleL2Mu25NoVtx_2Cha_CosmicSeed\n",
      "HLT_DoubleL2Mu25NoVtx_2Cha_CosmicSeed_NoL2Matched\n",
      "HLT_DoubleL2Mu25NoVtx_2Cha_Eta2p4\n",
      "HLT_DoubleL2Mu25NoVtx_2Cha_CosmicSeed_Eta2p4\n",
      "trigobj_n\n",
      "electron_n\n",
      "muon_n\n",
      "dsamuon_n\n",
      "photon_n\n",
      "pfphoton_n\n",
      "tomatchfilter_result\n",
      "tomatchfilter_HLTDoubleL2Mu23NoVtx2Cha\n",
      "tomatchfilter_HLTDoubleL2Mu23NoVtx2ChaNoL2Matched\n",
      "tomatchfilter_HLTDoubleL2Mu23NoVtx2ChaCosmicSeed\n",
      "tomatchfilter_HLTDoubleL2Mu23NoVtx2ChaCosmicSeedNoL2Matched\n",
      "tomatchfilter_HLTDoubleL2Mu25NoVtx2ChaEta2p4\n",
      "tomatchfilter_HLTDoubleL2Mu25NoVtx2ChaCosmicSeedEta2p4\n",
      "cosmicmuon_n\n",
      "cosmiconeleg_n\n",
      "akjet_ak4PFJetsCHS_n\n",
      "hftagscore_n\n",
      "pfjet_n\n",
      "ljsource_n\n",
      "proxymuon_n\n",
      "pfMetT0pcT1\n",
      "ljsource\n",
      "gen\n",
      "proxymuon\n",
      "hftagscore\n",
      "genmet\n",
      "electron\n",
      "pfMet\n",
      "pfjet\n",
      "metfilters\n",
      "akjet_ak4PFJetsCHS\n",
      "dsamuon\n",
      "cosmicmuon\n",
      "photon\n",
      "muon\n",
      "cosmicveto\n",
      "trigobj\n",
      "pfMetT0pcT1Txy\n",
      "genjet\n",
      "pfphoton\n",
      "cosmiconeleg\n",
      "pv\n",
      "pfMetT1\n"
     ]
    }
   ],
   "source": [
    "events = NanoEventsFactory.from_root(fname, treepath='ffNtuplizer/ffNtuple', schemaclass=FFSchema.FFSchema).events()\n",
    "utilities.print_list(ak.fields(events))"
   ]
  },
  {
   "cell_type": "code",
   "execution_count": 221,
   "id": "63838ef0-c2e7-485d-8ed8-3b35d9576afd",
   "metadata": {},
   "outputs": [
    {
     "name": "stdout",
     "output_type": "stream",
     "text": [
      "2\n",
      "18359 * var * float32[parameters={\"__doc__\": \"pfjet_area\"}]\n",
      "3\n",
      "18359 * var * var * float64[parameters={\"__doc__\": \"pfjet_pfcand_pt\"}]\n"
     ]
    }
   ],
   "source": [
    "#events\n",
    "#ak.count(events.pfjet_pfcand.pt)\n",
    "#events.muon\n",
    "#events = events[ak.num(events.muon) > 0]\n",
    "#events = events[ak.num(events.electron) > 0]\n",
    "#events.muon[:, 0].p4.delta_r(events.electron.p4)\n",
    "#print(events.pfjet.layout)\n",
    "#print(len(events.pfjet.area))\n",
    "#print(ak.count(events.pfjet.area))\n",
    "print(events.pfjet.area.ndim)\n",
    "print(ak.type(events.pfjet.area))\n",
    "print(events.pfjet.pfcand.pt.ndim)\n",
    "print(ak.type(events.pfjet.pfcand.pt))"
   ]
  },
  {
   "cell_type": "code",
   "execution_count": 222,
   "id": "d730f748-242e-40ab-a659-3ce32fd9b439",
   "metadata": {},
   "outputs": [
    {
     "data": {
      "text/plain": [
       "<Array [[0.509], [], ... [0.559, 0.519], []] type='18359 * var * float32[paramet...'>"
      ]
     },
     "execution_count": 222,
     "metadata": {},
     "output_type": "execute_result"
    }
   ],
   "source": [
    "events.pfjet.area"
   ]
  },
  {
   "cell_type": "code",
   "execution_count": 223,
   "id": "d565fec5-75ee-4eb5-8813-68004a99dc7a",
   "metadata": {},
   "outputs": [
    {
     "data": {
      "text/plain": [
       "<Array [[[29.1, 13.4]], ... 21.6, 16.9]], []] type='18359 * var * var * float64[...'>"
      ]
     },
     "execution_count": 223,
     "metadata": {},
     "output_type": "execute_result"
    }
   ],
   "source": [
    "events.pfjet.pfcand.pt"
   ]
  },
  {
   "cell_type": "code",
   "execution_count": 224,
   "id": "a8da2307-4ef6-4e01-b76d-280a22052d61",
   "metadata": {},
   "outputs": [
    {
     "data": {
      "text/plain": [
       "18359 * var * {\"lxy\": float32[parameters={\"__doc__\": \"pfjet_kinvtx_lxy\"}], \"l3d\": float32[parameters={\"__doc__\": \"pfjet_kinvtx_l3d\"}], \"lxySig\": float32[parameters={\"__doc__\": \"pfjet_kinvtx_lxySig\"}], \"l3dSig\": float32[parameters={\"__doc__\": \"pfjet_kinvtx_l3dSig\"}], \"normChi2\": float32[parameters={\"__doc__\": \"pfjet_kinvtx_normChi2\"}], \"prob\": float32[parameters={\"__doc__\": \"pfjet_kinvtx_prob\"}], \"mass\": float32[parameters={\"__doc__\": \"pfjet_kinvtx_mass\"}], \"cosThetaXy\": float32[parameters={\"__doc__\": \"pfjet_kinvtx_cosThetaXy\"}], \"cosTheta3d\": float32[parameters={\"__doc__\": \"pfjet_kinvtx_cosTheta3d\"}], \"impactDistXy\": float32[parameters={\"__doc__\": \"pfjet_kinvtx_impactDistXy\"}], \"impactDist3d\": float32[parameters={\"__doc__\": \"pfjet_kinvtx_impactDist3d\"}], \"tkImpactDist2d\": var * float64[parameters={\"__doc__\": \"pfjet_kinvtx_tkImpactDist2d\"}], \"tkImpactDist3d\": var * float64[parameters={\"__doc__\": \"pfjet_kinvtx_tkImpactDist3d\"}], \"p3\": ThreeVector[\"x\": float32[parameters={\"__doc__\": \"fX[pfjet_kinvtx_]\"}], \"y\": float32[parameters={\"__doc__\": \"fY[pfjet_kinvtx_]\"}], \"z\": float32[parameters={\"__doc__\": \"fZ[pfjet_kinvtx_]\"}]]}"
      ]
     },
     "execution_count": 224,
     "metadata": {},
     "output_type": "execute_result"
    }
   ],
   "source": [
    "ak.type(events.pfjet.kinvtx)"
   ]
  },
  {
   "cell_type": "code",
   "execution_count": 225,
   "id": "33285226-0dd7-4573-8bbb-522e6824b410",
   "metadata": {},
   "outputs": [],
   "source": [
    "events = events[ak.num(events.pfjet) > 0]"
   ]
  },
  {
   "cell_type": "code",
   "execution_count": 226,
   "id": "124ddcf7-532a-4637-9205-40ce0d20f649",
   "metadata": {},
   "outputs": [
    {
     "data": {
      "text/plain": [
       "<Array [[[29.1, 13.4]], ... [21.6, 16.9]]] type='13524 * var * var * float64[par...'>"
      ]
     },
     "execution_count": 226,
     "metadata": {},
     "output_type": "execute_result"
    }
   ],
   "source": [
    "events.pfjet.pfcand.pt[:]"
   ]
  },
  {
   "cell_type": "code",
   "execution_count": 227,
   "id": "da3596e2-88e6-431c-9912-b11cc84e597a",
   "metadata": {},
   "outputs": [
    {
     "data": {
      "text/plain": [
       "29003"
      ]
     },
     "execution_count": 227,
     "metadata": {},
     "output_type": "execute_result"
    }
   ],
   "source": [
    "events.pfjet.pfcand.pt[:]\n",
    "ak.count(events.pfjet.pfcand.pt[:])"
   ]
  },
  {
   "cell_type": "code",
   "execution_count": 228,
   "id": "1b55b00b-bf10-4ce9-8b40-9940456c5d9f",
   "metadata": {},
   "outputs": [
    {
     "data": {
      "text/plain": [
       "<Array [1, 1, 1, 2, 1, 1, ... 1, 2, 1, 1, 1, 2] type='13524 * int64'>"
      ]
     },
     "execution_count": 228,
     "metadata": {},
     "output_type": "execute_result"
    }
   ],
   "source": [
    "ak.num(events.pfjet)"
   ]
  },
  {
   "cell_type": "code",
   "execution_count": null,
   "id": "cafba17a-53e2-4420-b496-eb5a38ed63aa",
   "metadata": {},
   "outputs": [],
   "source": []
  },
  {
   "cell_type": "code",
   "execution_count": null,
   "id": "971dad7b-67cb-42e9-b96b-316d7e5d3d9e",
   "metadata": {},
   "outputs": [],
   "source": []
  }
 ],
 "metadata": {
  "kernelspec": {
   "display_name": "Python 3 (ipykernel)",
   "language": "python",
   "name": "python3"
  },
  "language_info": {
   "codemirror_mode": {
    "name": "ipython",
    "version": 3
   },
   "file_extension": ".py",
   "mimetype": "text/x-python",
   "name": "python",
   "nbconvert_exporter": "python",
   "pygments_lexer": "ipython3",
   "version": "3.8.13"
  }
 },
 "nbformat": 4,
 "nbformat_minor": 5
}
