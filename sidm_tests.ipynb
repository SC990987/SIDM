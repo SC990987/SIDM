{
 "cells": [
  {
   "cell_type": "code",
   "execution_count": 21,
   "id": "4ecfc1b9-dbfb-4923-a092-a7dc20249deb",
   "metadata": {},
   "outputs": [],
   "source": [
    "import os\n",
    "\n",
    "import numpy as np\n",
    "import awkward as ak\n",
    "import coffea.processor as processor\n",
    "from coffea.nanoevents import NanoEventsFactory, NanoAODSchema\n",
    "import hist\n",
    "\n",
    "from utilities import print_list"
   ]
  },
  {
   "cell_type": "code",
   "execution_count": 19,
   "id": "29fc2b90-cd46-405c-bc20-0a4bbac5fbb4",
   "metadata": {},
   "outputs": [
    {
     "name": "stdout",
     "output_type": "stream",
     "text": [
      "cosmiconeleg\n",
      "pfMetT1/fCoordinates/fCoordinates.fY\n",
      "pv\n",
      "genjet\n",
      "pfMetT1/fCoordinates/fCoordinates.fX\n",
      "pfMet/fCoordinates/fCoordinates.fY\n",
      "metfilters\n",
      "tomatchfilter\n",
      "akjet\n",
      "proxymuon\n",
      "HLT\n",
      "pfMetT0pcT1/fCoordinates/fCoordinates.fY\n",
      "run\n",
      "electron\n",
      "cosmicmuon\n",
      "lumi\n",
      "pfjet\n",
      "dsamuon\n",
      "pfMetT0pcT1/fCoordinates/fCoordinates.fX\n",
      "trueInteractionNum\n",
      "ljsource\n",
      "weightProduct\n",
      "cosmicveto\n",
      "gen\n",
      "genmet/fCoordinates/fCoordinates.fX\n",
      "pfMetT0pcT1Txy/fCoordinates/fCoordinates.fX\n",
      "pfMetT0pcT1Txy/fCoordinates/fCoordinates.fY\n",
      "muon\n",
      "pfMet/fCoordinates/fCoordinates.fX\n",
      "fixedGridRho\n",
      "pfphoton\n",
      "event\n",
      "weight\n",
      "photon\n",
      "hftagscore\n",
      "puInteractionNum\n",
      "trigobj\n",
      "genmet/fCoordinates/fCoordinates.fY\n"
     ]
    }
   ],
   "source": [
    "fname = 'root://xcache//store/group/lpcmetx/SIDM/ffNtupleV4/2018/SIDM_XXTo2ATo2Mu2E_mXX-100_mA-1p2_ctau-9p6_TuneCP5_13TeV-madgraph-pythia8/RunIIAutumn18DRPremix-102X_upgrade2018_realistic_v15-v1/210326_161703/0000/ffNtuple_1.root'\n",
    "events = NanoEventsFactory.from_root(fname, treepath='ffNtuplizer/ffNtuple', schemaclass=NanoAODSchema).events()\n",
    "\n",
    "print_list(ak.fields(events))\n",
    "#print_list(ak.fields(events.muon))\n",
    "#print(ak.fields(events.electron))\n",
    "#print(ak.fields(events.ljsource))"
   ]
  },
  {
   "cell_type": "code",
   "execution_count": 20,
   "id": "63838ef0-c2e7-485d-8ed8-3b35d9576afd",
   "metadata": {},
   "outputs": [
    {
     "data": {
      "text/plain": [
       "<Array [[-15.1, -7.12, ... 0.547, -0.302]] type='18359 * var * float32[parameter...'>"
      ]
     },
     "execution_count": 20,
     "metadata": {},
     "output_type": "execute_result"
    }
   ],
   "source": [
    "events.muon['p4/muon_p4.fCoordinates.fX']"
   ]
  },
  {
   "cell_type": "code",
   "execution_count": 18,
   "id": "7245b2fc-c5a7-4e20-ae38-c0e9e41907a7",
   "metadata": {},
   "outputs": [],
   "source": [
    "# next steps\n",
    "#   make electrons, muons, and ljs into candidates so I can do .pt and such\n",
    "#   might need to make my own schema that inherets from NanoAODSchema"
   ]
  },
  {
   "cell_type": "code",
   "execution_count": null,
   "id": "f5fe8ec3-d6d6-495c-bfd2-c18d464e0922",
   "metadata": {},
   "outputs": [],
   "source": []
  }
 ],
 "metadata": {
  "kernelspec": {
   "display_name": "Python 3 (ipykernel)",
   "language": "python",
   "name": "python3"
  },
  "language_info": {
   "codemirror_mode": {
    "name": "ipython",
    "version": 3
   },
   "file_extension": ".py",
   "mimetype": "text/x-python",
   "name": "python",
   "nbconvert_exporter": "python",
   "pygments_lexer": "ipython3",
   "version": "3.8.13"
  }
 },
 "nbformat": 4,
 "nbformat_minor": 5
}
