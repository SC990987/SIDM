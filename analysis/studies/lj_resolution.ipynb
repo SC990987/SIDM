{
 "cells": [
  {
   "cell_type": "markdown",
   "id": "6d01282f-fac3-4ad5-9d4f-1ed10751847d",
   "metadata": {},
   "source": [
    "Notebook to study LJ pT and bound state mass resolution"
   ]
  },
  {
   "cell_type": "code",
   "execution_count": 1,
   "id": "1a876a37-9609-4331-9a2c-671b1a12dbf9",
   "metadata": {
    "tags": []
   },
   "outputs": [
    {
     "data": {
      "text/plain": [
       "<module 'analysis.tools.sidm_processor' from '/home/cms-jovyan/SIDM/analysis/studies/../../analysis/tools/sidm_processor.py'>"
      ]
     },
     "execution_count": 1,
     "metadata": {},
     "output_type": "execute_result"
    }
   ],
   "source": [
    "# python\n",
    "import sys\n",
    "import os\n",
    "import importlib\n",
    "# columnar analysis\n",
    "from coffea import processor\n",
    "import awkward as ak\n",
    "from dask.distributed import Client\n",
    "#plotting\n",
    "import matplotlib.pyplot as plt\n",
    "# local\n",
    "sys.path.insert(1, os.path.join(sys.path[0], '../..')) # fixme: there must be a better way to handle this...\n",
    "from analysis.tools import ffschema, sidm_processor\n",
    "# always reload local modules to pick up changes during development\n",
    "importlib.reload(ffschema)\n",
    "importlib.reload(sidm_processor)"
   ]
  },
  {
   "cell_type": "markdown",
   "id": "df74e3b1-23d5-4162-b65d-fae4bfc7a190",
   "metadata": {},
   "source": [
    "Start by looking at default 2mu2e sample with 2mu2e selection, no LJ pT cut, and matched dark photons."
   ]
  },
  {
   "cell_type": "code",
   "execution_count": 9,
   "id": "4186f023-c5de-48c7-a11f-0fcbfb879f3f",
   "metadata": {},
   "outputs": [],
   "source": [
    "fileset = {\n",
    "    \"2Mu2E_100GeV_1p2GeV_9p6mm\": [\n",
    "        \"root://xcache//store/group/lpcmetx/SIDM/ffNtupleV4/2018/SIDM_XXTo2ATo2Mu2E_mXX-100_mA-1p2_ctau-9p6_TuneCP5_13TeV-madgraph-pythia8/RunIIAutumn18DRPremix-102X_upgrade2018_realistic_v15-v1/210326_161703/0000/ffNtuple_1.root\",\n",
    "    ],\n",
    "}"
   ]
  },
  {
   "cell_type": "code",
   "execution_count": 28,
   "id": "80ae8360-b7ef-48b1-9a70-cfa943d038dc",
   "metadata": {},
   "outputs": [
    {
     "data": {
      "application/vnd.jupyter.widget-view+json": {
       "model_id": "41037e778d4b43cda52ca148acd3b441",
       "version_major": 2,
       "version_minor": 0
      },
      "text/plain": [
       "Output()"
      ]
     },
     "metadata": {},
     "output_type": "display_data"
    },
    {
     "name": "stdout",
     "output_type": "stream",
     "text": [
      "<analysis.tools.sidm_processor.SidmProcessor object at 0x7f90754c40a0>\n"
     ]
    },
    {
     "data": {
      "text/html": [
       "<pre style=\"white-space:pre;overflow-x:auto;line-height:normal;font-family:Menlo,'DejaVu Sans Mono',consolas,'Courier New',monospace\"></pre>\n"
      ],
      "text/plain": []
     },
     "metadata": {},
     "output_type": "display_data"
    },
    {
     "data": {
      "text/html": [
       "<pre style=\"white-space:pre;overflow-x:auto;line-height:normal;font-family:Menlo,'DejaVu Sans Mono',consolas,'Courier New',monospace\">\n",
       "</pre>\n"
      ],
      "text/plain": [
       "\n"
      ]
     },
     "metadata": {},
     "output_type": "display_data"
    }
   ],
   "source": [
    "runner = processor.Runner(\n",
    "    executor=processor.IterativeExecutor(),\n",
    "    #executor=processor.FuturesExecutor(),\n",
    "    schema=ffschema.FFSchema,\n",
    ")\n",
    "\n",
    "p = sidm_processor.SidmProcessor(\n",
    "    [\n",
    "        \"2mu2e_matchedLj_noLjPtCut\",\n",
    "    ],\n",
    "    [\"base_plus_gen\"]\n",
    ")\n",
    "\n",
    "# test if processor is serializable\n",
    "import coffea.util as coffea_util\n",
    "coffea_util.save(p, \"processor.coffea\")\n",
    "print(coffea_util.load(\"processor.coffea\"))\n",
    "\n",
    "output = runner.run(fileset, treename=\"ffNtuplizer/ffNtuple\", processor_instance=p)\n",
    "hists = output[\"out\"][\"2Mu2E_100GeV_1p2GeV_9p6mm\"][\"hists\"]"
   ]
  },
  {
   "cell_type": "markdown",
   "id": "066202f1-6470-4594-a29d-42516f9150a5",
   "metadata": {},
   "source": [
    "Take a look at ratio of LJ pT to dark photon pT"
   ]
  },
  {
   "cell_type": "code",
   "execution_count": 29,
   "id": "85a6fc97-da6d-4bdc-b9b7-f969bad5ec55",
   "metadata": {},
   "outputs": [
    {
     "data": {
      "text/plain": [
       "[StairsArtists(stairs=<matplotlib.patches.StepPatch object at 0x7f907652da60>, errorbar=<ErrorbarContainer object of 3 artists>, legend_artist=<ErrorbarContainer object of 3 artists>)]"
      ]
     },
     "execution_count": 29,
     "metadata": {},
     "output_type": "execute_result"
    },
    {
     "data": {
      "image/png": "[encoded data removed]",
      "text/plain": [
       "<Figure size 640x480 with 1 Axes>"
      ]
     },
     "metadata": {},
     "output_type": "display_data"
    }
   ],
   "source": [
    "hists[\"lj_genA_pT_ratio\"].plot1d()"
   ]
  },
  {
   "cell_type": "markdown",
   "id": "879c9a6e-a757-4217-b573-8acc6f961abe",
   "metadata": {},
   "source": [
    "Weird... The peak at 1.0 looks good, and it's skewed to low values like I suspected it might be, but I have no idea where the dip around 0.9 comes from."
   ]
  }
 ],
 "metadata": {
  "kernelspec": {
   "display_name": "Python 3 (ipykernel)",
   "language": "python",
   "name": "python3"
  },
  "language_info": {
   "codemirror_mode": {
    "name": "ipython",
    "version": 3
   },
   "file_extension": ".py",
   "mimetype": "text/x-python",
   "name": "python",
   "nbconvert_exporter": "python",
   "pygments_lexer": "ipython3",
   "version": "3.8.13"
  }
 },
 "nbformat": 4,
 "nbformat_minor": 5
}
