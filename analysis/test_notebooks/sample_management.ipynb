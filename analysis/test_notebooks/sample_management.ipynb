{
 "cells": [
  {
   "cell_type": "code",
   "execution_count": 10,
   "id": "570b7671-e4bf-4e86-9466-988a3d473645",
   "metadata": {
    "tags": []
   },
   "outputs": [
    {
     "data": {
      "text/plain": [
       "<module 'analysis.tools.utilities' from '/home/cms-jovyan/SIDM/analysis/test_notebooks/../../analysis/tools/utilities.py'>"
      ]
     },
     "execution_count": 10,
     "metadata": {},
     "output_type": "execute_result"
    }
   ],
   "source": [
    "# python\n",
    "import sys\n",
    "import os\n",
    "import importlib\n",
    "# columnar analysis\n",
    "from coffea import processor\n",
    "# local\n",
    "sys.path.insert(1, os.path.join(sys.path[0], '../..')) # fixme: there must be a better way to handle this...\n",
    "from analysis.tools import ffschema, sidm_processor, utilities\n",
    "# always reload local modules to pick up changes during development\n",
    "importlib.reload(ffschema)\n",
    "importlib.reload(sidm_processor)\n",
    "importlib.reload(utilities)"
   ]
  },
  {
   "cell_type": "code",
   "execution_count": null,
   "id": "88b5bd44-d69b-406e-8323-9a3c08851261",
   "metadata": {},
   "outputs": [
    {
     "data": {
      "application/vnd.jupyter.widget-view+json": {
       "model_id": "fc266e5803fb478ba7c2d9effc2c2c11",
       "version_major": 2,
       "version_minor": 0
      },
      "text/plain": [
       "Output()"
      ]
     },
     "metadata": {},
     "output_type": "display_data"
    }
   ],
   "source": [
    "samples = [\n",
    "    \"2Mu2E_100GeV_1p2GeV_0p096mm\",\n",
    "    \"2Mu2E_100GeV_1p2GeV_9p6mm\",\n",
    "]\n",
    "fileset = utilities.make_fileset(samples, \"ffntuple_v4\")\n",
    "\n",
    "runner = processor.Runner(\n",
    "    executor=processor.FuturesExecutor(),\n",
    "    schema=ffschema.FFSchema,\n",
    ")\n",
    "\n",
    "p = sidm_processor.SidmProcessor(\n",
    "    [\n",
    "        \"2mu2e\",\n",
    "    ],\n",
    "    [\"base\"]\n",
    ")\n",
    "\n",
    "output = runner.run(fileset, treename=\"ffNtuplizer/ffNtuple\", processor_instance=p)"
   ]
  },
  {
   "cell_type": "code",
   "execution_count": null,
   "id": "0facc489-ae55-4266-b991-d8b133b11a3c",
   "metadata": {},
   "outputs": [],
   "source": [
    "output['out'][\"2Mu2E_100GeV_1p2GeV_0p096mm\"][\"cutflow\"][\"2mu2e\"].print_table()\n",
    "output['out'][\"2Mu2E_100GeV_1p2GeV_0p096mm\"][\"cutflow\"][\"2mu2e\"].print_table(fraction=True)\n",
    "print()\n",
    "output['out'][\"2Mu2E_100GeV_1p2GeV_9p6mm\"][\"cutflow\"][\"2mu2e\"].print_table()\n",
    "output['out'][\"2Mu2E_100GeV_1p2GeV_9p6mm\"][\"cutflow\"][\"2mu2e\"].print_table(fraction=True)"
   ]
  },
  {
   "cell_type": "code",
   "execution_count": null,
   "id": "b7416f6c-edcb-4d47-aeb9-8b7677165226",
   "metadata": {},
   "outputs": [],
   "source": []
  }
 ],
 "metadata": {
  "kernelspec": {
   "display_name": "Python 3 (ipykernel)",
   "language": "python",
   "name": "python3"
  },
  "language_info": {
   "codemirror_mode": {
    "name": "ipython",
    "version": 3
   },
   "file_extension": ".py",
   "mimetype": "text/x-python",
   "name": "python",
   "nbconvert_exporter": "python",
   "pygments_lexer": "ipython3",
   "version": "3.8.16"
  }
 },
 "nbformat": 4,
 "nbformat_minor": 5
}
