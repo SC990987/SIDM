{
 "cells": [
  {
   "cell_type": "code",
   "execution_count": 166,
   "id": "89c5030d-129d-4b89-9e23-682d190477df",
   "metadata": {
    "tags": []
   },
   "outputs": [
    {
     "data": {
      "text/plain": [
       "<module 'analysis.tools.sidm_processor' from '/home/cms-jovyan/SIDM/analysis/test_notebooks/../../analysis/tools/sidm_processor.py'>"
      ]
     },
     "execution_count": 166,
     "metadata": {},
     "output_type": "execute_result"
    }
   ],
   "source": [
    "# python\n",
    "import sys\n",
    "import os\n",
    "import importlib\n",
    "# columnar analysis\n",
    "from coffea.nanoevents import NanoEventsFactory\n",
    "import awkward as ak\n",
    "#plotting\n",
    "import matplotlib.pyplot as plt\n",
    "# local\n",
    "sys.path.insert(1, os.path.join(sys.path[0], '../..')) # fixme: there must be a better way to handle this...\n",
    "from analysis.tools import ffschema, sidm_processor\n",
    "# always reload local modules to pick up changes during development\n",
    "importlib.reload(ffschema)\n",
    "importlib.reload(sidm_processor)"
   ]
  },
  {
   "cell_type": "code",
   "execution_count": 167,
   "id": "dcf88a93-3471-4aba-b1cd-e4effbe503ff",
   "metadata": {},
   "outputs": [],
   "source": [
    "sample_dir = \"root://xcache//store/group/lpcmetx/SIDM/ffNtupleV4/2018/\"\n",
    "sample_name = \"SIDM_XXTo2ATo2Mu2E_mXX-100_mA-1p2_ctau-9p6\"\n",
    "sample_file = f\"{sample_dir}/{sample_name}_TuneCP5_13TeV-madgraph-pythia8/RunIIAutumn18DRPremix-102X_upgrade2018_realistic_v15-v1/210326_161703/0000/ffNtuple_1.root\"\n",
    "\n",
    "events = NanoEventsFactory.from_root(\n",
    "    sample_file,\n",
    "    treepath='ffNtuplizer/ffNtuple',\n",
    "    schemaclass=ffschema.FFSchema,\n",
    "    metadata = {\n",
    "        \"sample\" : sample_name, \n",
    "    },\n",
    ").events()"
   ]
  },
  {
   "cell_type": "code",
   "execution_count": 168,
   "id": "352319b4-065d-41ef-8caf-9f89eb04e06b",
   "metadata": {},
   "outputs": [
    {
     "data": {
      "text/plain": [
       "<Array [42.5, 35.6, 18.1, ... 32.6, 71.7, 31.6] type='18359 * float32'>"
      ]
     },
     "execution_count": 168,
     "metadata": {},
     "output_type": "execute_result"
    }
   ],
   "source": [
    "events.pv.fields\n",
    "(events.ljsource[0, 0].p4 + events.ljsource[0, 1].p4).pt\n",
    "events.ljsource.p4.sum().pt"
   ]
  },
  {
   "cell_type": "code",
   "execution_count": 169,
   "id": "d67db205-7dc5-42b8-b10c-e6e7cbc7602a",
   "metadata": {},
   "outputs": [],
   "source": [
    "p = sidm_processor.SidmProcessor()\n",
    "out = p.process(events)"
   ]
  },
  {
   "cell_type": "code",
   "execution_count": 170,
   "id": "ca854db5-d501-4497-aad0-242b7eaac0b0",
   "metadata": {},
   "outputs": [
    {
     "data": {
      "text/plain": [
       "{'SIDM_XXTo2ATo2Mu2E_mXX-100_mA-1p2_ctau-9p6': {'cutflow': {'4mu': <analysis.tools.cutflow.Cutflow at 0x7efde55cc490>,\n",
       "   '2mu2e': <analysis.tools.cutflow.Cutflow at 0x7efde6ae58b0>},\n",
       "  'hists': {'pv_n': Hist(\n",
       "     StrCategory(['4mu', '2mu2e'], name='channel', label='channel'),\n",
       "     Integer(0, 100, name='pv_n', label='pv_n'),\n",
       "     storage=Double()) # Sum: 2335.0,\n",
       "   'pv_ndof': Hist(\n",
       "     StrCategory(['4mu', '2mu2e'], name='channel', label='channel'),\n",
       "     Integer(0, 20, name='pv_ndof', label='pv_ndof'),\n",
       "     storage=Double()) # Sum: 26453.0 (61403.0 with flow),\n",
       "   'pv_z': Hist(\n",
       "     StrCategory(['4mu', '2mu2e'], name='channel', label='channel'),\n",
       "     Regular(100, -50, 50, name='pv_z', label='pv_z'),\n",
       "     storage=Double()) # Sum: 61403.0,\n",
       "   'pv_rho': Hist(\n",
       "     StrCategory(['4mu', '2mu2e'], name='channel', label='channel'),\n",
       "     Regular(100, -0.5, 0.5, name='pv_rho', label='pv_rho'),\n",
       "     storage=Double()) # Sum: 61403.0,\n",
       "   'lj_n': Hist(\n",
       "     StrCategory(['4mu', '2mu2e'], name='channel', label='channel'),\n",
       "     Integer(0, 10, name='lj_n', label='lj_n'),\n",
       "     storage=Double()) # Sum: 2335.0,\n",
       "   'lj_charge': Hist(\n",
       "     StrCategory(['4mu', '2mu2e'], name='channel', label='channel'),\n",
       "     Integer(-5, 5, name='lj_charge', label='lj_charge'),\n",
       "     storage=Double()) # Sum: 4670.0,\n",
       "   'lj_pt_type': Hist(\n",
       "     StrCategory(['4mu', '2mu2e'], name='channel', label='channel'),\n",
       "     Regular(100, 0, 100, name='lj_pt', label='Lepton jet pT [GeV]'),\n",
       "     IntCategory([2, 3, 4, 8], name='lj_type', label='lj_type'),\n",
       "     storage=Double()) # Sum: 4631.0 (4670.0 with flow),\n",
       "   'lj_0_pt': Hist(\n",
       "     StrCategory(['4mu', '2mu2e'], name='channel', label='channel'),\n",
       "     Regular(100, 0, 100, name='lj_pt', label='Lepton jet pT [GeV]'),\n",
       "     storage=Double()) # Sum: 2296.0 (2335.0 with flow),\n",
       "   'lj_1_pt': Hist(\n",
       "     StrCategory(['4mu', '2mu2e'], name='channel', label='channel'),\n",
       "     Regular(100, 0, 100, name='lj_pt', label='Lepton jet pT [GeV]'),\n",
       "     storage=Double()) # Sum: 2335.0,\n",
       "   'lj_eta': Hist(\n",
       "     StrCategory(['4mu', '2mu2e'], name='channel', label='channel'),\n",
       "     Regular(50, -3, 3, name='lj_eta', label='lj_eta'),\n",
       "     storage=Double()) # Sum: 4670.0,\n",
       "   'lj_phi': Hist(\n",
       "     StrCategory(['4mu', '2mu2e'], name='channel', label='channel'),\n",
       "     Regular(50, -3.14159, 3.14159, name='lj_phi', label='lj_phi'),\n",
       "     storage=Double()) # Sum: 4670.0,\n",
       "   'lj_lj_absdphi': Hist(\n",
       "     StrCategory(['4mu', '2mu2e'], name='channel', label='channel'),\n",
       "     Regular(50, 0, 6.28319, name='ljlj_absdphi', label='ljlj_absdphi'),\n",
       "     storage=Double()) # Sum: 2335.0,\n",
       "   'lj_lj_invmass': Hist(\n",
       "     StrCategory(['4mu', '2mu2e'], name='channel', label='channel'),\n",
       "     Regular(200, 0, 2000, name='ljlj_mass', label='ljlj_mass'),\n",
       "     storage=Double()) # Sum: 2335.0}}}"
      ]
     },
     "execution_count": 170,
     "metadata": {},
     "output_type": "execute_result"
    }
   ],
   "source": [
    "out"
   ]
  },
  {
   "cell_type": "code",
   "execution_count": 171,
   "id": "521d5a1c-4c3b-4818-8431-dc90e16d2692",
   "metadata": {
    "tags": []
   },
   "outputs": [
    {
     "data": {
      "text/plain": [
       "[StairsArtists(stairs=<matplotlib.patches.StepPatch object at 0x7efde55cce20>, errorbar=<ErrorbarContainer object of 3 artists>, legend_artist=<ErrorbarContainer object of 3 artists>)]"
      ]
     },
     "execution_count": 171,
     "metadata": {},
     "output_type": "execute_result"
    },
    {
     "data": {
      "image/png": "[encoded data removed]",
      "text/plain": [
       "<Figure size 432x288 with 1 Axes>"
      ]
     },
     "metadata": {
      "needs_background": "light"
     },
     "output_type": "display_data"
    }
   ],
   "source": [
    "out[sample_name][\"hists\"][\"pv_z\"][\"4mu\", :].plot1d()"
   ]
  },
  {
   "cell_type": "code",
   "execution_count": 172,
   "id": "31b6a93d-4c1e-4e19-8049-03f972d1d280",
   "metadata": {},
   "outputs": [
    {
     "name": "stdout",
     "output_type": "stream",
     "text": [
      "cut name        individual cut N    all cut N\n",
      "------------  ------------------  -----------\n",
      "No selection               18359        18359\n",
      "PV filter                  18359        18359\n",
      "Cosmic veto                18359        18359\n",
      ">=2 LJs                     2339         2339\n",
      "2mu2e                       2158         2158\n"
     ]
    }
   ],
   "source": [
    "out[sample_name][\"cutflow\"][\"2mu2e\"].print_table()"
   ]
  },
  {
   "cell_type": "code",
   "execution_count": 173,
   "id": "7cc78578-9709-4e16-8c04-a56ee433815a",
   "metadata": {},
   "outputs": [
    {
     "name": "stdout",
     "output_type": "stream",
     "text": [
      "cut name        individual %    marginal %    cumulative %\n",
      "------------  --------------  ------------  --------------\n",
      "No selection           100.0         100.0           100.0\n",
      "PV filter              100.0         100.0           100.0\n",
      "Cosmic veto            100.0         100.0           100.0\n",
      ">=2 LJs                 12.7          12.7            12.7\n",
      "2mu2e                   11.8          92.3            11.8\n"
     ]
    }
   ],
   "source": [
    "out[sample_name][\"cutflow\"][\"2mu2e\"].print_table(fraction=True)"
   ]
  },
  {
   "cell_type": "code",
   "execution_count": 174,
   "id": "9f33a190-18e4-4cb0-82dd-86f3a8d5676a",
   "metadata": {
    "tags": []
   },
   "outputs": [
    {
     "data": {
      "text/plain": [
       "[StairsArtists(stairs=<matplotlib.patches.StepPatch object at 0x7efde45dd400>, errorbar=<ErrorbarContainer object of 3 artists>, legend_artist=<ErrorbarContainer object of 3 artists>)]"
      ]
     },
     "execution_count": 174,
     "metadata": {},
     "output_type": "execute_result"
    },
    {
     "data": {
      "image/png": "[encoded data removed]",
      "text/plain": [
       "<Figure size 432x288 with 1 Axes>"
      ]
     },
     "metadata": {
      "needs_background": "light"
     },
     "output_type": "display_data"
    }
   ],
   "source": [
    "out[sample_name][\"hists\"][\"lj_n\"][\"2mu2e\", :].plot1d()"
   ]
  },
  {
   "cell_type": "code",
   "execution_count": 175,
   "id": "7c068c61-84a3-40a0-b158-79e2e3cafc89",
   "metadata": {},
   "outputs": [
    {
     "data": {
      "text/plain": [
       "[StairsArtists(stairs=<matplotlib.patches.StepPatch object at 0x7efde45d2340>, errorbar=<ErrorbarContainer object of 3 artists>, legend_artist=<ErrorbarContainer object of 3 artists>)]"
      ]
     },
     "execution_count": 175,
     "metadata": {},
     "output_type": "execute_result"
    },
    {
     "data": {
      "image/png": "[encoded data removed]",
      "text/plain": [
       "<Figure size 432x288 with 1 Axes>"
      ]
     },
     "metadata": {
      "needs_background": "light"
     },
     "output_type": "display_data"
    }
   ],
   "source": [
    "out[sample_name][\"hists\"][\"lj_eta\"][\"2mu2e\", :].plot1d()"
   ]
  },
  {
   "cell_type": "code",
   "execution_count": 176,
   "id": "27d144a7-8524-4484-bf69-712c0fbb41d8",
   "metadata": {},
   "outputs": [
    {
     "data": {
      "text/plain": [
       "[StairsArtists(stairs=<matplotlib.patches.StepPatch object at 0x7efde4509a00>, errorbar=<ErrorbarContainer object of 3 artists>, legend_artist=<ErrorbarContainer object of 3 artists>)]"
      ]
     },
     "execution_count": 176,
     "metadata": {},
     "output_type": "execute_result"
    },
    {
     "data": {
      "image/png": "[encoded data removed]",
      "text/plain": [
       "<Figure size 432x288 with 1 Axes>"
      ]
     },
     "metadata": {
      "needs_background": "light"
     },
     "output_type": "display_data"
    }
   ],
   "source": [
    "out[sample_name][\"hists\"][\"lj_pt_type\"][\"2mu2e\", :, :].project(\"lj_pt\").plot1d()"
   ]
  },
  {
   "cell_type": "code",
   "execution_count": 177,
   "id": "9c883bd7-7904-4b4c-9d3c-d2b80c595015",
   "metadata": {},
   "outputs": [
    {
     "data": {
      "text/plain": [
       "(ColormeshArtists(pcolormesh=<matplotlib.collections.QuadMesh object at 0x7efde43ec4c0>, cbar=None, text=[]),\n",
       " [StairsArtists(stairs=<matplotlib.patches.StepPatch object at 0x7efde43fba00>, errorbar=<ErrorbarContainer object of 3 artists>, legend_artist=<ErrorbarContainer object of 3 artists>)],\n",
       " [StairsArtists(stairs=<matplotlib.patches.StepPatch object at 0x7efde43b2c40>, errorbar=<ErrorbarContainer object of 3 artists>, legend_artist=<ErrorbarContainer object of 3 artists>)])"
      ]
     },
     "execution_count": 177,
     "metadata": {},
     "output_type": "execute_result"
    },
    {
     "data": {
      "image/png": "[encoded data removed]",
      "text/plain": [
       "<Figure size 432x288 with 3 Axes>"
      ]
     },
     "metadata": {
      "needs_background": "light"
     },
     "output_type": "display_data"
    }
   ],
   "source": [
    "out[sample_name][\"hists\"][\"lj_pt_type\"][\"2mu2e\", :, :].plot2d_full()"
   ]
  },
  {
   "cell_type": "code",
   "execution_count": 178,
   "id": "4e16e4ff-5f57-402b-ac86-467462e14a3c",
   "metadata": {},
   "outputs": [
    {
     "data": {
      "image/png": "[encoded data removed]",
      "text/plain": [
       "<Figure size 432x288 with 1 Axes>"
      ]
     },
     "metadata": {
      "needs_background": "light"
     },
     "output_type": "display_data"
    }
   ],
   "source": [
    "lj_type_names = {\n",
    "    2 :\"PF Electron\",\n",
    "    3 :\"PF Muon\",\n",
    "    4 :\"PF Photon\",\n",
    "    8 :\"DSA Muon\",\n",
    "}\n",
    "out[sample_name][\"hists\"][\"lj_pt_type\"][\"2mu2e\", :, :].stack(\"lj_type\").plot(stack=True, histtype=\"fill\")\n",
    "plt.legend(lj_type_names.values())\n",
    "plt.show()"
   ]
  },
  {
   "cell_type": "code",
   "execution_count": 179,
   "id": "51b1a519-d431-4993-8251-52848901a7b4",
   "metadata": {},
   "outputs": [
    {
     "data": {
      "text/plain": [
       "[StairsArtists(stairs=<matplotlib.patches.StepPatch object at 0x7efde42a1430>, errorbar=<ErrorbarContainer object of 3 artists>, legend_artist=<ErrorbarContainer object of 3 artists>)]"
      ]
     },
     "execution_count": 179,
     "metadata": {},
     "output_type": "execute_result"
    },
    {
     "data": {
      "image/png": "[encoded data removed]",
      "text/plain": [
       "<Figure size 432x288 with 1 Axes>"
      ]
     },
     "metadata": {
      "needs_background": "light"
     },
     "output_type": "display_data"
    }
   ],
   "source": [
    "out[sample_name][\"hists\"][\"lj_charge\"][\"2mu2e\", :].plot1d()"
   ]
  },
  {
   "cell_type": "code",
   "execution_count": 180,
   "id": "d7fe5327-02ed-44d1-9261-23643544edb8",
   "metadata": {},
   "outputs": [
    {
     "name": "stdout",
     "output_type": "stream",
     "text": [
      "[2, 1, 2, 2, 1, 2, 2, 3, 2, 2, 2, 0, 2, 3, ... 0, 2, 2, 2, 3, 2, 2, 1, 1, 1, 3, 3, 1]\n",
      "[2, 1, 2, 2, 1, 2, 2, 3, 2, 2, 2, 0, 2, 3, ... 0, 2, 2, 2, 3, 2, 2, 1, 1, 1, 3, 3, 1]\n"
     ]
    }
   ],
   "source": [
    "ljs = events.ljsource\n",
    "#ljs = ak.mask(ljs, ak.num(ljs) >= 2)\n",
    "ljs = ljs[ak.argsort(ljs.p4.pt, ascending=False)]\n",
    "ljs.p4.pt[ak.num(ljs) >= 2, 1]\n",
    "print(ak.num(ljs.p4.pt))\n",
    "print(ak.num(ljs[\"type\"]))"
   ]
  },
  {
   "cell_type": "code",
   "execution_count": 181,
   "id": "767bfadd-b79e-40dc-8d9d-79342f81cc79",
   "metadata": {},
   "outputs": [
    {
     "data": {
      "text/plain": [
       "[StairsArtists(stairs=<matplotlib.patches.StepPatch object at 0x7efde4221ac0>, errorbar=<ErrorbarContainer object of 3 artists>, legend_artist=<ErrorbarContainer object of 3 artists>),\n",
       " StairsArtists(stairs=<matplotlib.patches.StepPatch object at 0x7efde41e0f40>, errorbar=<ErrorbarContainer object of 3 artists>, legend_artist=<ErrorbarContainer object of 3 artists>)]"
      ]
     },
     "execution_count": 181,
     "metadata": {},
     "output_type": "execute_result"
    },
    {
     "data": {
      "image/png": "[encoded data removed]",
      "text/plain": [
       "<Figure size 432x288 with 1 Axes>"
      ]
     },
     "metadata": {
      "needs_background": "light"
     },
     "output_type": "display_data"
    }
   ],
   "source": [
    "out[sample_name][\"hists\"][\"lj_0_pt\"].plot1d()"
   ]
  },
  {
   "cell_type": "code",
   "execution_count": 182,
   "id": "00782d1a-835d-426c-9791-fd68eba38b18",
   "metadata": {},
   "outputs": [
    {
     "data": {
      "text/plain": [
       "[StairsArtists(stairs=<matplotlib.patches.StepPatch object at 0x7efde4102460>, errorbar=<ErrorbarContainer object of 3 artists>, legend_artist=<ErrorbarContainer object of 3 artists>),\n",
       " StairsArtists(stairs=<matplotlib.patches.StepPatch object at 0x7efde41139a0>, errorbar=<ErrorbarContainer object of 3 artists>, legend_artist=<ErrorbarContainer object of 3 artists>)]"
      ]
     },
     "execution_count": 182,
     "metadata": {},
     "output_type": "execute_result"
    },
    {
     "data": {
      "image/png": "[encoded data removed]",
      "text/plain": [
       "<Figure size 432x288 with 1 Axes>"
      ]
     },
     "metadata": {
      "needs_background": "light"
     },
     "output_type": "display_data"
    }
   ],
   "source": [
    "out[sample_name][\"hists\"][\"lj_1_pt\"].plot1d()"
   ]
  },
  {
   "cell_type": "code",
   "execution_count": 183,
   "id": "5a0eff01-d8e7-4fa4-baff-2304f8bbb9d2",
   "metadata": {},
   "outputs": [
    {
     "data": {
      "text/plain": [
       "[StairsArtists(stairs=<matplotlib.patches.StepPatch object at 0x7efde404cee0>, errorbar=<ErrorbarContainer object of 3 artists>, legend_artist=<ErrorbarContainer object of 3 artists>),\n",
       " StairsArtists(stairs=<matplotlib.patches.StepPatch object at 0x7efde406f820>, errorbar=<ErrorbarContainer object of 3 artists>, legend_artist=<ErrorbarContainer object of 3 artists>)]"
      ]
     },
     "execution_count": 183,
     "metadata": {},
     "output_type": "execute_result"
    },
    {
     "data": {
      "image/png": "[encoded data removed]",
      "text/plain": [
       "<Figure size 432x288 with 1 Axes>"
      ]
     },
     "metadata": {
      "needs_background": "light"
     },
     "output_type": "display_data"
    }
   ],
   "source": [
    "out[sample_name][\"hists\"][\"lj_lj_invmass\"][:, :250j].plot1d()"
   ]
  },
  {
   "cell_type": "code",
   "execution_count": 184,
   "id": "2a0836be-5bbb-4645-80f8-d4654d21ee32",
   "metadata": {},
   "outputs": [
    {
     "data": {
      "text/plain": [
       "[StairsArtists(stairs=<matplotlib.patches.StepPatch object at 0x7efde408c580>, errorbar=<ErrorbarContainer object of 3 artists>, legend_artist=<ErrorbarContainer object of 3 artists>),\n",
       " StairsArtists(stairs=<matplotlib.patches.StepPatch object at 0x7efdd3f4ceb0>, errorbar=<ErrorbarContainer object of 3 artists>, legend_artist=<ErrorbarContainer object of 3 artists>)]"
      ]
     },
     "execution_count": 184,
     "metadata": {},
     "output_type": "execute_result"
    },
    {
     "data": {
      "image/png": "[encoded data removed]",
      "text/plain": [
       "<Figure size 432x288 with 1 Axes>"
      ]
     },
     "metadata": {
      "needs_background": "light"
     },
     "output_type": "display_data"
    }
   ],
   "source": [
    "out[sample_name][\"hists\"][\"lj_lj_absdphi\"].plot1d()"
   ]
  }
 ],
 "metadata": {
  "kernelspec": {
   "display_name": "Python 3 (ipykernel)",
   "language": "python",
   "name": "python3"
  },
  "language_info": {
   "codemirror_mode": {
    "name": "ipython",
    "version": 3
   },
   "file_extension": ".py",
   "mimetype": "text/x-python",
   "name": "python",
   "nbconvert_exporter": "python",
   "pygments_lexer": "ipython3",
   "version": "3.8.13"
  }
 },
 "nbformat": 4,
 "nbformat_minor": 5
}
