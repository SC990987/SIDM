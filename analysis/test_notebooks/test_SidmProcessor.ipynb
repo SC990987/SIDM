{
 "cells": [
  {
   "cell_type": "code",
   "execution_count": 24,
   "id": "89c5030d-129d-4b89-9e23-682d190477df",
   "metadata": {},
   "outputs": [
    {
     "data": {
      "text/plain": [
       "<module 'analysis.tools.SidmProcessor' from '/home/cms-jovyan/SIDM/analysis/test_notebooks/../../analysis/tools/SidmProcessor.py'>"
      ]
     },
     "execution_count": 24,
     "metadata": {},
     "output_type": "execute_result"
    }
   ],
   "source": [
    "# python\n",
    "import sys\n",
    "import os\n",
    "import importlib\n",
    "\n",
    "# columnar analysis\n",
    "from coffea.nanoevents import NanoEventsFactory\n",
    "\n",
    "# local\n",
    "sys.path.insert(1, os.path.join(sys.path[0], '../..')) # fixme: there must be a better way to handle this...\n",
    "from analysis.tools import FFSchema, SidmProcessor\n",
    "# always reload local modules to pick up changes during development\n",
    "importlib.reload(FFSchema)\n",
    "importlib.reload(SidmProcessor)"
   ]
  },
  {
   "cell_type": "code",
   "execution_count": 25,
   "id": "636a8466-02dc-4909-8e12-a0b5d35e8068",
   "metadata": {},
   "outputs": [],
   "source": [
    "sample_dir = \"root://xcache//store/group/lpcmetx/SIDM/ffNtupleV4/2018/\"\n",
    "sample_name = \"SIDM_XXTo2ATo2Mu2E_mXX-100_mA-1p2_ctau-9p6\"\n",
    "sample_file = f\"{sample_dir}/{sample_name}_TuneCP5_13TeV-madgraph-pythia8/RunIIAutumn18DRPremix-102X_upgrade2018_realistic_v15-v1/210326_161703/0000/ffNtuple_1.root\"\n",
    "\n",
    "events = NanoEventsFactory.from_root(\n",
    "    sample_file,\n",
    "    treepath='ffNtuplizer/ffNtuple',\n",
    "    schemaclass=FFSchema.FFSchema,\n",
    "    metadata = {\n",
    "        \"sample\" : sample_name, \n",
    "    },\n",
    ").events()"
   ]
  },
  {
   "cell_type": "code",
   "execution_count": 26,
   "id": "d67db205-7dc5-42b8-b10c-e6e7cbc7602a",
   "metadata": {},
   "outputs": [],
   "source": [
    "p = SidmProcessor.SidmProcessor()\n",
    "out = p.process(events)"
   ]
  },
  {
   "cell_type": "code",
   "execution_count": 27,
   "id": "ca854db5-d501-4497-aad0-242b7eaac0b0",
   "metadata": {},
   "outputs": [
    {
     "data": {
      "text/plain": [
       "{'SIDM_XXTo2ATo2Mu2E_mXX-100_mA-1p2_ctau-9p6': {'sumw': 18359}}"
      ]
     },
     "execution_count": 27,
     "metadata": {},
     "output_type": "execute_result"
    }
   ],
   "source": [
    "out"
   ]
  },
  {
   "cell_type": "code",
   "execution_count": null,
   "id": "521d5a1c-4c3b-4818-8431-dc90e16d2692",
   "metadata": {},
   "outputs": [],
   "source": []
  }
 ],
 "metadata": {
  "kernelspec": {
   "display_name": "Python 3 (ipykernel)",
   "language": "python",
   "name": "python3"
  },
  "language_info": {
   "codemirror_mode": {
    "name": "ipython",
    "version": 3
   },
   "file_extension": ".py",
   "mimetype": "text/x-python",
   "name": "python",
   "nbconvert_exporter": "python",
   "pygments_lexer": "ipython3",
   "version": "3.8.13"
  }
 },
 "nbformat": 4,
 "nbformat_minor": 5
}
