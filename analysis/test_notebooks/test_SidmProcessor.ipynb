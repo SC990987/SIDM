{
 "cells": [
  {
   "cell_type": "code",
   "execution_count": 37,
   "id": "89c5030d-129d-4b89-9e23-682d190477df",
   "metadata": {
    "tags": []
   },
   "outputs": [
    {
     "data": {
      "text/plain": [
       "<module 'analysis.tools.sidm_processor' from '/home/cms-jovyan/SIDM/analysis/test_notebooks/../../analysis/tools/sidm_processor.py'>"
      ]
     },
     "execution_count": 37,
     "metadata": {},
     "output_type": "execute_result"
    }
   ],
   "source": [
    "# python\n",
    "import sys\n",
    "import os\n",
    "import importlib\n",
    "# columnar analysis\n",
    "from coffea.nanoevents import NanoEventsFactory\n",
    "import awkward as ak\n",
    "#plotting\n",
    "import matplotlib.pyplot as plt\n",
    "# local\n",
    "sys.path.insert(1, os.path.join(sys.path[0], '../..')) # fixme: there must be a better way to handle this...\n",
    "from analysis.tools import ffschema, sidm_processor\n",
    "# always reload local modules to pick up changes during development\n",
    "importlib.reload(ffschema)\n",
    "importlib.reload(sidm_processor)"
   ]
  },
  {
   "cell_type": "code",
   "execution_count": 38,
   "id": "dcf88a93-3471-4aba-b1cd-e4effbe503ff",
   "metadata": {},
   "outputs": [],
   "source": [
    "sample_dir = \"root://xcache//store/group/lpcmetx/SIDM/ffNtupleV4/2018/\"\n",
    "sample_name = \"SIDM_XXTo2ATo2Mu2E_mXX-100_mA-1p2_ctau-9p6\"\n",
    "sample_file = f\"{sample_dir}/{sample_name}_TuneCP5_13TeV-madgraph-pythia8/RunIIAutumn18DRPremix-102X_upgrade2018_realistic_v15-v1/210326_161703/0000/ffNtuple_1.root\"\n",
    "\n",
    "events = NanoEventsFactory.from_root(\n",
    "    sample_file,\n",
    "    treepath='ffNtuplizer/ffNtuple',\n",
    "    schemaclass=ffschema.FFSchema,\n",
    "    metadata = {\n",
    "        \"sample\" : sample_name, \n",
    "    },\n",
    ").events()"
   ]
  },
  {
   "cell_type": "code",
   "execution_count": 39,
   "id": "352319b4-065d-41ef-8caf-9f89eb04e06b",
   "metadata": {},
   "outputs": [
    {
     "name": "stdout",
     "output_type": "stream",
     "text": [
      "37568\n",
      "37568\n",
      "[[0.0612, 0.0612], [0.373], [4.88, 4.88], ... 0.176, 0.176], [4, 4, 4], [0.0781]]\n"
     ]
    }
   ],
   "source": [
    "events.pv.fields\n",
    "(events.ljsource[0, 0].p4 + events.ljsource[0, 1].p4).pt\n",
    "print(ak.size(ak.flatten(events.ljsource.p4.pt)))\n",
    "print(ak.size(ak.flatten(ak.ones_like(events.ljsource.p4.pt))))\n",
    "print(events.weightProduct*ak.ones_like(events.ljsource.p4.pt))"
   ]
  },
  {
   "cell_type": "code",
   "execution_count": 40,
   "id": "d67db205-7dc5-42b8-b10c-e6e7cbc7602a",
   "metadata": {},
   "outputs": [],
   "source": [
    "p = sidm_processor.SidmProcessor()\n",
    "out = p.process(events)"
   ]
  },
  {
   "cell_type": "code",
   "execution_count": 41,
   "id": "ca854db5-d501-4497-aad0-242b7eaac0b0",
   "metadata": {},
   "outputs": [
    {
     "data": {
      "text/plain": [
       "{'SIDM_XXTo2ATo2Mu2E_mXX-100_mA-1p2_ctau-9p6': {'cutflow': {'4mu': <analysis.tools.cutflow.Cutflow at 0x7fd4a64fb430>,\n",
       "   '2mu2e': <analysis.tools.cutflow.Cutflow at 0x7fd4a647ff40>},\n",
       "  'hists': {'pv_n': Hist(\n",
       "     StrCategory(['4mu', '2mu2e'], name='channel', label='channel'),\n",
       "     Integer(0, 100, name='pv_n', label='pv_n'),\n",
       "     storage=Weight()) # Sum: WeightedSum(value=1431.94, variance=2029.17),\n",
       "   'pv_ndof': Hist(\n",
       "     StrCategory(['4mu', '2mu2e'], name='channel', label='channel'),\n",
       "     Integer(0, 20, name='pv_ndof', label='pv_ndof'),\n",
       "     storage=Weight()) # Sum: WeightedSum(value=16587.1, variance=24916.4) (WeightedSum(value=38312.7, variance=56727.3) with flow),\n",
       "   'pv_z': Hist(\n",
       "     StrCategory(['4mu', '2mu2e'], name='channel', label='channel'),\n",
       "     Regular(100, -50, 50, name='pv_z', label='pv_z'),\n",
       "     storage=Weight()) # Sum: WeightedSum(value=38312.7, variance=56727.3),\n",
       "   'pv_rho': Hist(\n",
       "     StrCategory(['4mu', '2mu2e'], name='channel', label='channel'),\n",
       "     Regular(100, -0.5, 0.5, name='pv_rho', label='pv_rho'),\n",
       "     storage=Weight()) # Sum: WeightedSum(value=38312.7, variance=56727.3),\n",
       "   'lj_n': Hist(\n",
       "     StrCategory(['4mu', '2mu2e'], name='channel', label='channel'),\n",
       "     Integer(0, 10, name='lj_n', label='lj_n'),\n",
       "     storage=Weight()) # Sum: WeightedSum(value=1431.94, variance=2029.17),\n",
       "   'lj_charge': Hist(\n",
       "     StrCategory(['4mu', '2mu2e'], name='channel', label='channel'),\n",
       "     Integer(-5, 5, name='lj_charge', label='lj_charge'),\n",
       "     storage=Weight()) # Sum: WeightedSum(value=2863.89, variance=4058.34),\n",
       "   'lj_pt_type': Hist(\n",
       "     StrCategory(['4mu', '2mu2e'], name='channel', label='channel'),\n",
       "     Regular(100, 0, 100, name='lj_pt', label='Lepton jet pT [GeV]'),\n",
       "     IntCategory([2, 3, 4, 8], name='lj_type', label='lj_type'),\n",
       "     storage=Weight()) # Sum: WeightedSum(value=2836.04, variance=4006.08) (WeightedSum(value=2863.89, variance=4058.34) with flow),\n",
       "   'lj_0_pt': Hist(\n",
       "     StrCategory(['4mu', '2mu2e'], name='channel', label='channel'),\n",
       "     Regular(100, 0, 100, name='lj_pt', label='Lepton jet pT [GeV]'),\n",
       "     storage=Weight()) # Sum: WeightedSum(value=1404.1, variance=1976.91) (WeightedSum(value=1431.94, variance=2029.17) with flow),\n",
       "   'lj_1_pt': Hist(\n",
       "     StrCategory(['4mu', '2mu2e'], name='channel', label='channel'),\n",
       "     Regular(100, 0, 100, name='lj_pt', label='Lepton jet pT [GeV]'),\n",
       "     storage=Weight()) # Sum: WeightedSum(value=1431.94, variance=2029.17),\n",
       "   'lj_eta': Hist(\n",
       "     StrCategory(['4mu', '2mu2e'], name='channel', label='channel'),\n",
       "     Regular(50, -3, 3, name='lj_eta', label='lj_eta'),\n",
       "     storage=Weight()) # Sum: WeightedSum(value=2863.89, variance=4058.34),\n",
       "   'lj_phi': Hist(\n",
       "     StrCategory(['4mu', '2mu2e'], name='channel', label='channel'),\n",
       "     Regular(50, -3.14159, 3.14159, name='lj_phi', label='lj_phi'),\n",
       "     storage=Weight()) # Sum: WeightedSum(value=2863.89, variance=4058.34),\n",
       "   'lj_lj_absdphi': Hist(\n",
       "     StrCategory(['4mu', '2mu2e'], name='channel', label='channel'),\n",
       "     Regular(50, 0, 6.28319, name='ljlj_absdphi', label='ljlj_absdphi'),\n",
       "     storage=Weight()) # Sum: WeightedSum(value=1431.94, variance=2029.17),\n",
       "   'lj_lj_invmass': Hist(\n",
       "     StrCategory(['4mu', '2mu2e'], name='channel', label='channel'),\n",
       "     Regular(200, 0, 2000, name='ljlj_mass', label='ljlj_mass'),\n",
       "     storage=Weight()) # Sum: WeightedSum(value=1431.94, variance=2029.17)}}}"
      ]
     },
     "execution_count": 41,
     "metadata": {},
     "output_type": "execute_result"
    }
   ],
   "source": [
    "out"
   ]
  },
  {
   "cell_type": "code",
   "execution_count": 42,
   "id": "521d5a1c-4c3b-4818-8431-dc90e16d2692",
   "metadata": {
    "tags": []
   },
   "outputs": [
    {
     "data": {
      "text/plain": [
       "[StairsArtists(stairs=<matplotlib.patches.StepPatch object at 0x7fd4a646c070>, errorbar=<ErrorbarContainer object of 3 artists>, legend_artist=<ErrorbarContainer object of 3 artists>)]"
      ]
     },
     "execution_count": 42,
     "metadata": {},
     "output_type": "execute_result"
    },
    {
     "data": {
      "image/png": "[encoded data removed]",
      "text/plain": [
       "<Figure size 432x288 with 1 Axes>"
      ]
     },
     "metadata": {
      "needs_background": "light"
     },
     "output_type": "display_data"
    }
   ],
   "source": [
    "out[sample_name][\"hists\"][\"pv_z\"][\"4mu\", :].plot1d()"
   ]
  },
  {
   "cell_type": "code",
   "execution_count": 43,
   "id": "31b6a93d-4c1e-4e19-8049-03f972d1d280",
   "metadata": {},
   "outputs": [
    {
     "name": "stdout",
     "output_type": "stream",
     "text": [
      "cut name        individual cut N    all cut N\n",
      "------------  ------------------  -----------\n",
      "No selection             11518.1      11518.1\n",
      "PV filter                11518.1      11518.1\n",
      "Cosmic veto              11518.1      11518.1\n",
      ">=2 LJs                   1433.1       1433.1\n",
      "2mu2e                     1324.4       1324.4\n"
     ]
    }
   ],
   "source": [
    "out[sample_name][\"cutflow\"][\"2mu2e\"].print_table()"
   ]
  },
  {
   "cell_type": "code",
   "execution_count": 44,
   "id": "7cc78578-9709-4e16-8c04-a56ee433815a",
   "metadata": {},
   "outputs": [
    {
     "name": "stdout",
     "output_type": "stream",
     "text": [
      "cut name        individual %    marginal %    cumulative %\n",
      "------------  --------------  ------------  --------------\n",
      "No selection           100.0         100.0           100.0\n",
      "PV filter              100.0         100.0           100.0\n",
      "Cosmic veto            100.0         100.0           100.0\n",
      ">=2 LJs                 12.4          12.4            12.4\n",
      "2mu2e                   11.5          92.4            11.5\n"
     ]
    }
   ],
   "source": [
    "out[sample_name][\"cutflow\"][\"2mu2e\"].print_table(fraction=True)"
   ]
  },
  {
   "cell_type": "code",
   "execution_count": 45,
   "id": "9f33a190-18e4-4cb0-82dd-86f3a8d5676a",
   "metadata": {
    "tags": []
   },
   "outputs": [
    {
     "data": {
      "text/plain": [
       "[StairsArtists(stairs=<matplotlib.patches.StepPatch object at 0x7fd4a63e80d0>, errorbar=<ErrorbarContainer object of 3 artists>, legend_artist=<ErrorbarContainer object of 3 artists>)]"
      ]
     },
     "execution_count": 45,
     "metadata": {},
     "output_type": "execute_result"
    },
    {
     "data": {
      "image/png": "[encoded data removed]",
      "text/plain": [
       "<Figure size 432x288 with 1 Axes>"
      ]
     },
     "metadata": {
      "needs_background": "light"
     },
     "output_type": "display_data"
    }
   ],
   "source": [
    "out[sample_name][\"hists\"][\"lj_n\"][\"2mu2e\", :].plot1d()"
   ]
  },
  {
   "cell_type": "code",
   "execution_count": 46,
   "id": "7c068c61-84a3-40a0-b158-79e2e3cafc89",
   "metadata": {},
   "outputs": [
    {
     "data": {
      "text/plain": [
       "[StairsArtists(stairs=<matplotlib.patches.StepPatch object at 0x7fd4a6359f10>, errorbar=<ErrorbarContainer object of 3 artists>, legend_artist=<ErrorbarContainer object of 3 artists>)]"
      ]
     },
     "execution_count": 46,
     "metadata": {},
     "output_type": "execute_result"
    },
    {
     "data": {
      "image/png": "[encoded data removed]",
      "text/plain": [
       "<Figure size 432x288 with 1 Axes>"
      ]
     },
     "metadata": {
      "needs_background": "light"
     },
     "output_type": "display_data"
    }
   ],
   "source": [
    "out[sample_name][\"hists\"][\"lj_eta\"][\"2mu2e\", :].plot1d()"
   ]
  },
  {
   "cell_type": "code",
   "execution_count": 47,
   "id": "27d144a7-8524-4484-bf69-712c0fbb41d8",
   "metadata": {},
   "outputs": [
    {
     "data": {
      "text/plain": [
       "[StairsArtists(stairs=<matplotlib.patches.StepPatch object at 0x7fd4a62e7730>, errorbar=<ErrorbarContainer object of 3 artists>, legend_artist=<ErrorbarContainer object of 3 artists>)]"
      ]
     },
     "execution_count": 47,
     "metadata": {},
     "output_type": "execute_result"
    },
    {
     "data": {
      "image/png": "[encoded data removed]",
      "text/plain": [
       "<Figure size 432x288 with 1 Axes>"
      ]
     },
     "metadata": {
      "needs_background": "light"
     },
     "output_type": "display_data"
    }
   ],
   "source": [
    "out[sample_name][\"hists\"][\"lj_pt_type\"][\"2mu2e\", :, :].project(\"lj_pt\").plot1d()"
   ]
  },
  {
   "cell_type": "code",
   "execution_count": 48,
   "id": "9c883bd7-7904-4b4c-9d3c-d2b80c595015",
   "metadata": {},
   "outputs": [
    {
     "data": {
      "text/plain": [
       "(ColormeshArtists(pcolormesh=<matplotlib.collections.QuadMesh object at 0x7fd4a61f54f0>, cbar=None, text=[]),\n",
       " [StairsArtists(stairs=<matplotlib.patches.StepPatch object at 0x7fd4a6183220>, errorbar=<ErrorbarContainer object of 3 artists>, legend_artist=<ErrorbarContainer object of 3 artists>)],\n",
       " [StairsArtists(stairs=<matplotlib.patches.StepPatch object at 0x7fd4a61b5fa0>, errorbar=<ErrorbarContainer object of 3 artists>, legend_artist=<ErrorbarContainer object of 3 artists>)])"
      ]
     },
     "execution_count": 48,
     "metadata": {},
     "output_type": "execute_result"
    },
    {
     "data": {
      "image/png": "[encoded data removed]",
      "text/plain": [
       "<Figure size 432x288 with 3 Axes>"
      ]
     },
     "metadata": {
      "needs_background": "light"
     },
     "output_type": "display_data"
    }
   ],
   "source": [
    "out[sample_name][\"hists\"][\"lj_pt_type\"][\"2mu2e\", :, :].plot2d_full()"
   ]
  },
  {
   "cell_type": "code",
   "execution_count": 49,
   "id": "4e16e4ff-5f57-402b-ac86-467462e14a3c",
   "metadata": {},
   "outputs": [
    {
     "data": {
      "image/png": "[encoded data removed]",
      "text/plain": [
       "<Figure size 432x288 with 1 Axes>"
      ]
     },
     "metadata": {
      "needs_background": "light"
     },
     "output_type": "display_data"
    },
    {
     "data": {
      "text/plain": [
       "WeightedSum(value=8.16671, variance=7.97084)"
      ]
     },
     "execution_count": 49,
     "metadata": {},
     "output_type": "execute_result"
    }
   ],
   "source": [
    "lj_type_names = {\n",
    "    2 :\"PF Electron\",\n",
    "    3 :\"PF Muon\",\n",
    "    4 :\"PF Photon\",\n",
    "    8 :\"DSA Muon\",\n",
    "}\n",
    "out[sample_name][\"hists\"][\"lj_pt_type\"][\"2mu2e\", :, :].stack(\"lj_type\").plot(stack=True, histtype=\"fill\")\n",
    "plt.legend(lj_type_names.values())\n",
    "plt.show()\n",
    "out[sample_name][\"hists\"][\"lj_pt_type\"][\"2mu2e\", 40, 0]"
   ]
  },
  {
   "cell_type": "code",
   "execution_count": 50,
   "id": "51b1a519-d431-4993-8251-52848901a7b4",
   "metadata": {},
   "outputs": [
    {
     "data": {
      "text/plain": [
       "[StairsArtists(stairs=<matplotlib.patches.StepPatch object at 0x7fd4a60aea60>, errorbar=<ErrorbarContainer object of 3 artists>, legend_artist=<ErrorbarContainer object of 3 artists>)]"
      ]
     },
     "execution_count": 50,
     "metadata": {},
     "output_type": "execute_result"
    },
    {
     "data": {
      "image/png": "[encoded data removed]",
      "text/plain": [
       "<Figure size 432x288 with 1 Axes>"
      ]
     },
     "metadata": {
      "needs_background": "light"
     },
     "output_type": "display_data"
    }
   ],
   "source": [
    "out[sample_name][\"hists\"][\"lj_charge\"][\"2mu2e\", :].plot1d()"
   ]
  },
  {
   "cell_type": "code",
   "execution_count": 51,
   "id": "d7fe5327-02ed-44d1-9261-23643544edb8",
   "metadata": {},
   "outputs": [
    {
     "name": "stdout",
     "output_type": "stream",
     "text": [
      "[2, 1, 2, 2, 1, 2, 2, 3, 2, 2, 2, 0, 2, 3, ... 0, 2, 2, 2, 3, 2, 2, 1, 1, 1, 3, 3, 1]\n",
      "[2, 1, 2, 2, 1, 2, 2, 3, 2, 2, 2, 0, 2, 3, ... 0, 2, 2, 2, 3, 2, 2, 1, 1, 1, 3, 3, 1]\n",
      "[[29.1, 13.4], [35.6], [11.7, 6.41], ... 18.9, 10.5], [72.5, 21.6, 16.9], [31.6]]\n",
      "[0.0612, 0.373, 4.88, 0.979, 0.922, 0.0589, ... 0.14, 1.12, 0.542, 0.176, 4, 0.0781]\n"
     ]
    }
   ],
   "source": [
    "ljs = events.ljsource\n",
    "#ljs = ak.mask(ljs, ak.num(ljs) >= 2)\n",
    "ljs = ljs[ak.argsort(ljs.p4.pt, ascending=False)]\n",
    "ljs.p4.pt[ak.num(ljs) >= 2, 1]\n",
    "print(ak.num(ljs.p4.pt))\n",
    "print(ak.num(ljs[\"type\"]))\n",
    "print(ljs.p4.pt)\n",
    "print(events.weightProduct)"
   ]
  },
  {
   "cell_type": "code",
   "execution_count": 16,
   "id": "767bfadd-b79e-40dc-8d9d-79342f81cc79",
   "metadata": {},
   "outputs": [
    {
     "data": {
      "text/plain": [
       "[StairsArtists(stairs=<matplotlib.patches.StepPatch object at 0x7fd4b7e41ee0>, errorbar=<ErrorbarContainer object of 3 artists>, legend_artist=<ErrorbarContainer object of 3 artists>),\n",
       " StairsArtists(stairs=<matplotlib.patches.StepPatch object at 0x7fd4b7e15790>, errorbar=<ErrorbarContainer object of 3 artists>, legend_artist=<ErrorbarContainer object of 3 artists>)]"
      ]
     },
     "execution_count": 16,
     "metadata": {},
     "output_type": "execute_result"
    },
    {
     "data": {
      "image/png": "[encoded data removed]",
      "text/plain": [
       "<Figure size 432x288 with 1 Axes>"
      ]
     },
     "metadata": {
      "needs_background": "light"
     },
     "output_type": "display_data"
    }
   ],
   "source": [
    "out[sample_name][\"hists\"][\"lj_0_pt\"].plot1d()"
   ]
  },
  {
   "cell_type": "code",
   "execution_count": 17,
   "id": "00782d1a-835d-426c-9791-fd68eba38b18",
   "metadata": {},
   "outputs": [
    {
     "data": {
      "text/plain": [
       "[StairsArtists(stairs=<matplotlib.patches.StepPatch object at 0x7fd4b7ef78e0>, errorbar=<ErrorbarContainer object of 3 artists>, legend_artist=<ErrorbarContainer object of 3 artists>),\n",
       " StairsArtists(stairs=<matplotlib.patches.StepPatch object at 0x7fd4b7d674f0>, errorbar=<ErrorbarContainer object of 3 artists>, legend_artist=<ErrorbarContainer object of 3 artists>)]"
      ]
     },
     "execution_count": 17,
     "metadata": {},
     "output_type": "execute_result"
    },
    {
     "data": {
      "image/png": "[encoded data removed]",
      "text/plain": [
       "<Figure size 432x288 with 1 Axes>"
      ]
     },
     "metadata": {
      "needs_background": "light"
     },
     "output_type": "display_data"
    }
   ],
   "source": [
    "out[sample_name][\"hists\"][\"lj_1_pt\"].plot1d()"
   ]
  },
  {
   "cell_type": "code",
   "execution_count": 18,
   "id": "5a0eff01-d8e7-4fa4-baff-2304f8bbb9d2",
   "metadata": {},
   "outputs": [
    {
     "data": {
      "text/plain": [
       "[StairsArtists(stairs=<matplotlib.patches.StepPatch object at 0x7fd4b7c84940>, errorbar=<ErrorbarContainer object of 3 artists>, legend_artist=<ErrorbarContainer object of 3 artists>),\n",
       " StairsArtists(stairs=<matplotlib.patches.StepPatch object at 0x7fd4b7ca8220>, errorbar=<ErrorbarContainer object of 3 artists>, legend_artist=<ErrorbarContainer object of 3 artists>)]"
      ]
     },
     "execution_count": 18,
     "metadata": {},
     "output_type": "execute_result"
    },
    {
     "data": {
      "image/png": "[encoded data removed]",
      "text/plain": [
       "<Figure size 432x288 with 1 Axes>"
      ]
     },
     "metadata": {
      "needs_background": "light"
     },
     "output_type": "display_data"
    }
   ],
   "source": [
    "out[sample_name][\"hists\"][\"lj_lj_invmass\"][:, :250j].plot1d()"
   ]
  },
  {
   "cell_type": "code",
   "execution_count": 19,
   "id": "2a0836be-5bbb-4645-80f8-d4654d21ee32",
   "metadata": {},
   "outputs": [
    {
     "data": {
      "text/plain": [
       "[StairsArtists(stairs=<matplotlib.patches.StepPatch object at 0x7fd4b7c1ab80>, errorbar=<ErrorbarContainer object of 3 artists>, legend_artist=<ErrorbarContainer object of 3 artists>),\n",
       " StairsArtists(stairs=<matplotlib.patches.StepPatch object at 0x7fd4b7bc7790>, errorbar=<ErrorbarContainer object of 3 artists>, legend_artist=<ErrorbarContainer object of 3 artists>)]"
      ]
     },
     "execution_count": 19,
     "metadata": {},
     "output_type": "execute_result"
    },
    {
     "data": {
      "image/png": "[encoded data removed]",
      "text/plain": [
       "<Figure size 432x288 with 1 Axes>"
      ]
     },
     "metadata": {
      "needs_background": "light"
     },
     "output_type": "display_data"
    }
   ],
   "source": [
    "out[sample_name][\"hists\"][\"lj_lj_absdphi\"].plot1d()"
   ]
  }
 ],
 "metadata": {
  "kernelspec": {
   "display_name": "Python 3 (ipykernel)",
   "language": "python",
   "name": "python3"
  },
  "language_info": {
   "codemirror_mode": {
    "name": "ipython",
    "version": 3
   },
   "file_extension": ".py",
   "mimetype": "text/x-python",
   "name": "python",
   "nbconvert_exporter": "python",
   "pygments_lexer": "ipython3",
   "version": "3.8.13"
  }
 },
 "nbformat": 4,
 "nbformat_minor": 5
}
