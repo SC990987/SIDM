{
 "cells": [
  {
   "cell_type": "code",
   "execution_count": 1,
   "id": "89c5030d-129d-4b89-9e23-682d190477df",
   "metadata": {
    "tags": []
   },
   "outputs": [
    {
     "data": {
      "text/plain": [
       "<module 'analysis.tools.sidm_processor' from '/home/cms-jovyan/SIDM/analysis/test_notebooks/../../analysis/tools/sidm_processor.py'>"
      ]
     },
     "execution_count": 1,
     "metadata": {},
     "output_type": "execute_result"
    }
   ],
   "source": [
    "# python\n",
    "import sys\n",
    "import os\n",
    "import importlib\n",
    "# columnar analysis\n",
    "from coffea.nanoevents import NanoEventsFactory\n",
    "import awkward as ak\n",
    "#plotting\n",
    "import matplotlib.pyplot as plt\n",
    "# local\n",
    "sys.path.insert(1, os.path.join(sys.path[0], '../..')) # fixme: there must be a better way to handle this...\n",
    "from analysis.tools import ffschema, sidm_processor\n",
    "# always reload local modules to pick up changes during development\n",
    "importlib.reload(ffschema)\n",
    "importlib.reload(sidm_processor)"
   ]
  },
  {
   "cell_type": "code",
   "execution_count": 2,
   "id": "dcf88a93-3471-4aba-b1cd-e4effbe503ff",
   "metadata": {},
   "outputs": [],
   "source": [
    "sample_dir = \"root://xcache//store/group/lpcmetx/SIDM/ffNtupleV4/2018/\"\n",
    "sample_name = \"SIDM_XXTo2ATo2Mu2E_mXX-100_mA-1p2_ctau-9p6\"\n",
    "sample_file = f\"{sample_dir}/{sample_name}_TuneCP5_13TeV-madgraph-pythia8/RunIIAutumn18DRPremix-102X_upgrade2018_realistic_v15-v1/210326_161703/0000/ffNtuple_1.root\"\n",
    "\n",
    "events = NanoEventsFactory.from_root(\n",
    "    sample_file,\n",
    "    treepath='ffNtuplizer/ffNtuple',\n",
    "    schemaclass=ffschema.FFSchema,\n",
    "    metadata = {\n",
    "        \"sample\" : sample_name, \n",
    "    },\n",
    ").events()"
   ]
  },
  {
   "cell_type": "code",
   "execution_count": 3,
   "id": "352319b4-065d-41ef-8caf-9f89eb04e06b",
   "metadata": {},
   "outputs": [
    {
     "data": {
      "text/plain": [
       "['rho', 'z', 'isFake', 'ndof', 'normChi2']"
      ]
     },
     "execution_count": 3,
     "metadata": {},
     "output_type": "execute_result"
    }
   ],
   "source": [
    "events.pv.fields"
   ]
  },
  {
   "cell_type": "code",
   "execution_count": 4,
   "id": "d67db205-7dc5-42b8-b10c-e6e7cbc7602a",
   "metadata": {},
   "outputs": [],
   "source": [
    "p = sidm_processor.SidmProcessor()\n",
    "out = p.process(events)"
   ]
  },
  {
   "cell_type": "code",
   "execution_count": 5,
   "id": "ca854db5-d501-4497-aad0-242b7eaac0b0",
   "metadata": {},
   "outputs": [
    {
     "data": {
      "text/plain": [
       "{'SIDM_XXTo2ATo2Mu2E_mXX-100_mA-1p2_ctau-9p6': {'cutflow': {'4mu': <analysis.tools.cutflow.Cutflow at 0x7f17ce98a8e0>,\n",
       "   '2mu2e': <analysis.tools.cutflow.Cutflow at 0x7f17cebb3670>},\n",
       "  'hists': {'pv_n': Hist(\n",
       "     StrCategory(['4mu', '2mu2e'], name='channel', label='channel'),\n",
       "     Integer(0, 100, name='pv_n', label='pv_n'),\n",
       "     storage=Double()) # Sum: 36718.0,\n",
       "   'pv_ndof': Hist(\n",
       "     StrCategory(['4mu', '2mu2e'], name='channel', label='channel'),\n",
       "     Integer(0, 20, name='pv_ndof', label='pv_ndof'),\n",
       "     storage=Double()) # Sum: 413590.0 (960376.0 with flow),\n",
       "   'pv_z': Hist(\n",
       "     StrCategory(['4mu', '2mu2e'], name='channel', label='channel'),\n",
       "     Regular(100, -50, 50, name='pv_z', label='pv_z'),\n",
       "     storage=Double()) # Sum: 960376.0,\n",
       "   'pv_rho': Hist(\n",
       "     StrCategory(['4mu', '2mu2e'], name='channel', label='channel'),\n",
       "     Regular(100, -0.5, 0.5, name='pv_rho', label='pv_rho'),\n",
       "     storage=Double()) # Sum: 960376.0,\n",
       "   'lj_n': Hist(\n",
       "     StrCategory(['4mu', '2mu2e'], name='channel', label='channel'),\n",
       "     Integer(0, 10, name='lj_n', label='lj_n'),\n",
       "     storage=Double()) # Sum: 2335.0,\n",
       "   'lj_charge': Hist(\n",
       "     StrCategory(['4mu', '2mu2e'], name='channel', label='channel'),\n",
       "     Integer(-5, 5, name='lj_charge', label='lj_charge'),\n",
       "     storage=Double()) # Sum: 4670.0,\n",
       "   'lj_pt_type': Hist(\n",
       "     StrCategory(['4mu', '2mu2e'], name='channel', label='channel'),\n",
       "     Regular(100, 0, 100, name='lj_pt', label='Lepton jet pT [GeV]'),\n",
       "     IntCategory([2, 3, 4, 8], name='lj_type', label='lj_type'),\n",
       "     storage=Double()) # Sum: 4631.0 (4670.0 with flow),\n",
       "   'lj_0_pt': Hist(\n",
       "     StrCategory(['4mu', '2mu2e'], name='channel', label='channel'),\n",
       "     Regular(100, 0, 100, name='lj_pt', label='Lepton jet pT [GeV]'),\n",
       "     storage=Double()) # Sum: 2296.0 (2335.0 with flow),\n",
       "   'lj_1_pt': Hist(\n",
       "     StrCategory(['4mu', '2mu2e'], name='channel', label='channel'),\n",
       "     Regular(100, 0, 100, name='lj_pt', label='Lepton jet pT [GeV]'),\n",
       "     storage=Double()) # Sum: 2335.0,\n",
       "   'lj_eta': Hist(\n",
       "     StrCategory(['4mu', '2mu2e'], name='channel', label='channel'),\n",
       "     Regular(100, -3, 3, name='lj_eta', label='lj_eta'),\n",
       "     storage=Double()) # Sum: 4670.0,\n",
       "   'lj_phi': Hist(\n",
       "     StrCategory(['4mu', '2mu2e'], name='channel', label='channel'),\n",
       "     Regular(100, -3.14, 3.14, name='lj_phi', label='lj_phi'),\n",
       "     storage=Double()) # Sum: 4670.0}}}"
      ]
     },
     "execution_count": 5,
     "metadata": {},
     "output_type": "execute_result"
    }
   ],
   "source": [
    "out"
   ]
  },
  {
   "cell_type": "code",
   "execution_count": 6,
   "id": "521d5a1c-4c3b-4818-8431-dc90e16d2692",
   "metadata": {
    "tags": []
   },
   "outputs": [
    {
     "data": {
      "text/plain": [
       "[StairsArtists(stairs=<matplotlib.patches.StepPatch object at 0x7f17ce2a6a30>, errorbar=<ErrorbarContainer object of 3 artists>, legend_artist=<ErrorbarContainer object of 3 artists>)]"
      ]
     },
     "execution_count": 6,
     "metadata": {},
     "output_type": "execute_result"
    },
    {
     "data": {
      "image/png": "[encoded data removed]",
      "text/plain": [
       "<Figure size 432x288 with 1 Axes>"
      ]
     },
     "metadata": {
      "needs_background": "light"
     },
     "output_type": "display_data"
    }
   ],
   "source": [
    "out[sample_name][\"hists\"][\"pv_z\"][\"4mu\", :].plot1d()"
   ]
  },
  {
   "cell_type": "code",
   "execution_count": 7,
   "id": "31b6a93d-4c1e-4e19-8049-03f972d1d280",
   "metadata": {},
   "outputs": [
    {
     "name": "stdout",
     "output_type": "stream",
     "text": [
      "cut name        individual cut N    all cut N\n",
      "------------  ------------------  -----------\n",
      "No selection               18359        18359\n",
      "PV filter                  18359        18359\n",
      "Cosmic veto                18359        18359\n",
      ">=2 LJs                     2339         2339\n",
      "2mu2e                       2158         2158\n"
     ]
    }
   ],
   "source": [
    "out[sample_name][\"cutflow\"][\"2mu2e\"].print_table()"
   ]
  },
  {
   "cell_type": "code",
   "execution_count": 8,
   "id": "7cc78578-9709-4e16-8c04-a56ee433815a",
   "metadata": {},
   "outputs": [
    {
     "name": "stdout",
     "output_type": "stream",
     "text": [
      "cut name        individual %    marginal %    cumulative %\n",
      "------------  --------------  ------------  --------------\n",
      "No selection           100.0         100.0           100.0\n",
      "PV filter              100.0         100.0           100.0\n",
      "Cosmic veto            100.0         100.0           100.0\n",
      ">=2 LJs                 12.7          12.7            12.7\n",
      "2mu2e                   11.8          92.3            11.8\n"
     ]
    }
   ],
   "source": [
    "out[sample_name][\"cutflow\"][\"2mu2e\"].print_table(fraction=True)"
   ]
  },
  {
   "cell_type": "code",
   "execution_count": 9,
   "id": "9f33a190-18e4-4cb0-82dd-86f3a8d5676a",
   "metadata": {
    "tags": []
   },
   "outputs": [
    {
     "data": {
      "text/plain": [
       "[StairsArtists(stairs=<matplotlib.patches.StepPatch object at 0x7f17cd106460>, errorbar=<ErrorbarContainer object of 3 artists>, legend_artist=<ErrorbarContainer object of 3 artists>)]"
      ]
     },
     "execution_count": 9,
     "metadata": {},
     "output_type": "execute_result"
    },
    {
     "data": {
      "image/png": "[encoded data removed]",
      "text/plain": [
       "<Figure size 432x288 with 1 Axes>"
      ]
     },
     "metadata": {
      "needs_background": "light"
     },
     "output_type": "display_data"
    }
   ],
   "source": [
    "out[sample_name][\"hists\"][\"lj_n\"][\"2mu2e\", :].plot1d()"
   ]
  },
  {
   "cell_type": "code",
   "execution_count": 10,
   "id": "7c068c61-84a3-40a0-b158-79e2e3cafc89",
   "metadata": {},
   "outputs": [
    {
     "data": {
      "text/plain": [
       "[StairsArtists(stairs=<matplotlib.patches.StepPatch object at 0x7f17cd085970>, errorbar=<ErrorbarContainer object of 3 artists>, legend_artist=<ErrorbarContainer object of 3 artists>)]"
      ]
     },
     "execution_count": 10,
     "metadata": {},
     "output_type": "execute_result"
    },
    {
     "data": {
      "image/png": "[encoded data removed]",
      "text/plain": [
       "<Figure size 432x288 with 1 Axes>"
      ]
     },
     "metadata": {
      "needs_background": "light"
     },
     "output_type": "display_data"
    }
   ],
   "source": [
    "out[sample_name][\"hists\"][\"lj_eta\"][\"2mu2e\", :].plot1d()"
   ]
  },
  {
   "cell_type": "code",
   "execution_count": 11,
   "id": "27d144a7-8524-4484-bf69-712c0fbb41d8",
   "metadata": {},
   "outputs": [
    {
     "data": {
      "text/plain": [
       "[StairsArtists(stairs=<matplotlib.patches.StepPatch object at 0x7f17ccfac0d0>, errorbar=<ErrorbarContainer object of 3 artists>, legend_artist=<ErrorbarContainer object of 3 artists>)]"
      ]
     },
     "execution_count": 11,
     "metadata": {},
     "output_type": "execute_result"
    },
    {
     "data": {
      "image/png": "[encoded data removed]",
      "text/plain": [
       "<Figure size 432x288 with 1 Axes>"
      ]
     },
     "metadata": {
      "needs_background": "light"
     },
     "output_type": "display_data"
    }
   ],
   "source": [
    "out[sample_name][\"hists\"][\"lj_pt_type\"][\"2mu2e\", :, :].project(\"lj_pt\").plot1d()"
   ]
  },
  {
   "cell_type": "code",
   "execution_count": 12,
   "id": "9c883bd7-7904-4b4c-9d3c-d2b80c595015",
   "metadata": {},
   "outputs": [
    {
     "data": {
      "text/plain": [
       "(ColormeshArtists(pcolormesh=<matplotlib.collections.QuadMesh object at 0x7f17cceacac0>, cbar=None, text=[]),\n",
       " [StairsArtists(stairs=<matplotlib.patches.StepPatch object at 0x7f17ccec7190>, errorbar=<ErrorbarContainer object of 3 artists>, legend_artist=<ErrorbarContainer object of 3 artists>)],\n",
       " [StairsArtists(stairs=<matplotlib.patches.StepPatch object at 0x7f17cce803a0>, errorbar=<ErrorbarContainer object of 3 artists>, legend_artist=<ErrorbarContainer object of 3 artists>)])"
      ]
     },
     "execution_count": 12,
     "metadata": {},
     "output_type": "execute_result"
    },
    {
     "data": {
      "image/png": "[encoded data removed]",
      "text/plain": [
       "<Figure size 432x288 with 3 Axes>"
      ]
     },
     "metadata": {
      "needs_background": "light"
     },
     "output_type": "display_data"
    }
   ],
   "source": [
    "out[sample_name][\"hists\"][\"lj_pt_type\"][\"2mu2e\", :, :].plot2d_full()"
   ]
  },
  {
   "cell_type": "code",
   "execution_count": 13,
   "id": "4e16e4ff-5f57-402b-ac86-467462e14a3c",
   "metadata": {},
   "outputs": [
    {
     "data": {
      "image/png": "[encoded data removed]",
      "text/plain": [
       "<Figure size 432x288 with 1 Axes>"
      ]
     },
     "metadata": {
      "needs_background": "light"
     },
     "output_type": "display_data"
    }
   ],
   "source": [
    "lj_type_names = {\n",
    "    2 :\"PF Electron\",\n",
    "    3 :\"PF Muon\",\n",
    "    4 :\"PF Photon\",\n",
    "    8 :\"DSA Muon\",\n",
    "}\n",
    "out[sample_name][\"hists\"][\"lj_pt_type\"][\"2mu2e\", :, :].stack(\"lj_type\").plot(stack=True, histtype=\"fill\")\n",
    "plt.legend(lj_type_names.values())\n",
    "plt.show()"
   ]
  },
  {
   "cell_type": "code",
   "execution_count": 14,
   "id": "51b1a519-d431-4993-8251-52848901a7b4",
   "metadata": {},
   "outputs": [
    {
     "data": {
      "text/plain": [
       "[StairsArtists(stairs=<matplotlib.patches.StepPatch object at 0x7f17ccd84160>, errorbar=<ErrorbarContainer object of 3 artists>, legend_artist=<ErrorbarContainer object of 3 artists>)]"
      ]
     },
     "execution_count": 14,
     "metadata": {},
     "output_type": "execute_result"
    },
    {
     "data": {
      "image/png": "[encoded data removed]",
      "text/plain": [
       "<Figure size 432x288 with 1 Axes>"
      ]
     },
     "metadata": {
      "needs_background": "light"
     },
     "output_type": "display_data"
    }
   ],
   "source": [
    "out[sample_name][\"hists\"][\"lj_charge\"][\"2mu2e\", :].plot1d()"
   ]
  },
  {
   "cell_type": "code",
   "execution_count": 15,
   "id": "d7fe5327-02ed-44d1-9261-23643544edb8",
   "metadata": {},
   "outputs": [
    {
     "name": "stdout",
     "output_type": "stream",
     "text": [
      "[2, 1, 2, 2, 1, 2, 2, 3, 2, 2, 2, 0, 2, 3, ... 0, 2, 2, 2, 3, 2, 2, 1, 1, 1, 3, 3, 1]\n",
      "[2, 1, 2, 2, 1, 2, 2, 3, 2, 2, 2, 0, 2, 3, ... 0, 2, 2, 2, 3, 2, 2, 1, 1, 1, 3, 3, 1]\n"
     ]
    }
   ],
   "source": [
    "ljs = events.ljsource\n",
    "#ljs = ak.mask(ljs, ak.num(ljs) >= 2)\n",
    "ljs = ljs[ak.argsort(ljs.p4.pt, ascending=False)]\n",
    "ljs.p4.pt[ak.num(ljs) >= 2, 1]\n",
    "print(ak.num(ljs.p4.pt))\n",
    "print(ak.num(ljs[\"type\"]))"
   ]
  },
  {
   "cell_type": "code",
   "execution_count": 16,
   "id": "767bfadd-b79e-40dc-8d9d-79342f81cc79",
   "metadata": {},
   "outputs": [
    {
     "data": {
      "text/plain": [
       "[StairsArtists(stairs=<matplotlib.patches.StepPatch object at 0x7f17ccd0f6a0>, errorbar=<ErrorbarContainer object of 3 artists>, legend_artist=<ErrorbarContainer object of 3 artists>),\n",
       " StairsArtists(stairs=<matplotlib.patches.StepPatch object at 0x7f17cccccc10>, errorbar=<ErrorbarContainer object of 3 artists>, legend_artist=<ErrorbarContainer object of 3 artists>)]"
      ]
     },
     "execution_count": 16,
     "metadata": {},
     "output_type": "execute_result"
    },
    {
     "data": {
      "image/png": "[encoded data removed]",
      "text/plain": [
       "<Figure size 432x288 with 1 Axes>"
      ]
     },
     "metadata": {
      "needs_background": "light"
     },
     "output_type": "display_data"
    }
   ],
   "source": [
    "out[sample_name][\"hists\"][\"lj_0_pt\"].plot1d()"
   ]
  },
  {
   "cell_type": "code",
   "execution_count": 17,
   "id": "00782d1a-835d-426c-9791-fd68eba38b18",
   "metadata": {},
   "outputs": [
    {
     "data": {
      "text/plain": [
       "[StairsArtists(stairs=<matplotlib.patches.StepPatch object at 0x7f17ccbee100>, errorbar=<ErrorbarContainer object of 3 artists>, legend_artist=<ErrorbarContainer object of 3 artists>),\n",
       " StairsArtists(stairs=<matplotlib.patches.StepPatch object at 0x7f17ccc287f0>, errorbar=<ErrorbarContainer object of 3 artists>, legend_artist=<ErrorbarContainer object of 3 artists>)]"
      ]
     },
     "execution_count": 17,
     "metadata": {},
     "output_type": "execute_result"
    },
    {
     "data": {
      "image/png": "[encoded data removed]",
      "text/plain": [
       "<Figure size 432x288 with 1 Axes>"
      ]
     },
     "metadata": {
      "needs_background": "light"
     },
     "output_type": "display_data"
    }
   ],
   "source": [
    "out[sample_name][\"hists\"][\"lj_1_pt\"].plot1d()"
   ]
  }
 ],
 "metadata": {
  "kernelspec": {
   "display_name": "Python 3 (ipykernel)",
   "language": "python",
   "name": "python3"
  },
  "language_info": {
   "codemirror_mode": {
    "name": "ipython",
    "version": 3
   },
   "file_extension": ".py",
   "mimetype": "text/x-python",
   "name": "python",
   "nbconvert_exporter": "python",
   "pygments_lexer": "ipython3",
   "version": "3.8.13"
  }
 },
 "nbformat": 4,
 "nbformat_minor": 5
}
