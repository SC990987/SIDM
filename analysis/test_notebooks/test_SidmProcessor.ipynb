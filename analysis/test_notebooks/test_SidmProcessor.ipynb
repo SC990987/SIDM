{
 "cells": [
  {
   "cell_type": "code",
   "execution_count": 90,
   "id": "89c5030d-129d-4b89-9e23-682d190477df",
   "metadata": {},
   "outputs": [
    {
     "data": {
      "text/plain": [
       "<module 'analysis.tools.sidm_processor' from '/home/cms-jovyan/SIDM/analysis/test_notebooks/../../analysis/tools/sidm_processor.py'>"
      ]
     },
     "execution_count": 90,
     "metadata": {},
     "output_type": "execute_result"
    }
   ],
   "source": [
    "# python\n",
    "import sys\n",
    "import os\n",
    "import importlib\n",
    "# columnar analysis\n",
    "from coffea.nanoevents import NanoEventsFactory\n",
    "import awkward as ak\n",
    "# local\n",
    "sys.path.insert(1, os.path.join(sys.path[0], '../..')) # fixme: there must be a better way to handle this...\n",
    "from analysis.tools import ffschema, sidm_processor\n",
    "# always reload local modules to pick up changes during development\n",
    "importlib.reload(ffschema)\n",
    "importlib.reload(sidm_processor)"
   ]
  },
  {
   "cell_type": "code",
   "execution_count": 91,
   "id": "dcf88a93-3471-4aba-b1cd-e4effbe503ff",
   "metadata": {},
   "outputs": [],
   "source": [
    "sample_dir = \"root://xcache//store/group/lpcmetx/SIDM/ffNtupleV4/2018/\"\n",
    "sample_name = \"SIDM_XXTo2ATo2Mu2E_mXX-100_mA-1p2_ctau-9p6\"\n",
    "sample_file = f\"{sample_dir}/{sample_name}_TuneCP5_13TeV-madgraph-pythia8/RunIIAutumn18DRPremix-102X_upgrade2018_realistic_v15-v1/210326_161703/0000/ffNtuple_1.root\"\n",
    "\n",
    "events = NanoEventsFactory.from_root(\n",
    "    sample_file,\n",
    "    treepath='ffNtuplizer/ffNtuple',\n",
    "    schemaclass=ffschema.FFSchema,\n",
    "    metadata = {\n",
    "        \"sample\" : sample_name, \n",
    "    },\n",
    ").events()"
   ]
  },
  {
   "cell_type": "code",
   "execution_count": 92,
   "id": "352319b4-065d-41ef-8caf-9f89eb04e06b",
   "metadata": {},
   "outputs": [
    {
     "data": {
      "text/plain": [
       "['rho', 'z', 'isFake', 'ndof', 'normChi2']"
      ]
     },
     "execution_count": 92,
     "metadata": {},
     "output_type": "execute_result"
    }
   ],
   "source": [
    "events.pv.fields"
   ]
  },
  {
   "cell_type": "code",
   "execution_count": 93,
   "id": "d67db205-7dc5-42b8-b10c-e6e7cbc7602a",
   "metadata": {},
   "outputs": [],
   "source": [
    "p = sidm_processor.SidmProcessor()\n",
    "out = p.process(events)"
   ]
  },
  {
   "cell_type": "code",
   "execution_count": 94,
   "id": "ca854db5-d501-4497-aad0-242b7eaac0b0",
   "metadata": {},
   "outputs": [
    {
     "data": {
      "text/plain": [
       "{'SIDM_XXTo2ATo2Mu2E_mXX-100_mA-1p2_ctau-9p6': {'cutflow': <analysis.tools.cutflow.Cutflow at 0x7fd7a7afe760>,\n",
       "  'hists': {'pv_n': Hist(Regular(100, 0, 100, name='pv_n', label='pv_n'), storage=Int64()) # Sum: 18359.0,\n",
       "   'pv_ndof': Hist(Regular(20, 0, 20, name='pv_ndof', label='pv_ndof'), storage=Int64()) # Sum: 206795.0 (480188.0 with flow),\n",
       "   'pv_z': Hist(Regular(100, -50, 50, name='pv_z', label='pv_z'), storage=Double()) # Sum: 480188.0,\n",
       "   'pv_rho': Hist(Regular(100, -0.5, 0.5, name='pv_rho', label='pv_rho'), storage=Double()) # Sum: 480188.0,\n",
       "   'lj_n': Hist(Regular(10, 0, 10, name='lj_n', label='lj_n'), storage=Int64()) # Sum: 18359.0,\n",
       "   'lj_charge': Hist(Regular(10, -5, 5, name='lj_charge', label='lj_charge'), storage=Int64()) # Sum: 37568.0,\n",
       "   'lj_type': Hist(Regular(10, 0, 10, name='lj_type', label='lj_type'), storage=Int64()) # Sum: 37568.0,\n",
       "   'lj_pt': Hist(Regular(100, 0, 100, name='lj_pt', label='lj_pt'), storage=Double()) # Sum: 37440.0 (37568.0 with flow),\n",
       "   'lj_0_pt': Hist(Regular(100, 0, 100, name='lj_0_pt', label='lj_0_pt'), storage=Double()) # Sum: 17859.0 (17987.0 with flow),\n",
       "   'lj_1_pt': Hist(Regular(100, 0, 100, name='lj_1_pt', label='lj_1_pt'), storage=Double()) # Sum: 14905.0,\n",
       "   'lj_2_pt': Hist(Regular(100, 0, 100, name='lj_2_pt', label='lj_2_pt'), storage=Double()) # Sum: 4320.0,\n",
       "   'lj_type2_pt': Hist(Regular(100, 0, 100, name='lj_type2_pt', label='lj_type2_pt'), storage=Double()) # Sum: 1630.0 (1632.0 with flow),\n",
       "   'lj_type3_pt': Hist(Regular(100, 0, 100, name='lj_type3_pt', label='lj_type3_pt'), storage=Double()) # Sum: 26964.0 (27025.0 with flow),\n",
       "   'lj_type4_pt': Hist(Regular(100, 0, 100, name='lj_type4_pt', label='lj_type4_pt'), storage=Double()) # Sum: 3570.0 (3597.0 with flow),\n",
       "   'lj_type8_pt': Hist(Regular(100, 0, 100, name='lj_type8_pt', label='lj_type8_pt'), storage=Double()) # Sum: 5276.0 (5314.0 with flow),\n",
       "   'lj_eta': Hist(Regular(100, -3, 3, name='lj_eta', label='lj_eta'), storage=Double()) # Sum: 37568.0,\n",
       "   'lj_phi': Hist(Regular(100, -3.14, 3.14, name='lj_phi', label='lj_phi'), storage=Double()) # Sum: 37551.0 (37568.0 with flow)}}}"
      ]
     },
     "execution_count": 94,
     "metadata": {},
     "output_type": "execute_result"
    }
   ],
   "source": [
    "out"
   ]
  },
  {
   "cell_type": "code",
   "execution_count": 95,
   "id": "521d5a1c-4c3b-4818-8431-dc90e16d2692",
   "metadata": {},
   "outputs": [
    {
     "data": {
      "text/plain": [
       "[StairsArtists(stairs=<matplotlib.patches.StepPatch object at 0x7fd7a7afe2e0>, errorbar=<ErrorbarContainer object of 3 artists>, legend_artist=<ErrorbarContainer object of 3 artists>)]"
      ]
     },
     "execution_count": 95,
     "metadata": {},
     "output_type": "execute_result"
    },
    {
     "data": {
      "image/png": "[encoded data removed]",
      "text/plain": [
       "<Figure size 432x288 with 1 Axes>"
      ]
     },
     "metadata": {
      "needs_background": "light"
     },
     "output_type": "display_data"
    }
   ],
   "source": [
    "out[sample_name][\"hists\"][\"pv_z\"].plot1d()"
   ]
  },
  {
   "cell_type": "code",
   "execution_count": 96,
   "id": "c1c998d6-835f-4cb4-a302-3a44b33b359f",
   "metadata": {},
   "outputs": [
    {
     "name": "stdout",
     "output_type": "stream",
     "text": [
      "cut name        passing individual cut    passing all cuts\n",
      "------------  ------------------------  ------------------\n",
      "No selection                     18359               18359\n",
      "PV filter                        18359               18359\n",
      "Cosmic veto                      18359               18359\n"
     ]
    }
   ],
   "source": [
    "out[sample_name][\"cutflow\"].print_table()"
   ]
  },
  {
   "cell_type": "code",
   "execution_count": 97,
   "id": "9f33a190-18e4-4cb0-82dd-86f3a8d5676a",
   "metadata": {
    "tags": []
   },
   "outputs": [
    {
     "data": {
      "text/plain": [
       "[StairsArtists(stairs=<matplotlib.patches.StepPatch object at 0x7fd7a7a2e9d0>, errorbar=<ErrorbarContainer object of 3 artists>, legend_artist=<ErrorbarContainer object of 3 artists>)]"
      ]
     },
     "execution_count": 97,
     "metadata": {},
     "output_type": "execute_result"
    },
    {
     "data": {
      "image/png": "[encoded data removed]",
      "text/plain": [
       "<Figure size 432x288 with 1 Axes>"
      ]
     },
     "metadata": {
      "needs_background": "light"
     },
     "output_type": "display_data"
    }
   ],
   "source": [
    "out[sample_name][\"hists\"][\"lj_n\"].plot1d()"
   ]
  },
  {
   "cell_type": "code",
   "execution_count": 98,
   "id": "a3b6e43d-5708-449c-a5ee-a241ab0a6cf4",
   "metadata": {},
   "outputs": [
    {
     "data": {
      "text/plain": [
       "[StairsArtists(stairs=<matplotlib.patches.StepPatch object at 0x7fd7a799e220>, errorbar=<ErrorbarContainer object of 3 artists>, legend_artist=<ErrorbarContainer object of 3 artists>)]"
      ]
     },
     "execution_count": 98,
     "metadata": {},
     "output_type": "execute_result"
    },
    {
     "data": {
      "image/png": "[encoded data removed]",
      "text/plain": [
       "<Figure size 432x288 with 1 Axes>"
      ]
     },
     "metadata": {
      "needs_background": "light"
     },
     "output_type": "display_data"
    }
   ],
   "source": [
    "out[sample_name][\"hists\"][\"lj_type\"].plot1d()"
   ]
  },
  {
   "cell_type": "code",
   "execution_count": 99,
   "id": "7c068c61-84a3-40a0-b158-79e2e3cafc89",
   "metadata": {},
   "outputs": [
    {
     "data": {
      "text/plain": [
       "[StairsArtists(stairs=<matplotlib.patches.StepPatch object at 0x7fd7a79177c0>, errorbar=<ErrorbarContainer object of 3 artists>, legend_artist=<ErrorbarContainer object of 3 artists>)]"
      ]
     },
     "execution_count": 99,
     "metadata": {},
     "output_type": "execute_result"
    },
    {
     "data": {
      "image/png": "[encoded data removed]",
      "text/plain": [
       "<Figure size 432x288 with 1 Axes>"
      ]
     },
     "metadata": {
      "needs_background": "light"
     },
     "output_type": "display_data"
    }
   ],
   "source": [
    "out[sample_name][\"hists\"][\"lj_eta\"].plot1d()"
   ]
  },
  {
   "cell_type": "code",
   "execution_count": 100,
   "id": "9f476a39-3df3-4ed9-98f2-4da08fcf3d6d",
   "metadata": {},
   "outputs": [
    {
     "data": {
      "text/plain": [
       "[StairsArtists(stairs=<matplotlib.patches.StepPatch object at 0x7fd7a78b3100>, errorbar=<ErrorbarContainer object of 3 artists>, legend_artist=<ErrorbarContainer object of 3 artists>)]"
      ]
     },
     "execution_count": 100,
     "metadata": {},
     "output_type": "execute_result"
    },
    {
     "data": {
      "image/png": "[encoded data removed]",
      "text/plain": [
       "<Figure size 432x288 with 1 Axes>"
      ]
     },
     "metadata": {
      "needs_background": "light"
     },
     "output_type": "display_data"
    }
   ],
   "source": [
    "out[sample_name][\"hists\"][\"lj_pt\"].plot1d()"
   ]
  },
  {
   "cell_type": "code",
   "execution_count": 101,
   "id": "4822489c-ef73-441e-988f-340183172a11",
   "metadata": {},
   "outputs": [
    {
     "data": {
      "text/plain": [
       "[StairsArtists(stairs=<matplotlib.patches.StepPatch object at 0x7fd7a77c4f10>, errorbar=<ErrorbarContainer object of 3 artists>, legend_artist=<ErrorbarContainer object of 3 artists>)]"
      ]
     },
     "execution_count": 101,
     "metadata": {},
     "output_type": "execute_result"
    },
    {
     "data": {
      "image/png": "[encoded data removed]",
      "text/plain": [
       "<Figure size 432x288 with 1 Axes>"
      ]
     },
     "metadata": {
      "needs_background": "light"
     },
     "output_type": "display_data"
    }
   ],
   "source": [
    "out[sample_name][\"hists\"][\"lj_type2_pt\"].plot1d()"
   ]
  },
  {
   "cell_type": "code",
   "execution_count": 102,
   "id": "75837fb6-c964-4853-8593-e3963ff3d45a",
   "metadata": {},
   "outputs": [
    {
     "data": {
      "text/plain": [
       "[StairsArtists(stairs=<matplotlib.patches.StepPatch object at 0x7fd7a7770400>, errorbar=<ErrorbarContainer object of 3 artists>, legend_artist=<ErrorbarContainer object of 3 artists>)]"
      ]
     },
     "execution_count": 102,
     "metadata": {},
     "output_type": "execute_result"
    },
    {
     "data": {
      "image/png": "[encoded data removed]",
      "text/plain": [
       "<Figure size 432x288 with 1 Axes>"
      ]
     },
     "metadata": {
      "needs_background": "light"
     },
     "output_type": "display_data"
    }
   ],
   "source": [
    "out[sample_name][\"hists\"][\"lj_type3_pt\"].plot1d()"
   ]
  },
  {
   "cell_type": "code",
   "execution_count": 103,
   "id": "8a59a749-ead1-4f41-b5ab-a69ab77597c2",
   "metadata": {},
   "outputs": [
    {
     "data": {
      "text/plain": [
       "[StairsArtists(stairs=<matplotlib.patches.StepPatch object at 0x7fd7a7684b20>, errorbar=<ErrorbarContainer object of 3 artists>, legend_artist=<ErrorbarContainer object of 3 artists>)]"
      ]
     },
     "execution_count": 103,
     "metadata": {},
     "output_type": "execute_result"
    },
    {
     "data": {
      "image/png": "[encoded data removed]",
      "text/plain": [
       "<Figure size 432x288 with 1 Axes>"
      ]
     },
     "metadata": {
      "needs_background": "light"
     },
     "output_type": "display_data"
    }
   ],
   "source": [
    "out[sample_name][\"hists\"][\"lj_type4_pt\"].plot1d()"
   ]
  },
  {
   "cell_type": "code",
   "execution_count": 104,
   "id": "4b751914-cd68-404c-8e7b-4bcd2129c490",
   "metadata": {},
   "outputs": [
    {
     "data": {
      "text/plain": [
       "[StairsArtists(stairs=<matplotlib.patches.StepPatch object at 0x7fd7a795b5e0>, errorbar=<ErrorbarContainer object of 3 artists>, legend_artist=<ErrorbarContainer object of 3 artists>)]"
      ]
     },
     "execution_count": 104,
     "metadata": {},
     "output_type": "execute_result"
    },
    {
     "data": {
      "image/png": "[encoded data removed]",
      "text/plain": [
       "<Figure size 432x288 with 1 Axes>"
      ]
     },
     "metadata": {
      "needs_background": "light"
     },
     "output_type": "display_data"
    }
   ],
   "source": [
    "out[sample_name][\"hists\"][\"lj_type8_pt\"].plot1d()"
   ]
  },
  {
   "cell_type": "code",
   "execution_count": 105,
   "id": "51b1a519-d431-4993-8251-52848901a7b4",
   "metadata": {},
   "outputs": [
    {
     "data": {
      "text/plain": [
       "[StairsArtists(stairs=<matplotlib.patches.StepPatch object at 0x7fd7a75b0e50>, errorbar=<ErrorbarContainer object of 3 artists>, legend_artist=<ErrorbarContainer object of 3 artists>)]"
      ]
     },
     "execution_count": 105,
     "metadata": {},
     "output_type": "execute_result"
    },
    {
     "data": {
      "image/png": "[encoded data removed]",
      "text/plain": [
       "<Figure size 432x288 with 1 Axes>"
      ]
     },
     "metadata": {
      "needs_background": "light"
     },
     "output_type": "display_data"
    }
   ],
   "source": [
    "out[sample_name][\"hists\"][\"lj_charge\"].plot1d()"
   ]
  },
  {
   "cell_type": "code",
   "execution_count": 106,
   "id": "d7fe5327-02ed-44d1-9261-23643544edb8",
   "metadata": {},
   "outputs": [
    {
     "name": "stdout",
     "output_type": "stream",
     "text": [
      "[2, 1, 2, 2, 1, 2, 2, 3, 2, 2, 2, 0, 2, 3, ... 0, 2, 2, 2, 3, 2, 2, 1, 1, 1, 3, 3, 1]\n",
      "[2, 1, 2, 2, 1, 2, 2, 3, 2, 2, 2, 0, 2, 3, ... 0, 2, 2, 2, 3, 2, 2, 1, 1, 1, 3, 3, 1]\n"
     ]
    }
   ],
   "source": [
    "ljs = events.ljsource\n",
    "#ljs = ak.mask(ljs, ak.num(ljs) >= 2)\n",
    "ljs = ljs[ak.argsort(ljs.p4.pt, ascending=False)]\n",
    "ljs.p4.pt[ak.num(ljs) >= 2, 1]\n",
    "print(ak.num(ljs.p4.pt))\n",
    "print(ak.num(ljs[\"type\"]))"
   ]
  },
  {
   "cell_type": "code",
   "execution_count": 107,
   "id": "767bfadd-b79e-40dc-8d9d-79342f81cc79",
   "metadata": {},
   "outputs": [
    {
     "data": {
      "text/plain": [
       "[StairsArtists(stairs=<matplotlib.patches.StepPatch object at 0x7fd7a764c370>, errorbar=<ErrorbarContainer object of 3 artists>, legend_artist=<ErrorbarContainer object of 3 artists>)]"
      ]
     },
     "execution_count": 107,
     "metadata": {},
     "output_type": "execute_result"
    },
    {
     "data": {
      "image/png": "[encoded data removed]",
      "text/plain": [
       "<Figure size 432x288 with 1 Axes>"
      ]
     },
     "metadata": {
      "needs_background": "light"
     },
     "output_type": "display_data"
    }
   ],
   "source": [
    "out[sample_name][\"hists\"][\"lj_0_pt\"].plot1d()"
   ]
  },
  {
   "cell_type": "code",
   "execution_count": 108,
   "id": "00782d1a-835d-426c-9791-fd68eba38b18",
   "metadata": {},
   "outputs": [
    {
     "data": {
      "text/plain": [
       "[StairsArtists(stairs=<matplotlib.patches.StepPatch object at 0x7fd7a773cb50>, errorbar=<ErrorbarContainer object of 3 artists>, legend_artist=<ErrorbarContainer object of 3 artists>)]"
      ]
     },
     "execution_count": 108,
     "metadata": {},
     "output_type": "execute_result"
    },
    {
     "data": {
      "image/png": "[encoded data removed]",
      "text/plain": [
       "<Figure size 432x288 with 1 Axes>"
      ]
     },
     "metadata": {
      "needs_background": "light"
     },
     "output_type": "display_data"
    }
   ],
   "source": [
    "out[sample_name][\"hists\"][\"lj_1_pt\"].plot1d()"
   ]
  },
  {
   "cell_type": "code",
   "execution_count": 109,
   "id": "5d5d3510-ef70-4dac-84c2-3c056305be92",
   "metadata": {},
   "outputs": [
    {
     "data": {
      "text/plain": [
       "[StairsArtists(stairs=<matplotlib.patches.StepPatch object at 0x7fd7a7462790>, errorbar=<ErrorbarContainer object of 3 artists>, legend_artist=<ErrorbarContainer object of 3 artists>)]"
      ]
     },
     "execution_count": 109,
     "metadata": {},
     "output_type": "execute_result"
    },
    {
     "data": {
      "image/png": "[encoded data removed]",
      "text/plain": [
       "<Figure size 432x288 with 1 Axes>"
      ]
     },
     "metadata": {
      "needs_background": "light"
     },
     "output_type": "display_data"
    }
   ],
   "source": [
    "out[sample_name][\"hists\"][\"lj_2_pt\"].plot1d()"
   ]
  },
  {
   "cell_type": "code",
   "execution_count": null,
   "id": "33b03715-8f51-4127-a4a8-2b32317cce4c",
   "metadata": {},
   "outputs": [],
   "source": []
  },
  {
   "cell_type": "code",
   "execution_count": null,
   "id": "26acc33d-05b9-4740-acc2-d1251ad282d5",
   "metadata": {},
   "outputs": [],
   "source": []
  }
 ],
 "metadata": {
  "kernelspec": {
   "display_name": "Python 3 (ipykernel)",
   "language": "python",
   "name": "python3"
  },
  "language_info": {
   "codemirror_mode": {
    "name": "ipython",
    "version": 3
   },
   "file_extension": ".py",
   "mimetype": "text/x-python",
   "name": "python",
   "nbconvert_exporter": "python",
   "pygments_lexer": "ipython3",
   "version": "3.8.13"
  }
 },
 "nbformat": 4,
 "nbformat_minor": 5
}
