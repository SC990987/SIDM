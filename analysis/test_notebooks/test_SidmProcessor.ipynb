{
 "cells": [
  {
   "cell_type": "code",
   "execution_count": 8,
   "id": "89c5030d-129d-4b89-9e23-682d190477df",
   "metadata": {},
   "outputs": [
    {
     "data": {
      "text/plain": [
       "<module 'analysis.tools.sidm_processor' from '/home/cms-jovyan/SIDM/analysis/test_notebooks/../../analysis/tools/sidm_processor.py'>"
      ]
     },
     "execution_count": 8,
     "metadata": {},
     "output_type": "execute_result"
    }
   ],
   "source": [
    "# python\n",
    "import sys\n",
    "import os\n",
    "import importlib\n",
    "# columnar analysis\n",
    "from coffea.nanoevents import NanoEventsFactory\n",
    "import awkward as ak\n",
    "# local\n",
    "sys.path.insert(1, os.path.join(sys.path[0], '../..')) # fixme: there must be a better way to handle this...\n",
    "from analysis.tools import ffschema, sidm_processor\n",
    "# always reload local modules to pick up changes during development\n",
    "importlib.reload(ffschema)\n",
    "importlib.reload(sidm_processor)"
   ]
  },
  {
   "cell_type": "code",
   "execution_count": 9,
   "id": "dcf88a93-3471-4aba-b1cd-e4effbe503ff",
   "metadata": {},
   "outputs": [],
   "source": [
    "sample_dir = \"root://xcache//store/group/lpcmetx/SIDM/ffNtupleV4/2018/\"\n",
    "sample_name = \"SIDM_XXTo2ATo2Mu2E_mXX-100_mA-1p2_ctau-9p6\"\n",
    "sample_file = f\"{sample_dir}/{sample_name}_TuneCP5_13TeV-madgraph-pythia8/RunIIAutumn18DRPremix-102X_upgrade2018_realistic_v15-v1/210326_161703/0000/ffNtuple_1.root\"\n",
    "\n",
    "events = NanoEventsFactory.from_root(\n",
    "    sample_file,\n",
    "    treepath='ffNtuplizer/ffNtuple',\n",
    "    schemaclass=ffschema.FFSchema,\n",
    "    metadata = {\n",
    "        \"sample\" : sample_name, \n",
    "    },\n",
    ").events()"
   ]
  },
  {
   "cell_type": "code",
   "execution_count": 10,
   "id": "352319b4-065d-41ef-8caf-9f89eb04e06b",
   "metadata": {},
   "outputs": [
    {
     "data": {
      "text/plain": [
       "<Array [True, True, True, ... True, True, True] type='18359 * bool[parameters={\"...'>"
      ]
     },
     "execution_count": 10,
     "metadata": {},
     "output_type": "execute_result"
    }
   ],
   "source": [
    "events.cosmicveto.result"
   ]
  },
  {
   "cell_type": "code",
   "execution_count": 11,
   "id": "d67db205-7dc5-42b8-b10c-e6e7cbc7602a",
   "metadata": {},
   "outputs": [],
   "source": [
    "p = sidm_processor.SidmProcessor()\n",
    "out = p.process(events)"
   ]
  },
  {
   "cell_type": "code",
   "execution_count": 12,
   "id": "ca854db5-d501-4497-aad0-242b7eaac0b0",
   "metadata": {},
   "outputs": [
    {
     "data": {
      "text/plain": [
       "{'SIDM_XXTo2ATo2Mu2E_mXX-100_mA-1p2_ctau-9p6': {'cutflow': <analysis.tools.cutflow.Cutflow at 0x7f0e2336e4c0>,\n",
       "  'hists': {'pv_z': Hist(Regular(100, -50, 50, name='pv_z', label='pv_z'), storage=Double()) # Sum: 480188.0,\n",
       "   'pv_rho': Hist(Regular(100, -0.5, 0.5, name='pv_rho', label='pv_rho'), storage=Double()) # Sum: 480188.0}}}"
      ]
     },
     "execution_count": 12,
     "metadata": {},
     "output_type": "execute_result"
    }
   ],
   "source": [
    "out"
   ]
  },
  {
   "cell_type": "code",
   "execution_count": 13,
   "id": "521d5a1c-4c3b-4818-8431-dc90e16d2692",
   "metadata": {},
   "outputs": [
    {
     "data": {
      "text/plain": [
       "[StairsArtists(stairs=<matplotlib.patches.StepPatch object at 0x7f0e23300490>, errorbar=<ErrorbarContainer object of 3 artists>, legend_artist=<ErrorbarContainer object of 3 artists>)]"
      ]
     },
     "execution_count": 13,
     "metadata": {},
     "output_type": "execute_result"
    },
    {
     "data": {
      "image/png": "[encoded data removed]",
      "text/plain": [
       "<Figure size 432x288 with 1 Axes>"
      ]
     },
     "metadata": {
      "needs_background": "light"
     },
     "output_type": "display_data"
    }
   ],
   "source": [
    "out[sample_name][\"hists\"][\"pv_z\"].plot1d()"
   ]
  },
  {
   "cell_type": "code",
   "execution_count": 14,
   "id": "c1c998d6-835f-4cb4-a302-3a44b33b359f",
   "metadata": {},
   "outputs": [
    {
     "name": "stdout",
     "output_type": "stream",
     "text": [
      "cut name        passing individual cut    passing all cuts\n",
      "------------  ------------------------  ------------------\n",
      "No selection                     18359               18359\n",
      "PV filter                        18359               18359\n",
      "Cosmic veto                      18359               18359\n"
     ]
    }
   ],
   "source": [
    "out[sample_name][\"cutflow\"].print_table()"
   ]
  },
  {
   "cell_type": "code",
   "execution_count": null,
   "id": "9f33a190-18e4-4cb0-82dd-86f3a8d5676a",
   "metadata": {},
   "outputs": [],
   "source": []
  }
 ],
 "metadata": {
  "kernelspec": {
   "display_name": "Python 3 (ipykernel)",
   "language": "python",
   "name": "python3"
  },
  "language_info": {
   "codemirror_mode": {
    "name": "ipython",
    "version": 3
   },
   "file_extension": ".py",
   "mimetype": "text/x-python",
   "name": "python",
   "nbconvert_exporter": "python",
   "pygments_lexer": "ipython3",
   "version": "3.8.13"
  }
 },
 "nbformat": 4,
 "nbformat_minor": 5
}
