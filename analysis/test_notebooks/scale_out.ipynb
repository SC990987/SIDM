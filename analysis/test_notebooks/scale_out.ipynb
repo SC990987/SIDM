{
 "cells": [
  {
   "cell_type": "code",
   "execution_count": 1,
   "id": "570b7671-e4bf-4e86-9466-988a3d473645",
   "metadata": {
    "tags": []
   },
   "outputs": [
    {
     "data": {
      "text/plain": [
       "<module 'analysis.tools.sidm_processor' from '/home/cms-jovyan/SIDM/analysis/test_notebooks/../../analysis/tools/sidm_processor.py'>"
      ]
     },
     "execution_count": 1,
     "metadata": {},
     "output_type": "execute_result"
    }
   ],
   "source": [
    "# python\n",
    "import sys\n",
    "import os\n",
    "import importlib\n",
    "# columnar analysis\n",
    "from coffea import processor\n",
    "import awkward as ak\n",
    "from dask.distributed import Client\n",
    "#plotting\n",
    "import matplotlib.pyplot as plt\n",
    "# local\n",
    "sys.path.insert(1, os.path.join(sys.path[0], '../..')) # fixme: there must be a better way to handle this...\n",
    "from analysis.tools import ffschema, sidm_processor\n",
    "# always reload local modules to pick up changes during development\n",
    "importlib.reload(ffschema)\n",
    "importlib.reload(sidm_processor)"
   ]
  },
  {
   "cell_type": "code",
   "execution_count": 2,
   "id": "dd87dd4a-b2f0-44ba-9e7a-1a9e8729b5a5",
   "metadata": {},
   "outputs": [],
   "source": [
    "from dask.distributed import Client\n",
    "\n",
    "client = Client(\"tls://bryan-2ecardwell-40cern-2ech.dask.cmsaf-prod.flatiron.hollandhpc.org:8786\")"
   ]
  },
  {
   "cell_type": "code",
   "execution_count": 3,
   "id": "88b5bd44-d69b-406e-8323-9a3c08851261",
   "metadata": {},
   "outputs": [
    {
     "data": {
      "application/vnd.jupyter.widget-view+json": {
       "model_id": "86d93f22ede94ff3a5304d9bda4763a8",
       "version_major": 2,
       "version_minor": 0
      },
      "text/plain": [
       "Output()"
      ]
     },
     "metadata": {},
     "output_type": "display_data"
    },
    {
     "name": "stdout",
     "output_type": "stream",
     "text": [
      "<analysis.tools.sidm_processor.SidmProcessor object at 0x7f4810439a60>\n",
      "<analysis.tools.sidm_processor.SidmProcessor object at 0x7f4810439a60>\n"
     ]
    },
    {
     "data": {
      "text/html": [
       "<pre style=\"white-space:pre;overflow-x:auto;line-height:normal;font-family:Menlo,'DejaVu Sans Mono',consolas,'Courier New',monospace\"></pre>\n"
      ],
      "text/plain": []
     },
     "metadata": {},
     "output_type": "display_data"
    },
    {
     "data": {
      "text/html": [
       "<pre style=\"white-space:pre;overflow-x:auto;line-height:normal;font-family:Menlo,'DejaVu Sans Mono',consolas,'Courier New',monospace\">\n",
       "</pre>\n"
      ],
      "text/plain": [
       "\n"
      ]
     },
     "metadata": {},
     "output_type": "display_data"
    },
    {
     "data": {
      "application/vnd.jupyter.widget-view+json": {
       "model_id": "6254bd1475774bcea7f97cf20cd60a53",
       "version_major": 2,
       "version_minor": 0
      },
      "text/plain": [
       "Output()"
      ]
     },
     "metadata": {},
     "output_type": "display_data"
    },
    {
     "data": {
      "text/html": [
       "<pre style=\"white-space:pre;overflow-x:auto;line-height:normal;font-family:Menlo,'DejaVu Sans Mono',consolas,'Courier New',monospace\"></pre>\n"
      ],
      "text/plain": []
     },
     "metadata": {},
     "output_type": "display_data"
    },
    {
     "data": {
      "text/html": [
       "<pre style=\"white-space:pre;overflow-x:auto;line-height:normal;font-family:Menlo,'DejaVu Sans Mono',consolas,'Courier New',monospace\">\n",
       "</pre>\n"
      ],
      "text/plain": [
       "\n"
      ]
     },
     "metadata": {},
     "output_type": "display_data"
    }
   ],
   "source": [
    "fileset = {\n",
    "    \"2Mu2E_100GeV_1p2GeV_9p6mm\": [\n",
    "        \"root://xcache//store/group/lpcmetx/SIDM/ffNtupleV4/2018/SIDM_XXTo2ATo2Mu2E_mXX-100_mA-1p2_ctau-9p6_TuneCP5_13TeV-madgraph-pythia8/RunIIAutumn18DRPremix-102X_upgrade2018_realistic_v15-v1/210326_161703/0000/ffNtuple_1.root\",\n",
    "    ],\n",
    "}\n",
    "\n",
    "runner = processor.Runner(\n",
    "    executor=processor.IterativeExecutor(),\n",
    "    #executor=processor.FuturesExecutor(),\n",
    "    #executor=processor.DaskExecutor(client=client),\n",
    "    schema=ffschema.FFSchema,\n",
    ")\n",
    "\n",
    "p = sidm_processor.SidmProcessor(\n",
    "    [\n",
    "        \"4mu\",\n",
    "        \"2mu2e\",\n",
    "    ],\n",
    "    [\"base\"]\n",
    ")\n",
    "\n",
    "# test if processor is serializable\n",
    "import coffea.util as coffea_util\n",
    "import pickle\n",
    "coffea_util.save(p, \"processor.coffea\")\n",
    "print(coffea_util.load(\"processor.coffea\"))\n",
    "with open(\"test.pickle\", \"wb\") as f:\n",
    "    pickle.dump(p, f)\n",
    "with open(\"test.pickle\", \"rb\") as f:\n",
    "    print(pickle.load(f))\n",
    "\n",
    "output = runner.run(fileset, treename=\"ffNtuplizer/ffNtuple\", processor_instance=p)"
   ]
  },
  {
   "cell_type": "code",
   "execution_count": 4,
   "id": "ff22d0dc-9add-4ed0-9de9-c69b2c8f775a",
   "metadata": {},
   "outputs": [],
   "source": [
    "out = output[\"out\"]"
   ]
  },
  {
   "cell_type": "code",
   "execution_count": 5,
   "id": "06240c1a-d4cd-408a-b558-24048c828aa1",
   "metadata": {},
   "outputs": [
    {
     "name": "stdout",
     "output_type": "stream",
     "text": [
      "cut name        individual cut N    all cut N\n",
      "------------  ------------------  -----------\n",
      "No selection             11518.1      11518.1\n",
      "PV filter                11518.1      11518.1\n",
      "Cosmic veto              11518.1      11518.1\n",
      ">=2 LJs                   1433.1       1433.1\n",
      "2mu2e                     1324.4       1324.4\n"
     ]
    }
   ],
   "source": [
    "out[\"2Mu2E_100GeV_1p2GeV_9p6mm\"][\"cutflow\"][\"2mu2e\"].print_table()"
   ]
  },
  {
   "cell_type": "code",
   "execution_count": 6,
   "id": "9ea2d681-fa02-47aa-aed9-a550976affe1",
   "metadata": {},
   "outputs": [
    {
     "name": "stderr",
     "output_type": "stream",
     "text": [
      "/home/cms-jovyan/SIDM/analysis/test_notebooks/../../analysis/tools/cutflow.py:104: RuntimeWarning: invalid value encountered in float_scalars\n",
      "  self.f_ind = self.n_ind / self.n_evts\n",
      "/home/cms-jovyan/SIDM/analysis/test_notebooks/../../analysis/tools/cutflow.py:105: RuntimeWarning: invalid value encountered in float_scalars\n",
      "  self.f_all = self.n_all / self.n_evts\n",
      "/home/cms-jovyan/SIDM/analysis/test_notebooks/../../analysis/tools/cutflow.py:108: RuntimeWarning: invalid value encountered in float_scalars\n",
      "  self.f_mar = self.n_all / self.cutflow.flow[-1].n_all\n",
      "/home/cms-jovyan/SIDM/analysis/test_notebooks/../../analysis/tools/cutflow.py:104: RuntimeWarning: invalid value encountered in true_divide\n",
      "  self.f_ind = self.n_ind / self.n_evts\n",
      "/home/cms-jovyan/SIDM/analysis/test_notebooks/../../analysis/tools/cutflow.py:105: RuntimeWarning: invalid value encountered in true_divide\n",
      "  self.f_all = self.n_all / self.n_evts\n",
      "/home/cms-jovyan/SIDM/analysis/test_notebooks/../../analysis/tools/cutflow.py:108: RuntimeWarning: invalid value encountered in true_divide\n",
      "  self.f_mar = self.n_all / self.cutflow.flow[-1].n_all\n",
      "/home/cms-jovyan/SIDM/analysis/test_notebooks/../../analysis/tools/cutflow.py:104: RuntimeWarning: invalid value encountered in double_scalars\n",
      "  self.f_ind = self.n_ind / self.n_evts\n",
      "/home/cms-jovyan/SIDM/analysis/test_notebooks/../../analysis/tools/cutflow.py:105: RuntimeWarning: invalid value encountered in double_scalars\n",
      "  self.f_all = self.n_all / self.n_evts\n",
      "/home/cms-jovyan/SIDM/analysis/test_notebooks/../../analysis/tools/cutflow.py:108: RuntimeWarning: invalid value encountered in double_scalars\n",
      "  self.f_mar = self.n_all / self.cutflow.flow[-1].n_all\n",
      "/home/cms-jovyan/SIDM/analysis/test_notebooks/../../analysis/tools/cutflow.py:108: RuntimeWarning: divide by zero encountered in double_scalars\n",
      "  self.f_mar = self.n_all / self.cutflow.flow[-1].n_all\n"
     ]
    }
   ],
   "source": [
    "from coffea.processor import accumulate\n",
    "double_out = accumulate([output[\"out\"], output[\"out\"]])"
   ]
  },
  {
   "cell_type": "code",
   "execution_count": 7,
   "id": "46d5875d-9584-46af-b2f6-2196adc15e8d",
   "metadata": {},
   "outputs": [
    {
     "name": "stdout",
     "output_type": "stream",
     "text": [
      "cut name        individual cut N    all cut N\n",
      "------------  ------------------  -----------\n",
      "No selection                 0.0          0.0\n",
      "PV filter                23036.3      23036.3\n",
      "Cosmic veto              23036.3      23036.3\n",
      ">=2 LJs                   2866.1       2866.1\n",
      "2mu2e                     2648.9       2648.9\n"
     ]
    }
   ],
   "source": [
    "double_out[\"2Mu2E_100GeV_1p2GeV_9p6mm\"][\"cutflow\"][\"2mu2e\"].print_table()"
   ]
  }
 ],
 "metadata": {
  "kernelspec": {
   "display_name": "Python 3 (ipykernel)",
   "language": "python",
   "name": "python3"
  },
  "language_info": {
   "codemirror_mode": {
    "name": "ipython",
    "version": 3
   },
   "file_extension": ".py",
   "mimetype": "text/x-python",
   "name": "python",
   "nbconvert_exporter": "python",
   "pygments_lexer": "ipython3",
   "version": "3.8.13"
  }
 },
 "nbformat": 4,
 "nbformat_minor": 5
}
