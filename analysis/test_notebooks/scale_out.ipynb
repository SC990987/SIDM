{
 "cells": [
  {
   "cell_type": "code",
   "execution_count": 1,
   "id": "570b7671-e4bf-4e86-9466-988a3d473645",
   "metadata": {
    "tags": []
   },
   "outputs": [
    {
     "data": {
      "text/plain": [
       "<module 'analysis.tools.sidm_processor' from '/home/cms-jovyan/SIDM/analysis/test_notebooks/../../analysis/tools/sidm_processor.py'>"
      ]
     },
     "execution_count": 1,
     "metadata": {},
     "output_type": "execute_result"
    }
   ],
   "source": [
    "# python\n",
    "import sys\n",
    "import os\n",
    "import importlib\n",
    "# columnar analysis\n",
    "from coffea import processor\n",
    "import coffea.util as coffea_util\n",
    "import awkward as ak\n",
    "from dask.distributed import Client\n",
    "#plotting\n",
    "import matplotlib.pyplot as plt\n",
    "# local\n",
    "sys.path.insert(1, os.path.join(sys.path[0], '../..')) # fixme: there must be a better way to handle this...\n",
    "from analysis.tools import ffschema, sidm_processor\n",
    "# always reload local modules to pick up changes during development\n",
    "importlib.reload(ffschema)\n",
    "importlib.reload(sidm_processor)"
   ]
  },
  {
   "cell_type": "code",
   "execution_count": 8,
   "id": "88b5bd44-d69b-406e-8323-9a3c08851261",
   "metadata": {},
   "outputs": [
    {
     "data": {
      "application/vnd.jupyter.widget-view+json": {
       "model_id": "fda46132e9c645ffb1d5f90f26813673",
       "version_major": 2,
       "version_minor": 0
      },
      "text/plain": [
       "Output()"
      ]
     },
     "metadata": {},
     "output_type": "display_data"
    },
    {
     "data": {
      "text/html": [
       "<pre style=\"white-space:pre;overflow-x:auto;line-height:normal;font-family:Menlo,'DejaVu Sans Mono',consolas,'Courier New',monospace\"></pre>\n"
      ],
      "text/plain": []
     },
     "metadata": {},
     "output_type": "display_data"
    },
    {
     "data": {
      "text/html": [
       "<pre style=\"white-space:pre;overflow-x:auto;line-height:normal;font-family:Menlo,'DejaVu Sans Mono',consolas,'Courier New',monospace\">\n",
       "</pre>\n"
      ],
      "text/plain": [
       "\n"
      ]
     },
     "metadata": {},
     "output_type": "display_data"
    }
   ],
   "source": [
    "fileset = {\n",
    "    \"2Mu2E_100GeV_1p2GeV_9p6mm\": [\n",
    "        \"root://xcache//store/group/lpcmetx/SIDM/ffNtupleV4/2018/SIDM_XXTo2ATo2Mu2E_mXX-100_mA-1p2_ctau-9p6_TuneCP5_13TeV-madgraph-pythia8/RunIIAutumn18DRPremix-102X_upgrade2018_realistic_v15-v1/210326_161703/0000/ffNtuple_1.root\",\n",
    "    ],\n",
    "}\n",
    "\n",
    "runner = processor.Runner(\n",
    "    #executor=processor.DaskExecutor(client=Client(\"tls://localhost:8786\")),\n",
    "    executor=processor.IterativeExecutor(),\n",
    "    schema=ffschema.FFSchema,\n",
    ")\n",
    "\n",
    "p = sidm_processor.SidmProcessor(\n",
    "    [\n",
    "        \"4mu\",\n",
    "        \"2mu2e\",\n",
    "    ],\n",
    "    [\"base\"]\n",
    ")\n",
    "\n",
    "output = runner.run(fileset, treename=\"ffNtuplizer/ffNtuple\", processor_instance=p)"
   ]
  },
  {
   "cell_type": "code",
   "execution_count": 9,
   "id": "9a0f311d-bea1-4055-a3f9-34fd6cd198aa",
   "metadata": {},
   "outputs": [
    {
     "data": {
      "text/plain": [
       "{'out': {'2Mu2E_100GeV_1p2GeV_9p6mm': {'cutflow': {'4mu': <analysis.tools.cutflow.Cutflow at 0x7f1020c186a0>,\n",
       "    '2mu2e': <analysis.tools.cutflow.Cutflow at 0x7f10104bdcd0>},\n",
       "   'hists': {'pv_n': Hist(\n",
       "      StrCategory(['4mu', '2mu2e'], name='channel', label='channel'),\n",
       "      Regular(50, 0, 100, name='pv_n', label='pv_n'),\n",
       "      storage=Weight()) # Sum: WeightedSum(value=1431.94, variance=2029.17),\n",
       "    'pv_ndof': Hist(\n",
       "      StrCategory(['4mu', '2mu2e'], name='channel', label='channel'),\n",
       "      Regular(25, 0, 100, name='pv_ndof', label='pv_ndof'),\n",
       "      storage=Weight()) # Sum: WeightedSum(value=35537.6, variance=52587.1) (WeightedSum(value=38312.7, variance=56727.3) with flow),\n",
       "    'pv_z': Hist(\n",
       "      StrCategory(['4mu', '2mu2e'], name='channel', label='channel'),\n",
       "      Regular(100, -50, 50, name='pv_z', label='pv_z'),\n",
       "      storage=Weight()) # Sum: WeightedSum(value=38312.7, variance=56727.3),\n",
       "    'pv_rho': Hist(\n",
       "      StrCategory(['4mu', '2mu2e'], name='channel', label='channel'),\n",
       "      Regular(100, -0.5, 0.5, name='pv_rho', label='pv_rho'),\n",
       "      storage=Weight()) # Sum: WeightedSum(value=38312.7, variance=56727.3),\n",
       "    'lj_n': Hist(\n",
       "      StrCategory(['4mu', '2mu2e'], name='channel', label='channel'),\n",
       "      Integer(0, 10, name='lj_n', label='lj_n'),\n",
       "      storage=Weight()) # Sum: WeightedSum(value=1431.94, variance=2029.17),\n",
       "    'lj_charge': Hist(\n",
       "      StrCategory(['4mu', '2mu2e'], name='channel', label='channel'),\n",
       "      Integer(-5, 5, name='lj_charge', label='lj_charge'),\n",
       "      storage=Weight()) # Sum: WeightedSum(value=2863.89, variance=4058.34),\n",
       "    'lj_pt_type': Hist(\n",
       "      StrCategory(['4mu', '2mu2e'], name='channel', label='channel'),\n",
       "      Regular(100, 0, 100, name='lj_pt', label='Lepton jet pT [GeV]'),\n",
       "      IntCategory([2, 3, 4, 8], name='lj_type', label='lj_type'),\n",
       "      storage=Weight()) # Sum: WeightedSum(value=2836.04, variance=4006.08) (WeightedSum(value=2863.89, variance=4058.34) with flow),\n",
       "    'lj0_pt': Hist(\n",
       "      StrCategory(['4mu', '2mu2e'], name='channel', label='channel'),\n",
       "      Regular(100, 0, 100, name='lj_pt', label='Lepton jet pT [GeV]'),\n",
       "      storage=Weight()) # Sum: WeightedSum(value=1404.1, variance=1976.91) (WeightedSum(value=1431.94, variance=2029.17) with flow),\n",
       "    'lj1_pt': Hist(\n",
       "      StrCategory(['4mu', '2mu2e'], name='channel', label='channel'),\n",
       "      Regular(100, 0, 100, name='lj_pt', label='Lepton jet pT [GeV]'),\n",
       "      storage=Weight()) # Sum: WeightedSum(value=1431.94, variance=2029.17),\n",
       "    'lj_eta_phi': Hist(\n",
       "      StrCategory(['4mu', '2mu2e'], name='channel', label='channel'),\n",
       "      Regular(50, -3, 3, name='lj_eta', label='lj_eta'),\n",
       "      Regular(50, -3.14159, 3.14159, name='lj_phi', label='lj_phi'),\n",
       "      storage=Weight()) # Sum: WeightedSum(value=2863.89, variance=4058.34),\n",
       "    'lj_lj_absdphi': Hist(\n",
       "      StrCategory(['4mu', '2mu2e'], name='channel', label='channel'),\n",
       "      Regular(50, 0, 6.28319, name='ljlj_absdphi', label='ljlj_absdphi'),\n",
       "      storage=Weight()) # Sum: WeightedSum(value=1431.94, variance=2029.17),\n",
       "    'lj_lj_invmass': Hist(\n",
       "      StrCategory(['4mu', '2mu2e'], name='channel', label='channel'),\n",
       "      Regular(100, 0, 2000, name='ljlj_mass', label='ljlj_mass'),\n",
       "      storage=Weight()) # Sum: WeightedSum(value=1431.94, variance=2029.17),\n",
       "    'lj_lj_invmass_lowRange': Hist(\n",
       "      StrCategory(['4mu', '2mu2e'], name='channel', label='channel'),\n",
       "      Regular(100, 0, 500, name='ljlj_mass', label='ljlj_mass'),\n",
       "      storage=Weight()) # Sum: WeightedSum(value=1431.94, variance=2029.17)}}},\n",
       " 'processed': {WorkItem(dataset='2Mu2E_100GeV_1p2GeV_9p6mm', filename='root://xcache//store/group/lpcmetx/SIDM/ffNtupleV4/2018/SIDM_XXTo2ATo2Mu2E_mXX-100_mA-1p2_ctau-9p6_TuneCP5_13TeV-madgraph-pythia8/RunIIAutumn18DRPremix-102X_upgrade2018_realistic_v15-v1/210326_161703/0000/ffNtuple_1.root', treename='ffNtuplizer/ffNtuple', entrystart=0, entrystop=18359, fileuuid=b'9[\\xb6\\xf8\\x8eO\\x11\\xeb\\xaf\\xf4\\x9bI\\x9e\\x86\\xbe\\xef', usermeta={})},\n",
       " 'exception': 0}"
      ]
     },
     "execution_count": 9,
     "metadata": {},
     "output_type": "execute_result"
    }
   ],
   "source": [
    "output"
   ]
  },
  {
   "cell_type": "code",
   "execution_count": null,
   "id": "46d5875d-9584-46af-b2f6-2196adc15e8d",
   "metadata": {},
   "outputs": [],
   "source": []
  }
 ],
 "metadata": {
  "kernelspec": {
   "display_name": "Python 3 (ipykernel)",
   "language": "python",
   "name": "python3"
  },
  "language_info": {
   "codemirror_mode": {
    "name": "ipython",
    "version": 3
   },
   "file_extension": ".py",
   "mimetype": "text/x-python",
   "name": "python",
   "nbconvert_exporter": "python",
   "pygments_lexer": "ipython3",
   "version": "3.8.13"
  }
 },
 "nbformat": 4,
 "nbformat_minor": 5
}
